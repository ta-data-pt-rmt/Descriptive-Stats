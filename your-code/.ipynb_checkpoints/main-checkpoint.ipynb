{
 "cells": [
  {
   "cell_type": "markdown",
   "metadata": {},
   "source": [
    "# Understanding Descriptive Statistics\n",
    "\n",
    "Import the necessary libraries here:"
   ]
  },
  {
   "cell_type": "code",
   "execution_count": 1,
   "metadata": {},
   "outputs": [],
   "source": [
    "# Libraries\n",
    "import numpy as np\n",
    "import matplotlib.pyplot as plt\n",
    "import pandas as pd\n",
    "import random"
   ]
  },
  {
   "cell_type": "markdown",
   "metadata": {},
   "source": [
    "## Challenge 1\n",
    "#### 1.- Define a function that simulates rolling a dice 10 times. Save the information in a dataframe.\n",
    "**Hint**: you can use the *choices* function from module *random* to help you with the simulation."
   ]
  },
  {
   "cell_type": "code",
   "execution_count": 2,
   "metadata": {},
   "outputs": [
    {
     "name": "stdout",
     "output_type": "stream",
     "text": [
      "   Dice_Roll  Value\n",
      "0          1      1\n",
      "1          2      4\n",
      "2          3      5\n",
      "3          4      6\n",
      "4          5      1\n",
      "5          6      3\n",
      "6          7      1\n",
      "7          8      2\n",
      "8          9      1\n",
      "9         10      6\n"
     ]
    }
   ],
   "source": [
    "# your code here\n",
    "\n",
    "def dicerollsim ():\n",
    "    dice_rolls = random.choices(range(1,7), k=10)\n",
    "    df = pd.DataFrame({'Dice_Roll': range(1,11),'Value': dice_rolls })\n",
    "\n",
    "    return df\n",
    "\n",
    "dice_roll_df = dicerollsim()\n",
    "\n",
    "print(dice_roll_df)"
   ]
  },
  {
   "cell_type": "markdown",
   "metadata": {},
   "source": [
    "#### 2.- Plot the results sorted by value."
   ]
  },
  {
   "cell_type": "code",
   "execution_count": 3,
   "metadata": {},
   "outputs": [
    {
     "data": {
      "text/html": [
       "<div>\n",
       "<style scoped>\n",
       "    .dataframe tbody tr th:only-of-type {\n",
       "        vertical-align: middle;\n",
       "    }\n",
       "\n",
       "    .dataframe tbody tr th {\n",
       "        vertical-align: top;\n",
       "    }\n",
       "\n",
       "    .dataframe thead th {\n",
       "        text-align: right;\n",
       "    }\n",
       "</style>\n",
       "<table border=\"1\" class=\"dataframe\">\n",
       "  <thead>\n",
       "    <tr style=\"text-align: right;\">\n",
       "      <th></th>\n",
       "      <th>Dice_Roll</th>\n",
       "      <th>Value</th>\n",
       "    </tr>\n",
       "  </thead>\n",
       "  <tbody>\n",
       "    <tr>\n",
       "      <th>0</th>\n",
       "      <td>1</td>\n",
       "      <td>1</td>\n",
       "    </tr>\n",
       "    <tr>\n",
       "      <th>4</th>\n",
       "      <td>5</td>\n",
       "      <td>1</td>\n",
       "    </tr>\n",
       "    <tr>\n",
       "      <th>6</th>\n",
       "      <td>7</td>\n",
       "      <td>1</td>\n",
       "    </tr>\n",
       "    <tr>\n",
       "      <th>8</th>\n",
       "      <td>9</td>\n",
       "      <td>1</td>\n",
       "    </tr>\n",
       "    <tr>\n",
       "      <th>7</th>\n",
       "      <td>8</td>\n",
       "      <td>2</td>\n",
       "    </tr>\n",
       "    <tr>\n",
       "      <th>5</th>\n",
       "      <td>6</td>\n",
       "      <td>3</td>\n",
       "    </tr>\n",
       "    <tr>\n",
       "      <th>1</th>\n",
       "      <td>2</td>\n",
       "      <td>4</td>\n",
       "    </tr>\n",
       "    <tr>\n",
       "      <th>2</th>\n",
       "      <td>3</td>\n",
       "      <td>5</td>\n",
       "    </tr>\n",
       "    <tr>\n",
       "      <th>3</th>\n",
       "      <td>4</td>\n",
       "      <td>6</td>\n",
       "    </tr>\n",
       "    <tr>\n",
       "      <th>9</th>\n",
       "      <td>10</td>\n",
       "      <td>6</td>\n",
       "    </tr>\n",
       "  </tbody>\n",
       "</table>\n",
       "</div>"
      ],
      "text/plain": [
       "   Dice_Roll  Value\n",
       "0          1      1\n",
       "4          5      1\n",
       "6          7      1\n",
       "8          9      1\n",
       "7          8      2\n",
       "5          6      3\n",
       "1          2      4\n",
       "2          3      5\n",
       "3          4      6\n",
       "9         10      6"
      ]
     },
     "execution_count": 3,
     "metadata": {},
     "output_type": "execute_result"
    }
   ],
   "source": [
    "# your code here\n",
    "#first sort the DF by value\n",
    "\n",
    "dice_roll_sorted = dice_roll_df.sort_values(by= 'Value')\n",
    "\n",
    "dice_roll_sorted"
   ]
  },
  {
   "cell_type": "code",
   "execution_count": 4,
   "metadata": {},
   "outputs": [
    {
     "data": {
      "image/png": "[encoded data removed]",
      "text/plain": [
       "<Figure size 640x480 with 1 Axes>"
      ]
     },
     "metadata": {},
     "output_type": "display_data"
    }
   ],
   "source": [
    "# Plot the sorted results\n",
    "plt.bar(dice_roll_sorted['Dice_Roll'], dice_roll_sorted['Value'])\n",
    "plt.xlabel('Dice_Roll')\n",
    "plt.ylabel('Value')\n",
    "plt.title('Dice Roll Results Sorted by Value')\n",
    "plt.show()"
   ]
  },
  {
   "cell_type": "markdown",
   "metadata": {},
   "source": [
    "#### 3.- Calculate the frequency distribution and plot it. What is the relation between this plot and the plot above? Describe it with words."
   ]
  },
  {
   "cell_type": "code",
   "execution_count": 5,
   "metadata": {},
   "outputs": [],
   "source": [
    "value_counts = dice_roll_sorted['Value'].value_counts().sort_index()"
   ]
  },
  {
   "cell_type": "code",
   "execution_count": null,
   "metadata": {},
   "outputs": [],
   "source": [
    "\"\"\"\n",
    "your comments here\n",
    "\"\"\""
   ]
  },
  {
   "cell_type": "markdown",
   "metadata": {},
   "source": [
    "## Challenge 2\n",
    "Now, using the dice results obtained in *challenge 1*, your are going to define some functions that will help you calculate the mean of your data in two different ways, the median and the four quartiles. \n",
    "\n",
    "#### 1.- Define a function that computes the mean by summing all the observations and dividing by the total number of observations. You are not allowed to use any methods or functions that directly calculate the mean value. "
   ]
  },
  {
   "cell_type": "code",
   "execution_count": 6,
   "metadata": {},
   "outputs": [
    {
     "data": {
      "text/plain": [
       "3.0"
      ]
     },
     "execution_count": 6,
     "metadata": {},
     "output_type": "execute_result"
    }
   ],
   "source": [
    "def calculate_mean(data):\n",
    "    # Sum all the observations\n",
    "    total_sum = sum(data)\n",
    "    \n",
    "    # Count the number of observations\n",
    "    count = len(data)\n",
    "    \n",
    "    # Calculate the mean\n",
    "    mean = total_sum / count if count > 0 else 0\n",
    "\n",
    "    return mean\n",
    "\n",
    "# Calculate the mean of the 'Value' column\n",
    "mean_value = calculate_mean(dice_roll_sorted['Value'])\n",
    "mean_value\n"
   ]
  },
  {
   "cell_type": "markdown",
   "metadata": {},
   "source": [
    "#### 2.- First, calculate the frequency distribution. Then, calculate the mean using the values of the frequency distribution you've just computed. You are not allowed to use any methods or functions that directly calculate the mean value. "
   ]
  },
  {
   "cell_type": "code",
   "execution_count": 7,
   "metadata": {},
   "outputs": [
    {
     "name": "stderr",
     "output_type": "stream",
     "text": [
      "C:\\Users\\carmo\\AppData\\Local\\Temp\\ipykernel_19584\\1800913377.py:7: FutureWarning: iteritems is deprecated and will be removed in a future version. Use .items instead.\n",
      "  for value, frequency in freq_distribution.iteritems():\n"
     ]
    },
    {
     "data": {
      "text/plain": [
       "3.0"
      ]
     },
     "execution_count": 7,
     "metadata": {},
     "output_type": "execute_result"
    }
   ],
   "source": [
    "def calculate_mean_frequency(freq_distribution):\n",
    "    # Initialize total_sum and total_count\n",
    "    total_sum = 0\n",
    "    total_count = 0\n",
    "    \n",
    "    # Loop over the frequency distribution (index is value, value is frequency)\n",
    "    for value, frequency in freq_distribution.iteritems():\n",
    "        total_sum += value * frequency\n",
    "        total_count += frequency\n",
    "\n",
    "    # Calculate the mean\n",
    "    mean = total_sum / total_count if total_count > 0 else 0\n",
    "\n",
    "    return mean\n",
    "\n",
    "# Calculate the mean of the 'Value' column using the frequency distribution\n",
    "mean_value_frequency = calculate_mean_frequency(value_counts)\n",
    "mean_value_frequency\n"
   ]
  },
  {
   "cell_type": "markdown",
   "metadata": {},
   "source": [
    "#### 3.- Define a function to calculate the median. You are not allowed to use any methods or functions that directly calculate the median value. \n",
    "**Hint**: you might need to define two computation cases depending on the number of observations used to calculate the median."
   ]
  },
  {
   "cell_type": "code",
   "execution_count": 9,
   "metadata": {},
   "outputs": [
    {
     "data": {
      "text/plain": [
       "2.5"
      ]
     },
     "execution_count": 9,
     "metadata": {},
     "output_type": "execute_result"
    }
   ],
   "source": [
    "def calculate_median(data):\n",
    "    # Sort the data\n",
    "    sorted_data = sorted(data)\n",
    "    \n",
    "    # Count the number of observations\n",
    "    count = len(sorted_data)\n",
    "\n",
    "    # Check if the count is even or odd\n",
    "    if count % 2 == 0:\n",
    "        # If even, the median is the average of the two middle numbers\n",
    "        median = (sorted_data[count // 2] + sorted_data[count // 2 - 1]) / 2\n",
    "    else:\n",
    "        # If odd, the median is the middle number\n",
    "        median = sorted_data[count // 2]\n",
    "\n",
    "    return median\n",
    "\n",
    "# Calculate the median of the 'Value' column\n",
    "median_value = calculate_median(dice_roll_sorted['Value'])\n",
    "median_value\n"
   ]
  },
  {
   "cell_type": "markdown",
   "metadata": {},
   "source": [
    "#### 4.- Define a function to calculate the four quartiles. You can use the function you defined above to compute the median but you are not allowed to use any methods or functions that directly calculate the quartiles. "
   ]
  },
  {
   "cell_type": "code",
   "execution_count": null,
   "metadata": {},
   "outputs": [],
   "source": [
    "# your code here"
   ]
  },
  {
   "cell_type": "markdown",
   "metadata": {},
   "source": [
    "## Challenge 3\n",
    "Read the csv `roll_the_dice_hundred.csv` from the `data` folder.\n",
    "#### 1.- Sort the values and plot them. What do you see?"
   ]
  },
  {
   "cell_type": "code",
   "execution_count": 13,
   "metadata": {},
   "outputs": [
    {
     "data": {
      "text/html": [
       "<div>\n",
       "<style scoped>\n",
       "    .dataframe tbody tr th:only-of-type {\n",
       "        vertical-align: middle;\n",
       "    }\n",
       "\n",
       "    .dataframe tbody tr th {\n",
       "        vertical-align: top;\n",
       "    }\n",
       "\n",
       "    .dataframe thead th {\n",
       "        text-align: right;\n",
       "    }\n",
       "</style>\n",
       "<table border=\"1\" class=\"dataframe\">\n",
       "  <thead>\n",
       "    <tr style=\"text-align: right;\">\n",
       "      <th></th>\n",
       "      <th>Unnamed: 0</th>\n",
       "      <th>roll</th>\n",
       "      <th>value</th>\n",
       "    </tr>\n",
       "  </thead>\n",
       "  <tbody>\n",
       "    <tr>\n",
       "      <th>0</th>\n",
       "      <td>0</td>\n",
       "      <td>0</td>\n",
       "      <td>1</td>\n",
       "    </tr>\n",
       "    <tr>\n",
       "      <th>1</th>\n",
       "      <td>1</td>\n",
       "      <td>1</td>\n",
       "      <td>2</td>\n",
       "    </tr>\n",
       "    <tr>\n",
       "      <th>2</th>\n",
       "      <td>2</td>\n",
       "      <td>2</td>\n",
       "      <td>6</td>\n",
       "    </tr>\n",
       "    <tr>\n",
       "      <th>3</th>\n",
       "      <td>3</td>\n",
       "      <td>3</td>\n",
       "      <td>1</td>\n",
       "    </tr>\n",
       "    <tr>\n",
       "      <th>4</th>\n",
       "      <td>4</td>\n",
       "      <td>4</td>\n",
       "      <td>6</td>\n",
       "    </tr>\n",
       "  </tbody>\n",
       "</table>\n",
       "</div>"
      ],
      "text/plain": [
       "   Unnamed: 0  roll  value\n",
       "0           0     0      1\n",
       "1           1     1      2\n",
       "2           2     2      6\n",
       "3           3     3      1\n",
       "4           4     4      6"
      ]
     },
     "execution_count": 13,
     "metadata": {},
     "output_type": "execute_result"
    }
   ],
   "source": [
    "roll_100 = pd.read_csv(\"C:\\\\Users\\\\carmo\\\\Desktop\\\\IronHack\\\\Week 3\\\\Day 3\\\\Descriptive-Stats\\\\data\\\\roll_the_dice_hundred.csv\")\n",
    "\n",
    "roll_100.head()\n"
   ]
  },
  {
   "cell_type": "code",
   "execution_count": 14,
   "metadata": {},
   "outputs": [],
   "source": [
    "roll_100_sorted = roll_100.sort_values(by= 'value')\n",
    "\n"
   ]
  },
  {
   "cell_type": "code",
   "execution_count": 17,
   "metadata": {},
   "outputs": [
    {
     "data": {
      "image/png": "[encoded data removed]",
      "text/plain": [
       "<Figure size 640x480 with 1 Axes>"
      ]
     },
     "metadata": {},
     "output_type": "display_data"
    }
   ],
   "source": [
    "# Plot the sorted results\n",
    "plt.bar(roll_100_sorted['value'], roll_100_sorted['roll'])\n",
    "plt.xlabel('value')\n",
    "plt.ylabel('roll')\n",
    "plt.title('Dice Roll Results Sorted by Value')\n",
    "plt.show()"
   ]
  },
  {
   "cell_type": "code",
   "execution_count": null,
   "metadata": {},
   "outputs": [],
   "source": [
    "\"\"\"\n",
    "your comments here\n",
    "\"\"\""
   ]
  },
  {
   "cell_type": "markdown",
   "metadata": {},
   "source": [
    "#### 2.- Using the functions you defined in *challenge 2*, calculate the mean value of the hundred dice rolls."
   ]
  },
  {
   "cell_type": "code",
   "execution_count": 18,
   "metadata": {},
   "outputs": [
    {
     "data": {
      "text/plain": [
       "3.74"
      ]
     },
     "execution_count": 18,
     "metadata": {},
     "output_type": "execute_result"
    }
   ],
   "source": [
    "mean_value_100 = calculate_mean(roll_100_sorted['value'])\n",
    "mean_value_100"
   ]
  },
  {
   "cell_type": "markdown",
   "metadata": {},
   "source": [
    "#### 3.- Now, calculate the frequency distribution.\n"
   ]
  },
  {
   "cell_type": "code",
   "execution_count": 20,
   "metadata": {},
   "outputs": [
    {
     "name": "stdout",
     "output_type": "stream",
     "text": [
      "1    12\n",
      "2    17\n",
      "3    14\n",
      "4    22\n",
      "5    12\n",
      "6    23\n",
      "Name: value, dtype: int64\n"
     ]
    }
   ],
   "source": [
    "value_counts_100 = roll_100_sorted['value'].value_counts().sort_index()\n",
    "print(value_counts_100)"
   ]
  },
  {
   "cell_type": "markdown",
   "metadata": {},
   "source": [
    "#### 4.- Plot the histogram. What do you see (shape, values...) ? How can you connect the mean value to the histogram? "
   ]
  },
  {
   "cell_type": "code",
   "execution_count": 21,
   "metadata": {},
   "outputs": [
    {
     "data": {
      "image/png": "[encoded data removed]",
      "text/plain": [
       "<Figure size 1000x600 with 1 Axes>"
      ]
     },
     "metadata": {},
     "output_type": "display_data"
    }
   ],
   "source": [
    "plt.figure(figsize=(10, 6))\n",
    "plt.bar(value_counts_100.index, value_counts_100.values, color='green', alpha=0.7)\n",
    "plt.xlabel('Value')\n",
    "plt.ylabel('Frequency')\n",
    "plt.title('Histogram of Dice Roll Values')\n",
    "plt.grid(axis='y')\n",
    "\n",
    "plt.show()"
   ]
  },
  {
   "cell_type": "code",
   "execution_count": null,
   "metadata": {},
   "outputs": [],
   "source": [
    "\"\"\"\n",
    "The value '6' appears to occur most frequently, while the values '3' and '5' occur least frequently. This distribution is expected, as the results of rolling a die are random.\n",
    "\"\"\""
   ]
  },
  {
   "cell_type": "markdown",
   "metadata": {},
   "source": [
    "#### 5.- Read the `roll_the_dice_thousand.csv` from the `data` folder. Plot the frequency distribution as you did before. Has anything changed? Why do you think it changed?"
   ]
  },
  {
   "cell_type": "code",
   "execution_count": 22,
   "metadata": {},
   "outputs": [
    {
     "data": {
      "text/html": [
       "<div>\n",
       "<style scoped>\n",
       "    .dataframe tbody tr th:only-of-type {\n",
       "        vertical-align: middle;\n",
       "    }\n",
       "\n",
       "    .dataframe tbody tr th {\n",
       "        vertical-align: top;\n",
       "    }\n",
       "\n",
       "    .dataframe thead th {\n",
       "        text-align: right;\n",
       "    }\n",
       "</style>\n",
       "<table border=\"1\" class=\"dataframe\">\n",
       "  <thead>\n",
       "    <tr style=\"text-align: right;\">\n",
       "      <th></th>\n",
       "      <th>Unnamed: 0</th>\n",
       "      <th>roll</th>\n",
       "      <th>value</th>\n",
       "    </tr>\n",
       "  </thead>\n",
       "  <tbody>\n",
       "    <tr>\n",
       "      <th>0</th>\n",
       "      <td>0</td>\n",
       "      <td>0</td>\n",
       "      <td>5</td>\n",
       "    </tr>\n",
       "    <tr>\n",
       "      <th>1</th>\n",
       "      <td>1</td>\n",
       "      <td>1</td>\n",
       "      <td>6</td>\n",
       "    </tr>\n",
       "    <tr>\n",
       "      <th>2</th>\n",
       "      <td>2</td>\n",
       "      <td>2</td>\n",
       "      <td>1</td>\n",
       "    </tr>\n",
       "    <tr>\n",
       "      <th>3</th>\n",
       "      <td>3</td>\n",
       "      <td>3</td>\n",
       "      <td>6</td>\n",
       "    </tr>\n",
       "    <tr>\n",
       "      <th>4</th>\n",
       "      <td>4</td>\n",
       "      <td>4</td>\n",
       "      <td>5</td>\n",
       "    </tr>\n",
       "  </tbody>\n",
       "</table>\n",
       "</div>"
      ],
      "text/plain": [
       "   Unnamed: 0  roll  value\n",
       "0           0     0      5\n",
       "1           1     1      6\n",
       "2           2     2      1\n",
       "3           3     3      6\n",
       "4           4     4      5"
      ]
     },
     "execution_count": 22,
     "metadata": {},
     "output_type": "execute_result"
    }
   ],
   "source": [
    "roll_1000 = pd.read_csv(\"C:\\\\Users\\\\carmo\\\\Desktop\\\\IronHack\\\\Week 3\\\\Day 3\\\\Descriptive-Stats\\\\data\\\\roll_the_dice_thousand.csv\")\n",
    "\n",
    "roll_1000.head()"
   ]
  },
  {
   "cell_type": "code",
   "execution_count": 23,
   "metadata": {},
   "outputs": [
    {
     "data": {
      "image/png": "[encoded data removed]",
      "text/plain": [
       "<Figure size 1000x600 with 1 Axes>"
      ]
     },
     "metadata": {},
     "output_type": "display_data"
    }
   ],
   "source": [
    "value_counts_dice_thousand = roll_1000['value'].value_counts().sort_index()\n",
    "\n",
    "# Create bar plot for frequency distribution\n",
    "plt.figure(figsize=(10, 6))\n",
    "plt.bar(value_counts_dice_thousand.index, value_counts_dice_thousand.values, color='purple', alpha=0.7)\n",
    "plt.xlabel('Value')\n",
    "plt.ylabel('Frequency')\n",
    "plt.title('Frequency Distribution of Dice Roll Values (1000 Rolls)')\n",
    "plt.grid(axis='y')\n",
    "\n",
    "plt.show()"
   ]
  },
  {
   "cell_type": "code",
   "execution_count": null,
   "metadata": {},
   "outputs": [],
   "source": [
    "\"\"\"\n",
    "All the possible resulst seem to even out, the greater the size of the sample, the more evenly distributed this values are.\n",
    "\"\"\""
   ]
  },
  {
   "cell_type": "markdown",
   "metadata": {},
   "source": [
    "## Challenge 4\n",
    "In the `data` folder of this repository you will find three different files with the prefix `ages_population`. These files contain information about a poll answered by a thousand people regarding their age. Each file corresponds to the poll answers in different neighbourhoods of Barcelona.\n",
    "\n",
    "#### 1.- Read the file `ages_population.csv`. Calculate the frequency distribution and plot it as we did during the lesson. Try to guess the range in which the mean and the standard deviation will be by looking at the plot. "
   ]
  },
  {
   "cell_type": "code",
   "execution_count": 24,
   "metadata": {},
   "outputs": [
    {
     "data": {
      "text/html": [
       "<div>\n",
       "<style scoped>\n",
       "    .dataframe tbody tr th:only-of-type {\n",
       "        vertical-align: middle;\n",
       "    }\n",
       "\n",
       "    .dataframe tbody tr th {\n",
       "        vertical-align: top;\n",
       "    }\n",
       "\n",
       "    .dataframe thead th {\n",
       "        text-align: right;\n",
       "    }\n",
       "</style>\n",
       "<table border=\"1\" class=\"dataframe\">\n",
       "  <thead>\n",
       "    <tr style=\"text-align: right;\">\n",
       "      <th></th>\n",
       "      <th>observation</th>\n",
       "    </tr>\n",
       "  </thead>\n",
       "  <tbody>\n",
       "    <tr>\n",
       "      <th>0</th>\n",
       "      <td>68.0</td>\n",
       "    </tr>\n",
       "    <tr>\n",
       "      <th>1</th>\n",
       "      <td>12.0</td>\n",
       "    </tr>\n",
       "    <tr>\n",
       "      <th>2</th>\n",
       "      <td>45.0</td>\n",
       "    </tr>\n",
       "    <tr>\n",
       "      <th>3</th>\n",
       "      <td>38.0</td>\n",
       "    </tr>\n",
       "    <tr>\n",
       "      <th>4</th>\n",
       "      <td>49.0</td>\n",
       "    </tr>\n",
       "  </tbody>\n",
       "</table>\n",
       "</div>"
      ],
      "text/plain": [
       "   observation\n",
       "0         68.0\n",
       "1         12.0\n",
       "2         45.0\n",
       "3         38.0\n",
       "4         49.0"
      ]
     },
     "execution_count": 24,
     "metadata": {},
     "output_type": "execute_result"
    }
   ],
   "source": [
    "ages_population= pd.read_csv(\"C:\\\\Users\\\\carmo\\\\Desktop\\\\IronHack\\\\Week 3\\\\Day 3\\\\Descriptive-Stats\\\\data\\\\ages_population.csv\")\n",
    "ages_population.head()"
   ]
  },
  {
   "cell_type": "code",
   "execution_count": 25,
   "metadata": {},
   "outputs": [
    {
     "data": {
      "image/png": "[encoded data removed]",
      "text/plain": [
       "<Figure size 1000x600 with 1 Axes>"
      ]
     },
     "metadata": {},
     "output_type": "display_data"
    }
   ],
   "source": [
    "# Calculate frequency distribution for the 'observation' column\n",
    "observation_counts = ages_population['observation'].value_counts().sort_index()\n",
    "\n",
    "# Create bar plot for frequency distribution\n",
    "plt.figure(figsize=(10, 6))\n",
    "plt.bar(observation_counts.index, observation_counts.values, color='orange', alpha=0.7)\n",
    "plt.xlabel('Age')\n",
    "plt.ylabel('Frequency')\n",
    "plt.title('Frequency Distribution of Age')\n",
    "plt.grid(axis='y')\n",
    "\n",
    "plt.show()"
   ]
  },
  {
   "cell_type": "code",
   "execution_count": null,
   "metadata": {},
   "outputs": [],
   "source": [
    "\"\"\"Based on this observation:\n",
    "\n",
    "The mean (average) age is likely to fall within the range of 35-40 years, as that is where the data is centered.\n",
    "The standard deviation, which measures the amount of variation or dispersion in the data, is likely to be around 10-15 years. This is because most of the data seems to fall within this range on either side of the mean\"\"\""
   ]
  },
  {
   "cell_type": "markdown",
   "metadata": {},
   "source": [
    "#### 2.- Calculate the exact mean and standard deviation and compare them with your guesses. Do they fall inside the ranges you guessed?"
   ]
  },
  {
   "cell_type": "code",
   "execution_count": 27,
   "metadata": {},
   "outputs": [
    {
     "data": {
      "text/plain": [
       "(36.56, 12.816499625976762)"
      ]
     },
     "execution_count": 27,
     "metadata": {},
     "output_type": "execute_result"
    }
   ],
   "source": [
    "# Calculate the mean and standard deviation of the 'observation' column\n",
    "mean_age = ages_population['observation'].mean()\n",
    "std_dev_age = ages_population['observation'].std()\n",
    "\n",
    "mean_age, std_dev_age\n"
   ]
  },
  {
   "cell_type": "code",
   "execution_count": null,
   "metadata": {},
   "outputs": [],
   "source": [
    "\"\"\"\n",
    "Comparing these values with our earlier estimates:\n",
    "\n",
    "The mean value does fall within the guessed range of 35-40 years.\n",
    "The standard deviation is also within the guessed range of 10-15 years.\n",
    "So, our estimates based on the frequency distribution plot were quite accurate.\n",
    "\"\"\""
   ]
  },
  {
   "cell_type": "markdown",
   "metadata": {},
   "source": [
    "#### 3.- Now read the file `ages_population2.csv` . Calculate the frequency distribution and plot it."
   ]
  },
  {
   "cell_type": "code",
   "execution_count": 28,
   "metadata": {},
   "outputs": [
    {
     "data": {
      "text/html": [
       "<div>\n",
       "<style scoped>\n",
       "    .dataframe tbody tr th:only-of-type {\n",
       "        vertical-align: middle;\n",
       "    }\n",
       "\n",
       "    .dataframe tbody tr th {\n",
       "        vertical-align: top;\n",
       "    }\n",
       "\n",
       "    .dataframe thead th {\n",
       "        text-align: right;\n",
       "    }\n",
       "</style>\n",
       "<table border=\"1\" class=\"dataframe\">\n",
       "  <thead>\n",
       "    <tr style=\"text-align: right;\">\n",
       "      <th></th>\n",
       "      <th>observation</th>\n",
       "    </tr>\n",
       "  </thead>\n",
       "  <tbody>\n",
       "    <tr>\n",
       "      <th>0</th>\n",
       "      <td>25.0</td>\n",
       "    </tr>\n",
       "    <tr>\n",
       "      <th>1</th>\n",
       "      <td>31.0</td>\n",
       "    </tr>\n",
       "    <tr>\n",
       "      <th>2</th>\n",
       "      <td>29.0</td>\n",
       "    </tr>\n",
       "    <tr>\n",
       "      <th>3</th>\n",
       "      <td>31.0</td>\n",
       "    </tr>\n",
       "    <tr>\n",
       "      <th>4</th>\n",
       "      <td>29.0</td>\n",
       "    </tr>\n",
       "  </tbody>\n",
       "</table>\n",
       "</div>"
      ],
      "text/plain": [
       "   observation\n",
       "0         25.0\n",
       "1         31.0\n",
       "2         29.0\n",
       "3         31.0\n",
       "4         29.0"
      ]
     },
     "execution_count": 28,
     "metadata": {},
     "output_type": "execute_result"
    }
   ],
   "source": [
    "ages_population2 = pd.read_csv(\"C:\\\\Users\\\\carmo\\\\Desktop\\\\IronHack\\\\Week 3\\\\Day 3\\\\Descriptive-Stats\\\\data\\\\ages_population2.csv\")\n",
    "ages_population2.head()"
   ]
  },
  {
   "cell_type": "code",
   "execution_count": 29,
   "metadata": {},
   "outputs": [
    {
     "data": {
      "image/png": "[encoded data removed]",
      "text/plain": [
       "<Figure size 1000x600 with 1 Axes>"
      ]
     },
     "metadata": {},
     "output_type": "display_data"
    }
   ],
   "source": [
    "# Calculate frequency distribution for the 'observation' column\n",
    "observation_counts2 = ages_population2['observation'].value_counts().sort_index()\n",
    "\n",
    "# Create bar plot for frequency distribution\n",
    "plt.figure(figsize=(10, 6))\n",
    "plt.bar(observation_counts2.index, observation_counts2.values, color='red', alpha=0.7)\n",
    "plt.xlabel('Age')\n",
    "plt.ylabel('Frequency')\n",
    "plt.title('Frequency Distribution of Age (Dataset 2)')\n",
    "plt.grid(axis='y')\n",
    "\n",
    "plt.show()\n"
   ]
  },
  {
   "cell_type": "markdown",
   "metadata": {},
   "source": [
    "####  4.- What do you see? Is there any difference with the frequency distribution in step 1?"
   ]
  },
  {
   "cell_type": "code",
   "execution_count": null,
   "metadata": {},
   "outputs": [],
   "source": [
    "\"\"\"\n",
    "In the first dataset (from 'ages_population.csv'), the age values were distributed in a bell-shaped curve (normal distribution) centered around 35-40 years, with a wide range of ages from around 0 to 70.\n",
    "\n",
    "In contrast, the second dataset (from 'ages_population2.csv') has a more narrow distribution, primarily covering ages from around 20 to 35. The data is still somewhat bell-shaped, but the peak is higher and narrower, indicating a lower spread in the data. The distribution is centered around 27-28 years, which is younger than the center of the distribution in the first dataset.\n",
    "\n",
    "These differences could suggest different population samples. For example, the second dataset might represent a population sample from a city with a younger demographic, while the first dataset might represent a more diverse or broader population sample.\"\"\""
   ]
  },
  {
   "cell_type": "markdown",
   "metadata": {},
   "source": [
    "#### 5.- Calculate the mean and standard deviation. Compare the results with the mean and standard deviation in step 2. What do you think?"
   ]
  },
  {
   "cell_type": "code",
   "execution_count": 30,
   "metadata": {},
   "outputs": [
    {
     "data": {
      "text/plain": [
       "(27.155, 2.969813932689186)"
      ]
     },
     "execution_count": 30,
     "metadata": {},
     "output_type": "execute_result"
    }
   ],
   "source": [
    "# Calculate the mean and standard deviation of the 'observation' column in the second dataset\n",
    "mean_age2 = ages_population2['observation'].mean()\n",
    "std_dev_age2 = ages_population2['observation'].std()\n",
    "\n",
    "mean_age2, std_dev_age2\n"
   ]
  },
  {
   "cell_type": "code",
   "execution_count": null,
   "metadata": {},
   "outputs": [],
   "source": [
    "\"\"\"\n",
    "Comparing these values with those from the first dataset:\n",
    "\n",
    "The mean age in the second dataset is lower than in the first dataset (27.16 vs 36.56 years), reflecting the younger age distribution we observed in the histogram.\n",
    "The standard deviation in the second dataset is also significantly lower than in the first dataset (2.97 vs 12.82 years), indicating that the ages in the second dataset are more closely clustered around the mean.\n",
    "The differences in the mean and standard deviation between the two datasets align with our observations from the histograms. The second dataset appears to represent a younger and less diverse age group compared to the first dataset.\"\"\""
   ]
  },
  {
   "cell_type": "markdown",
   "metadata": {},
   "source": [
    "## Challenge 5\n",
    "Now is the turn of `ages_population3.csv`.\n",
    "\n",
    "#### 1.- Read the file `ages_population3.csv`. Calculate the frequency distribution and plot it."
   ]
  },
  {
   "cell_type": "code",
   "execution_count": 32,
   "metadata": {},
   "outputs": [
    {
     "data": {
      "image/png": "[encoded data removed]",
      "text/plain": [
       "<Figure size 1000x600 with 1 Axes>"
      ]
     },
     "metadata": {},
     "output_type": "display_data"
    }
   ],
   "source": [
    "ages_population3 = pd.read_csv(\"C:\\\\Users\\\\carmo\\\\Desktop\\\\IronHack\\\\Week 3\\\\Day 3\\\\Descriptive-Stats\\\\data\\\\ages_population3.csv\")\n",
    "\n",
    "\n",
    "# Calculate frequency distribution for the 'observation' column\n",
    "observation_counts3 = ages_population3['observation'].value_counts().sort_index()\n",
    "\n",
    "# Create bar plot for frequency distribution\n",
    "plt.figure(figsize=(10, 6))\n",
    "plt.bar(observation_counts3.index, observation_counts3.values, color='red', alpha=0.7)\n",
    "plt.xlabel('Age')\n",
    "plt.ylabel('Frequency')\n",
    "plt.title('Frequency Distribution of Age (Dataset 3)')\n",
    "plt.grid(axis='y')\n",
    "\n",
    "plt.show()"
   ]
  },
  {
   "cell_type": "markdown",
   "metadata": {},
   "source": [
    "#### 2.- Calculate the mean and standard deviation. Compare the results with the plot in step 1. What is happening?"
   ]
  },
  {
   "cell_type": "code",
   "execution_count": 33,
   "metadata": {},
   "outputs": [
    {
     "data": {
      "text/plain": [
       "(41.989, 16.144705959865934)"
      ]
     },
     "execution_count": 33,
     "metadata": {},
     "output_type": "execute_result"
    }
   ],
   "source": [
    "# Calculate the mean and standard deviation of the 'observation' column in the third dataset\n",
    "mean_age3 = ages_population3['observation'].mean()\n",
    "std_dev_age3 = ages_population3['observation'].std()\n",
    "\n",
    "mean_age3, std_dev_age3"
   ]
  },
  {
   "cell_type": "code",
   "execution_count": 34,
   "metadata": {},
   "outputs": [
    {
     "data": {
      "text/plain": [
       "'\\nThe frequency distribution of age values for the third dataset shows that the data is not symmetric and has a slightly bimodal distribution, with one peak around 35 years and another around 67 years.\\n\\nThe exact mean (average) age for this dataset is approximately 41.99 years, and the standard deviation is approximately 16.14 years.\\n\\nCompared to the first two datasets, this one has a higher mean age, suggesting that it represents an older population. The larger standard deviation indicates a greater spread in the data, which is consistent with the broader and more varied distribution visible in the histogram. The presence of two peaks in the distribution suggests that there might be two distinct age groups within this population sample.'"
      ]
     },
     "execution_count": 34,
     "metadata": {},
     "output_type": "execute_result"
    }
   ],
   "source": [
    "\"\"\"\n",
    "The frequency distribution of age values for the third dataset shows that the data is not symmetric and has a slightly bimodal distribution, with one peak around 35 years and another around 67 years.\n",
    "\n",
    "The exact mean (average) age for this dataset is approximately 41.99 years, and the standard deviation is approximately 16.14 years.\n",
    "\n",
    "Compared to the first two datasets, this one has a higher mean age, suggesting that it represents an older population. The larger standard deviation indicates a greater spread in the data, which is consistent with the broader and more varied distribution visible in the histogram. The presence of two peaks in the distribution suggests that there might be two distinct age groups within this population sample.\"\"\""
   ]
  },
  {
   "cell_type": "markdown",
   "metadata": {},
   "source": [
    "#### 3.- Calculate the four quartiles. Use the results to explain your reasoning for question in step 2. How much of a difference is there between the median and the mean?"
   ]
  },
  {
   "cell_type": "code",
   "execution_count": 36,
   "metadata": {},
   "outputs": [
    {
     "data": {
      "text/plain": [
       "(30.0, 40.0, 53.0)"
      ]
     },
     "execution_count": 36,
     "metadata": {},
     "output_type": "execute_result"
    }
   ],
   "source": [
    "def calculate_quartiles_new(data):\n",
    "    # Sort the data\n",
    "    sorted_data = sorted(data)\n",
    "\n",
    "    # Calculate Q2 (median)\n",
    "    Q2 = calculate_median(sorted_data)\n",
    "\n",
    "    # Calculate indices for Q1 and Q3\n",
    "    mid_index = len(sorted_data) // 2\n",
    "    Q1_index = mid_index // 2\n",
    "    Q3_index = mid_index + Q1_index if len(sorted_data) % 2 == 0 else mid_index + Q1_index + 1\n",
    "\n",
    "    # Calculate Q1 and Q3\n",
    "    if len(sorted_data) % 2 == 0:  # even length\n",
    "        Q1 = (sorted_data[Q1_index] + sorted_data[Q1_index - 1]) / 2\n",
    "        Q3 = (sorted_data[Q3_index] + sorted_data[Q3_index - 1]) / 2\n",
    "    else:  # odd length\n",
    "        Q1 = sorted_data[Q1_index]\n",
    "        Q3 = sorted_data[Q3_index]\n",
    "\n",
    "    return Q1, Q2, Q3\n",
    "\n",
    "# Calculate the quartiles of the 'observation' column in the third dataset using the new function\n",
    "Q1_3_new, Q2_3_new, Q3_3_new = calculate_quartiles_new(ages_population3['observation'])\n",
    "Q1_3_new, Q2_3_new, Q3_3_new\n"
   ]
  },
  {
   "cell_type": "code",
   "execution_count": null,
   "metadata": {},
   "outputs": [],
   "source": [
    "\"\"\"\n",
    "your comments here\n",
    "\"\"\""
   ]
  },
  {
   "cell_type": "markdown",
   "metadata": {},
   "source": [
    "#### 4.- Calculate other percentiles that might be useful to give more arguments to your reasoning."
   ]
  },
  {
   "cell_type": "code",
   "execution_count": null,
   "metadata": {},
   "outputs": [],
   "source": [
    "# your code here"
   ]
  },
  {
   "cell_type": "code",
   "execution_count": null,
   "metadata": {},
   "outputs": [],
   "source": [
    "\"\"\"\n",
    "The difference between the mean (approximately 41.99 years) and the median (40.0 years) is about 2 years.\n",
    "\n",
    "Comparing the mean and median can provide insights into the shape of the distribution. When the mean and median are close, as they are in this case, it suggests that the data is somewhat symmetric around the mean/median. However, the histogram we plotted earlier showed a slightly bimodal distribution, indicating two groups within the population.\n",
    "\n",
    "The quartiles provide additional information. Half of the population is under 40 years old (the median), and 75% of the population is under 53 years old (Q3). The difference between Q3 and the maximum value in the dataset is quite large, which accounts for the long tail on the right side of the distribution (ages above 53). This tail is pulling the mean upwards, making it slightly larger than the median.\"\"\""
   ]
  },
  {
   "cell_type": "markdown",
   "metadata": {},
   "source": [
    "## Bonus challenge\n",
    "Compare the information about the three neighbourhoods. Prepare a report about the three of them. Remember to find out which are their similarities and their differences backing your arguments in basic statistics."
   ]
  },
  {
   "cell_type": "code",
   "execution_count": null,
   "metadata": {},
   "outputs": [],
   "source": [
    "# your code here"
   ]
  },
  {
   "cell_type": "code",
   "execution_count": null,
   "metadata": {},
   "outputs": [],
   "source": [
    "\"\"\"\n",
    "your comments here\n",
    "\"\"\""
   ]
  }
 ],
 "metadata": {
  "kernelspec": {
   "display_name": "Python 3 (ipykernel)",
   "language": "python",
   "name": "python3"
  },
  "language_info": {
   "codemirror_mode": {
    "name": "ipython",
    "version": 3
   },
   "file_extension": ".py",
   "mimetype": "text/x-python",
   "name": "python",
   "nbconvert_exporter": "python",
   "pygments_lexer": "ipython3",
   "version": "3.10.9"
  }
 },
 "nbformat": 4,
 "nbformat_minor": 2
}
