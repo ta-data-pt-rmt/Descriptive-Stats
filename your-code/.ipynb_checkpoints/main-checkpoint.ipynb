{
 "cells": [
  {
   "cell_type": "markdown",
   "metadata": {},
   "source": [
    "# Understanding Descriptive Statistics\n",
    "\n",
    "Import the necessary libraries here:"
   ]
  },
  {
   "cell_type": "code",
   "execution_count": 61,
   "metadata": {},
   "outputs": [],
   "source": [
    "# Libraries\n",
    "import numpy as np\n",
    "import pandas as pd\n",
    "import random\n",
    "import matplotlib.pyplot as plt\n",
    "from collections import Counter\n"
   ]
  },
  {
   "cell_type": "markdown",
   "metadata": {},
   "source": [
    "## Challenge 1\n",
    "#### 1.- Define a function that simulates rolling a dice 10 times. Save the information in a dataframe.\n",
    "**Hint**: you can use the *choices* function from module *random* to help you with the simulation."
   ]
  },
  {
   "cell_type": "code",
   "execution_count": 62,
   "metadata": {},
   "outputs": [
    {
     "name": "stdout",
     "output_type": "stream",
     "text": [
      "[6, 3, 6, 6, 4, 5, 5, 2, 3, 3]\n"
     ]
    }
   ],
   "source": [
    "# your code here\n",
    "#import random\n",
    "a = []\n",
    "i=0\n",
    "for i in range(1,11):\n",
    "    a.append(random.randint(1, 6))\n",
    "    i+=1\n",
    "\n",
    "\n",
    "print(a)"
   ]
  },
  {
   "cell_type": "markdown",
   "metadata": {},
   "source": [
    "#### 2.- Plot the results sorted by value."
   ]
  },
  {
   "cell_type": "code",
   "execution_count": 63,
   "metadata": {},
   "outputs": [
    {
     "data": {
      "text/plain": [
       "[2, 3, 3, 3, 4, 5, 5, 6, 6, 6]"
      ]
     },
     "execution_count": 63,
     "metadata": {},
     "output_type": "execute_result"
    }
   ],
   "source": [
    "# your code here\n",
    "\n",
    "sorted_list = sorted(a, reverse=False)\n",
    "sorted_list"
   ]
  },
  {
   "cell_type": "markdown",
   "metadata": {},
   "source": [
    "#### 3.- Calculate the frequency distribution and plot it. What is the relation between this plot and the plot above? Describe it with words."
   ]
  },
  {
   "cell_type": "code",
   "execution_count": 64,
   "metadata": {},
   "outputs": [
    {
     "data": {
      "image/png": "[encoded data removed]",
      "text/plain": [
       "<Figure size 432x288 with 1 Axes>"
      ]
     },
     "metadata": {
      "needs_background": "light"
     },
     "output_type": "display_data"
    }
   ],
   "source": [
    "# your code here\n",
    "#import matplotlib.pyplot as plt\n",
    "#from collections import Counter\n",
    "\n",
    "freq_values = Counter(sorted_list) #counter nos devuelve un diccionario con las frecuencias de cada valor \n",
    "\n",
    "# una lista para los valores, otra para las frecuencias\n",
    "values = list(freq_values.keys())\n",
    "freqs = list(freq_values.values())\n",
    "\n",
    "# \n",
    "plt.bar(values, freqs)\n",
    "\n",
    "# Etiquetas y título del gráfico\n",
    "plt.xlabel('Values')\n",
    "plt.ylabel('Frequencies')\n",
    "plt.title('Frequency of each value')\n",
    "\n",
    "# Mostrar el gráfico\n",
    "plt.show()"
   ]
  },
  {
   "cell_type": "code",
   "execution_count": 65,
   "metadata": {},
   "outputs": [
    {
     "data": {
      "text/plain": [
       "'\\nyour comments here: the graphic represent the frequency of each value of the list\\n'"
      ]
     },
     "execution_count": 65,
     "metadata": {},
     "output_type": "execute_result"
    }
   ],
   "source": [
    "\"\"\"\n",
    "your comments here: the graphic represent the frequency of each value of the list\n",
    "\"\"\"\n",
    "\n"
   ]
  },
  {
   "cell_type": "markdown",
   "metadata": {},
   "source": [
    "## Challenge 2\n",
    "Now, using the dice results obtained in *challenge 1*, your are going to define some functions that will help you calculate the mean of your data in two different ways, the median and the four quartiles. \n",
    "\n",
    "#### 1.- Define a function that computes the mean by summing all the observations and dividing by the total number of observations. You are not allowed to use any methods or functions that directly calculate the mean value. "
   ]
  },
  {
   "cell_type": "code",
   "execution_count": 66,
   "metadata": {},
   "outputs": [
    {
     "name": "stdout",
     "output_type": "stream",
     "text": [
      "4.3 4.3\n"
     ]
    }
   ],
   "source": [
    "# your code here\n",
    "def mean_values(list_values):\n",
    "    a = 0\n",
    "    n = 0\n",
    "    for element in list_values:\n",
    "        a+=element\n",
    "        n+=1\n",
    "    return a/n    \n",
    "    \n",
    "print(mean_values(sorted_list), np.mean(sorted_list))"
   ]
  },
  {
   "cell_type": "markdown",
   "metadata": {},
   "source": [
    "#### 2.- First, calculate the frequency distribution. Then, calculate the mean using the values of the frequency distribution you've just computed. You are not allowed to use any methods or functions that directly calculate the mean value. "
   ]
  },
  {
   "cell_type": "code",
   "execution_count": 67,
   "metadata": {},
   "outputs": [
    {
     "name": "stdout",
     "output_type": "stream",
     "text": [
      "4.3 4.3\n"
     ]
    }
   ],
   "source": [
    "# your code here\n",
    "\n",
    "# your code here\n",
    "def mean_values_2(list_values):\n",
    "    a = 0\n",
    "    n = 0\n",
    "    dict_values = Counter(list_values) #clave es el numero y el valor es la frecuencia. La suma de todos los valores debe ser 10    \n",
    "    for clave, valor in dict_values.items():  \n",
    "        a+=(clave*valor)\n",
    "        n+=valor\n",
    "        \n",
    "    a/=n\n",
    "    return a    \n",
    "    \n",
    "print(mean_values_2(sorted_list), np.mean(sorted_list))"
   ]
  },
  {
   "cell_type": "markdown",
   "metadata": {},
   "source": [
    "#### 3.- Define a function to calculate the median. You are not allowed to use any methods or functions that directly calculate the median value. \n",
    "**Hint**: you might need to define two computation cases depending on the number of observations used to calculate the median."
   ]
  },
  {
   "cell_type": "code",
   "execution_count": 105,
   "metadata": {},
   "outputs": [
    {
     "name": "stdout",
     "output_type": "stream",
     "text": [
      "4.5 4.5\n"
     ]
    }
   ],
   "source": [
    "# your code here\n",
    "##len(sorted_list) #10, pero como empieza por 0, eso implica que tengo de a[0] a a[9], la dimension es par\n",
    "\n",
    "def median_estimation(list_val):\n",
    "    if len(list_val)% 2 == 0:\n",
    "        return list_val[int((len(list_val)-1)/2)]+ decimal*(list_val[int((len(list_val))/2)]-list_val[int((len(list_val)-1)/2)])\n",
    "\n",
    "#list_val[int(len(list_val)+1)/2]-decimal*list_val[int((len(list_val)+1)/2)]  \n",
    "    else:\n",
    "        return list_val[int(len(list_val)/2)]  \n",
    "    \n",
    "print(median_estimation(sorted_list), np.median(sorted_list))    \n"
   ]
  },
  {
   "cell_type": "code",
   "execution_count": 106,
   "metadata": {},
   "outputs": [
    {
     "data": {
      "text/plain": [
       "4.5"
      ]
     },
     "execution_count": 106,
     "metadata": {},
     "output_type": "execute_result"
    }
   ],
   "source": [
    "\n",
    "##borrador:\n",
    "n =len(sorted_list)\n",
    "n\n",
    "decimal =(n-1)/2 - int((n-1)/2) \n",
    "sorted_list[int((n-1)/2)]\n",
    "sorted_list[int((n)/2)]\n",
    "sorted_list[int((n-1)/2)]+ decimal*(sorted_list[int((n)/2)]-sorted_list[int((n-1)/2)])\n",
    "#sorted_list[int(len(sorted_list))/2]"
   ]
  },
  {
   "cell_type": "markdown",
   "metadata": {},
   "source": [
    "#### 4.- Define a function to calculate the four quartiles. You can use the function you defined above to compute the median but you are not allowed to use any methods or functions that directly calculate the quartiles. "
   ]
  },
  {
   "cell_type": "code",
   "execution_count": 107,
   "metadata": {},
   "outputs": [],
   "source": [
    "# your code here\n",
    "\n",
    "def quartiles_estimation(list_val):\n",
    "    n = len(list_val)\n",
    "    q2 = median_estimation(list_val)\n",
    "\n",
    "    if n%2 ==0:\n",
    "        q1_position = int((n-1)/4)\n",
    "        q3_position = int(3*(n-1)/4)\n",
    "        decimal1 = (n-1)/4 - int((n-1)/4)\n",
    "        decimal3 = 3*(n-1)/4 - int(3*(n-1)/4)\n",
    "        q1 = list_val[q1_position]+decimal1*(list_val[int(q1_position)+1]-list_val[q1_position])\n",
    "        q3 = list_val[q3_position]+decimal3*(list_val[int(q3_position)+1]-list_val[q3_position])\n",
    "    else:\n",
    "        q1 = list_val[int(int(n-1)/4)] \n",
    "        q3 = list_val[int(3*int(n-1)/4)]\n",
    "    return q1,q2,q3\n",
    " \n",
    "    \n"
   ]
  },
  {
   "cell_type": "code",
   "execution_count": 108,
   "metadata": {},
   "outputs": [
    {
     "name": "stdout",
     "output_type": "stream",
     "text": [
      "(3.0, 4.5, 5.75)\n",
      "the first quartile is 3.0\n",
      "the second quartile is 4.5\n",
      "the third quartile is 5.75\n",
      "[2, 3, 3, 3, 4, 5, 5, 6, 6, 6]\n"
     ]
    },
    {
     "data": {
      "image/png": "[encoded data removed]",
      "text/plain": [
       "<Figure size 432x288 with 1 Axes>"
      ]
     },
     "metadata": {
      "needs_background": "light"
     },
     "output_type": "display_data"
    }
   ],
   "source": [
    "\n",
    "\n",
    "q = []\n",
    "q = quartiles_estimation(sorted_list)\n",
    "print(quartiles_estimation(sorted_list))\n",
    "\n",
    "q_1 = np.percentile(sorted_list, 25)\n",
    "q_2 = np.percentile(sorted_list, 50)\n",
    "q_3 = np.percentile(sorted_list, 75)\n",
    "\n",
    "\n",
    "print(\"the first quartile is\", q_1)\n",
    "print(\"the second quartile is\", q_2)\n",
    "print(\"the third quartile is\", q_3)\n",
    "print(sorted_list)\n",
    "q\n",
    "plt.boxplot(sorted_list)\n",
    "plt.show()"
   ]
  },
  {
   "cell_type": "markdown",
   "metadata": {},
   "source": [
    "## Challenge 3\n",
    "Read the csv `roll_the_dice_hundred.csv` from the `data` folder.\n",
    "#### 1.- Sort the values and plot them. What do you see?"
   ]
  },
  {
   "cell_type": "code",
   "execution_count": 109,
   "metadata": {},
   "outputs": [
    {
     "data": {
      "image/png": "[encoded data removed]",
      "text/plain": [
       "<Figure size 432x288 with 1 Axes>"
      ]
     },
     "metadata": {
      "needs_background": "light"
     },
     "output_type": "display_data"
    },
    {
     "data": {
      "text/plain": [
       "3.74"
      ]
     },
     "execution_count": 109,
     "metadata": {},
     "output_type": "execute_result"
    }
   ],
   "source": [
    "# your code here\n",
    "data = pd.read_csv('roll_the_dice_hundred.csv', sep=\",\")\n",
    "\n",
    "data_ordered = data.sort_values(by='roll', ascending=True)\n",
    "data_ordered.columns\n",
    "\n",
    "data_ordered = data_ordered.drop('Unnamed: 0', axis=1)\n",
    "data_ordered.head()\n",
    "plt.boxplot(data_ordered['value'])\n",
    "plt.show()\n",
    "data_ordered['value'].mean()"
   ]
  },
  {
   "cell_type": "code",
   "execution_count": 110,
   "metadata": {},
   "outputs": [
    {
     "data": {
      "text/plain": [
       "'\\nyour comments here: 100 times the roll has been diced, we obtain a mean aprox of 4  but we shoud analyse the frequency of each value.\\n'"
      ]
     },
     "execution_count": 110,
     "metadata": {},
     "output_type": "execute_result"
    }
   ],
   "source": [
    "\n",
    "\"\"\"\n",
    "your comments here: 100 times the roll has been diced, we obtain a mean aprox of 4  but we shoud analyse the frequency of each value.\n",
    "\"\"\""
   ]
  },
  {
   "cell_type": "markdown",
   "metadata": {},
   "source": [
    "#### 2.- Using the functions you defined in *challenge 2*, calculate the mean value of the hundred dice rolls."
   ]
  },
  {
   "cell_type": "code",
   "execution_count": 111,
   "metadata": {},
   "outputs": [
    {
     "data": {
      "text/plain": [
       "3.74"
      ]
     },
     "execution_count": 111,
     "metadata": {},
     "output_type": "execute_result"
    }
   ],
   "source": [
    "# your code here\n",
    "mean_values_2(data_ordered['value'])\n"
   ]
  },
  {
   "cell_type": "markdown",
   "metadata": {},
   "source": [
    "#### 3.- Now, calculate the frequency distribution.\n"
   ]
  },
  {
   "cell_type": "code",
   "execution_count": 112,
   "metadata": {},
   "outputs": [
    {
     "data": {
      "text/plain": [
       "Counter({1: 12, 2: 17, 6: 23, 5: 12, 4: 22, 3: 14})"
      ]
     },
     "execution_count": 112,
     "metadata": {},
     "output_type": "execute_result"
    }
   ],
   "source": [
    "# your code here\n",
    "\n",
    "freq_values = Counter(data_ordered['value']) #counter nos devuelve un diccionario con las frecuencias de cada valor \n",
    "\n",
    "freq_values"
   ]
  },
  {
   "cell_type": "markdown",
   "metadata": {},
   "source": [
    "#### 4.- Plot the histogram. What do you see (shape, values...) ? How can you connect the mean value to the histogram? "
   ]
  },
  {
   "cell_type": "code",
   "execution_count": 113,
   "metadata": {},
   "outputs": [
    {
     "data": {
      "image/png": "[encoded data removed]",
      "text/plain": [
       "<Figure size 432x288 with 1 Axes>"
      ]
     },
     "metadata": {
      "needs_background": "light"
     },
     "output_type": "display_data"
    }
   ],
   "source": [
    "# your code here\n",
    "# una lista para los valores, otra para las frecuencias\n",
    "values = list(freq_values.keys())\n",
    "freqs = list(freq_values.values())\n",
    "\n",
    "\n",
    "# \n",
    "plt.bar(values, freqs)\n",
    "\n",
    "# Etiquetas y título del gráfico\n",
    "plt.xlabel('Values')\n",
    "plt.ylabel('Frequencies')\n",
    "plt.title('Frequency of each value')\n",
    "\n",
    "# Mostrar el gráfico\n",
    "plt.show()"
   ]
  },
  {
   "cell_type": "code",
   "execution_count": 114,
   "metadata": {},
   "outputs": [
    {
     "data": {
      "text/plain": [
       "'\\nyour comments here: \\nmax.freq in \"6\" value\\nmin.freq in \"1\" and \"5\" value\\nmultimodal shape\\n'"
      ]
     },
     "execution_count": 114,
     "metadata": {},
     "output_type": "execute_result"
    }
   ],
   "source": [
    "\"\"\"\n",
    "your comments here: \n",
    "max.freq in \"6\" value\n",
    "min.freq in \"1\" and \"5\" value\n",
    "multimodal shape\n",
    "\"\"\""
   ]
  },
  {
   "cell_type": "markdown",
   "metadata": {},
   "source": [
    "#### 5.- Read the `roll_the_dice_thousand.csv` from the `data` folder. Plot the frequency distribution as you did before. Has anything changed? Why do you think it changed?"
   ]
  },
  {
   "cell_type": "code",
   "execution_count": 115,
   "metadata": {},
   "outputs": [
    {
     "data": {
      "image/png": "[encoded data removed]",
      "text/plain": [
       "<Figure size 432x288 with 1 Axes>"
      ]
     },
     "metadata": {
      "needs_background": "light"
     },
     "output_type": "display_data"
    },
    {
     "data": {
      "image/png": "[encoded data removed]",
      "text/plain": [
       "<Figure size 432x288 with 1 Axes>"
      ]
     },
     "metadata": {
      "needs_background": "light"
     },
     "output_type": "display_data"
    }
   ],
   "source": [
    "# your code here\n",
    "# your code here\n",
    "data2 = pd.read_csv('roll_the_dice_thousand.csv', sep=\",\")\n",
    "\n",
    "data_ordered2 = data2.sort_values(by='roll', ascending=True)\n",
    "data_ordered2.columns\n",
    "\n",
    "data_ordered2 = data_ordered2.drop('Unnamed: 0', axis=1)\n",
    "data_ordered2.head()\n",
    "plt.boxplot(data_ordered2['value'])\n",
    "plt.show()\n",
    "data_ordered2['value'].mean()\n",
    "freq_values2 = Counter(data_ordered2['value']) #counter nos devuelve un diccionario con las frecuencias de cada valor \n",
    "\n",
    "freq_values2\n",
    "# your code here\n",
    "# una lista para los valores, otra para las frecuencias\n",
    "values2 = list(freq_values2.keys())\n",
    "freqs2 = list(freq_values2.values())\n",
    "\n",
    "\n",
    "# \n",
    "plt.bar(values2, freqs2)\n",
    "\n",
    "# Etiquetas y título del gráfico\n",
    "plt.xlabel('Values')\n",
    "plt.ylabel('Frequencies')\n",
    "plt.title('Frequency of each value')\n",
    "\n",
    "# Mostrar el gráfico\n",
    "plt.show()"
   ]
  },
  {
   "cell_type": "code",
   "execution_count": 116,
   "metadata": {},
   "outputs": [
    {
     "data": {
      "text/plain": [
       "'\\nyour comments here:\\nlower mean\\nuniform shape \\n\\nas we have diced more times the roll and the probability of each value when we dice a roll should be the same, we have more data to analyse and the behaviour becomes uniform\\n'"
      ]
     },
     "execution_count": 116,
     "metadata": {},
     "output_type": "execute_result"
    }
   ],
   "source": [
    "\"\"\"\n",
    "your comments here:\n",
    "lower mean\n",
    "uniform shape \n",
    "\n",
    "as we have diced more times the roll and the probability of each value when we dice a roll should be the same, we have more data to analyse and the behaviour becomes uniform\n",
    "\"\"\""
   ]
  },
  {
   "cell_type": "markdown",
   "metadata": {},
   "source": [
    "## Challenge 4\n",
    "In the `data` folder of this repository you will find three different files with the prefix `ages_population`. These files contain information about a poll answered by a thousand people regarding their age. Each file corresponds to the poll answers in different neighbourhoods of Barcelona.\n",
    "\n",
    "#### 1.- Read the file `ages_population.csv`. Calculate the frequency distribution and plot it as we did during the lesson. Try to guess the range in which the mean and the standard deviation will be by looking at the plot. "
   ]
  },
  {
   "cell_type": "code",
   "execution_count": 117,
   "metadata": {},
   "outputs": [
    {
     "data": {
      "image/png": "[encoded data removed]",
      "text/plain": [
       "<Figure size 432x288 with 1 Axes>"
      ]
     },
     "metadata": {
      "needs_background": "light"
     },
     "output_type": "display_data"
    }
   ],
   "source": [
    "# your code here\n",
    "# your code here\n",
    "data_ages = pd.read_csv('ages_population.csv', sep=\",\")\n",
    "ages_dict = Counter(data_ages['observation'])\n",
    "ages = list(ages_dict.keys())\n",
    "freq = list(ages_dict.values())\n",
    "\n",
    "\n",
    "# \n",
    "plt.bar(ages, freq)\n",
    "\n",
    "# Etiquetas y título del gráfico\n",
    "plt.xlabel('Values')\n",
    "plt.ylabel('Frequencies')\n",
    "plt.title('Frequency of each value')\n",
    "\n",
    "# Mostrar el gráfico\n",
    "plt.show()\n",
    "##normal distribution, mean proxy to 40, desv.tip proxy to 15"
   ]
  },
  {
   "cell_type": "markdown",
   "metadata": {},
   "source": [
    "#### 2.- Calculate the exact mean and standard deviation and compare them with your guesses. Do they fall inside the ranges you guessed?"
   ]
  },
  {
   "cell_type": "code",
   "execution_count": 118,
   "metadata": {},
   "outputs": [
    {
     "name": "stdout",
     "output_type": "stream",
     "text": [
      "Mean: 36.56\n",
      "Standard deviation: 12.81008977329979\n",
      "Median estimation: 41.0\n"
     ]
    }
   ],
   "source": [
    "# your code here\n",
    "print(\"Mean:\",mean_values_2(data_ages['observation']))\n",
    "print(\"Standard deviation:\", np.std(data_ages['observation']))\n",
    "print(\"Median estimation:\",median_estimation(data_ages['observation']))"
   ]
  },
  {
   "cell_type": "code",
   "execution_count": 119,
   "metadata": {},
   "outputs": [
    {
     "data": {
      "text/plain": [
       "'\\nyour comments here: bell shaped distribution. median not simiar to the mean, not symetric. \\n'"
      ]
     },
     "execution_count": 119,
     "metadata": {},
     "output_type": "execute_result"
    }
   ],
   "source": [
    "\"\"\"\n",
    "your comments here: bell shaped distribution. median not simiar to the mean, not symetric. \n",
    "\"\"\""
   ]
  },
  {
   "cell_type": "markdown",
   "metadata": {},
   "source": [
    "#### 3.- Now read the file `ages_population2.csv` . Calculate the frequency distribution and plot it."
   ]
  },
  {
   "cell_type": "code",
   "execution_count": 120,
   "metadata": {},
   "outputs": [
    {
     "data": {
      "image/png": "[encoded data removed]",
      "text/plain": [
       "<Figure size 432x288 with 1 Axes>"
      ]
     },
     "metadata": {
      "needs_background": "light"
     },
     "output_type": "display_data"
    },
    {
     "name": "stdout",
     "output_type": "stream",
     "text": [
      "Mean: 27.155\n",
      "Standard deviation: 2.9683286543103704\n"
     ]
    }
   ],
   "source": [
    "\n",
    "# your code here\n",
    "data_ages2 = pd.read_csv('ages_population2.csv', sep=\",\")\n",
    "ages_dict2 = Counter(data_ages2['observation'])\n",
    "ages2 = list(ages_dict2.keys())\n",
    "freq2 = list(ages_dict2.values())\n",
    "\n",
    "\n",
    "# \n",
    "plt.bar(ages2, freq2)\n",
    "\n",
    "# Etiquetas y título del gráfico\n",
    "plt.xlabel('Values')\n",
    "plt.ylabel('Frequencies')\n",
    "plt.title('Frequency of each value')\n",
    "\n",
    "# Mostrar el gráfico\n",
    "plt.show()\n",
    "print(\"Mean:\",mean_values_2(data_ages2['observation']))\n",
    "print(\"Standard deviation:\", np.std(data_ages2['observation']))"
   ]
  },
  {
   "cell_type": "markdown",
   "metadata": {},
   "source": [
    "####  4.- What do you see? Is there any difference with the frequency distribution in step 1?"
   ]
  },
  {
   "cell_type": "code",
   "execution_count": 121,
   "metadata": {},
   "outputs": [
    {
     "data": {
      "text/plain": [
       "'\\nyour comments here: normal distribution with lower standard deviation\\n'"
      ]
     },
     "execution_count": 121,
     "metadata": {},
     "output_type": "execute_result"
    }
   ],
   "source": [
    "\"\"\"\n",
    "your comments here: normal distribution with lower standard deviation\n",
    "\"\"\""
   ]
  },
  {
   "cell_type": "markdown",
   "metadata": {},
   "source": [
    "#### 5.- Calculate the mean and standard deviation. Compare the results with the mean and standard deviation in step 2. What do you think?"
   ]
  },
  {
   "cell_type": "code",
   "execution_count": 122,
   "metadata": {},
   "outputs": [
    {
     "name": "stdout",
     "output_type": "stream",
     "text": [
      "Mean: 27.155\n",
      "Standard deviation: 2.9683286543103704\n",
      "Median estimation: 31.0\n"
     ]
    }
   ],
   "source": [
    "# your code here\n",
    "print(\"Mean:\",mean_values_2(data_ages2['observation']))\n",
    "print(\"Standard deviation:\", np.std(data_ages2['observation']))\n",
    "print(\"Median estimation:\",median_estimation(data_ages2['observation']))\n",
    "##your comments here: normal distribution with lower standard deviation "
   ]
  },
  {
   "cell_type": "code",
   "execution_count": 123,
   "metadata": {},
   "outputs": [
    {
     "data": {
      "text/plain": [
       "'\\nyour comments here: normal distribution with lower standard deviation. median very similar to the mean, symetric. \\n'"
      ]
     },
     "execution_count": 123,
     "metadata": {},
     "output_type": "execute_result"
    }
   ],
   "source": [
    "\"\"\"\n",
    "your comments here: normal distribution with lower standard deviation. median very similar to the mean, symetric. \n",
    "\"\"\""
   ]
  },
  {
   "cell_type": "markdown",
   "metadata": {},
   "source": [
    "## Challenge 5\n",
    "Now is the turn of `ages_population3.csv`.\n",
    "\n",
    "#### 1.- Read the file `ages_population3.csv`. Calculate the frequency distribution and plot it."
   ]
  },
  {
   "cell_type": "code",
   "execution_count": 124,
   "metadata": {},
   "outputs": [
    {
     "data": {
      "image/png": "[encoded data removed]",
      "text/plain": [
       "<Figure size 432x288 with 1 Axes>"
      ]
     },
     "metadata": {
      "needs_background": "light"
     },
     "output_type": "display_data"
    },
    {
     "name": "stdout",
     "output_type": "stream",
     "text": [
      "Mean: 41.989\n",
      "Standard deviation: 16.136631587788084\n"
     ]
    }
   ],
   "source": [
    "# your code here\n",
    "\n",
    "data_ages3 = pd.read_csv('ages_population3.csv', sep=\",\")\n",
    "ages_dict3 = Counter(data_ages3['observation'])\n",
    "ages3 = list(ages_dict3.keys())\n",
    "freq3 = list(ages_dict3.values())\n",
    "\n",
    "\n",
    "# \n",
    "plt.bar(ages3, freq3)\n",
    "\n",
    "# Etiquetas y título del gráfico\n",
    "plt.xlabel('Values')\n",
    "plt.ylabel('Frequencies')\n",
    "plt.title('Frequency of each value')\n",
    "\n",
    "# Mostrar el gráfico\n",
    "plt.show()\n",
    "print(\"Mean:\",mean_values_2(data_ages3['observation']))\n",
    "print(\"Standard deviation:\", np.std(data_ages3['observation']))"
   ]
  },
  {
   "cell_type": "markdown",
   "metadata": {},
   "source": [
    "#### 2.- Calculate the mean and standard deviation. Compare the results with the plot in step 1. What is happening?"
   ]
  },
  {
   "cell_type": "code",
   "execution_count": 125,
   "metadata": {},
   "outputs": [
    {
     "name": "stdout",
     "output_type": "stream",
     "text": [
      "Mean: 41.989\n",
      "Standard deviation: 16.136631587788084\n"
     ]
    }
   ],
   "source": [
    "# your code here\n",
    "print(\"Mean:\",mean_values_2(data_ages3['observation']))\n",
    "print(\"Standard deviation:\", np.std(data_ages3['observation']))"
   ]
  },
  {
   "cell_type": "code",
   "execution_count": 126,
   "metadata": {},
   "outputs": [
    {
     "data": {
      "text/plain": [
       "'\\nyour comments here. random distribution with high standard deviation\\n'"
      ]
     },
     "execution_count": 126,
     "metadata": {},
     "output_type": "execute_result"
    }
   ],
   "source": [
    "\"\"\"\n",
    "your comments here. random distribution with high standard deviation\n",
    "\"\"\""
   ]
  },
  {
   "cell_type": "markdown",
   "metadata": {},
   "source": [
    "#### 3.- Calculate the four quartiles. Use the results to explain your reasoning for question in step 2. How much of a difference is there between the median and the mean?"
   ]
  },
  {
   "cell_type": "code",
   "execution_count": 127,
   "metadata": {},
   "outputs": [
    {
     "name": "stdout",
     "output_type": "stream",
     "text": [
      "(38.5, 38.5, 31.5)\n"
     ]
    },
    {
     "data": {
      "text/plain": [
       "3.488999999999997"
      ]
     },
     "execution_count": 127,
     "metadata": {},
     "output_type": "execute_result"
    }
   ],
   "source": [
    "# your code here\n",
    "\n",
    "\n",
    "q = []\n",
    "q = quartiles_estimation(data_ages3['observation'])\n",
    "print(q)\n",
    "q[1]\n",
    "mean_values_2(data_ages3['observation'])-q[1]"
   ]
  },
  {
   "cell_type": "code",
   "execution_count": 128,
   "metadata": {},
   "outputs": [
    {
     "data": {
      "text/plain": [
       "'\\nyour comments here: high distance between the mean and the media, it is not symetric.  \\n'"
      ]
     },
     "execution_count": 128,
     "metadata": {},
     "output_type": "execute_result"
    }
   ],
   "source": [
    "\"\"\"\n",
    "your comments here: high distance between the mean and the media, it is not symetric.  \n",
    "\"\"\""
   ]
  },
  {
   "cell_type": "markdown",
   "metadata": {},
   "source": [
    "#### 4.- Calculate other percentiles that might be useful to give more arguments to your reasoning."
   ]
  },
  {
   "cell_type": "code",
   "execution_count": 129,
   "metadata": {},
   "outputs": [
    {
     "name": "stdout",
     "output_type": "stream",
     "text": [
      "(45.25, 41.0, 48.5) (28.5, 31.0, 26.5) (38.5, 38.5, 31.5)\n",
      "58.0 32.0 70.0\n",
      "    Sample  Percentil25  Percentil50  Percentil75  Percentil95\n",
      "0  sample1         28.0         37.0         45.0         58.0\n",
      "1  sample2         25.0         27.0         29.0         32.0\n",
      "2  sample3         30.0         40.0         53.0         70.0\n"
     ]
    }
   ],
   "source": [
    "# your code here\n",
    "sample1 = quartiles_estimation(data_ages['observation'])\n",
    "sample2 = quartiles_estimation(data_ages2['observation'])\n",
    "sample3 = quartiles_estimation(data_ages3['observation'])\n",
    "percentil_25_sample1 = np.percentile(data_ages['observation'], 25)\n",
    "percentil_25_sample2 = np.percentile(data_ages2['observation'], 25)\n",
    "percentil_25_sample3 = np.percentile(data_ages3['observation'], 25)\n",
    "percentil_50_sample1 = np.percentile(data_ages['observation'], 50)\n",
    "percentil_50_sample2 = np.percentile(data_ages2['observation'], 50)\n",
    "percentil_50_sample3 = np.percentile(data_ages3['observation'], 50)\n",
    "percentil_75_sample1 = np.percentile(data_ages['observation'], 75)\n",
    "percentil_75_sample2 = np.percentile(data_ages2['observation'], 75)\n",
    "percentil_75_sample3 = np.percentile(data_ages3['observation'], 75)\n",
    "percentil_95_sample1 = np.percentile(data_ages['observation'], 95)\n",
    "percentil_95_sample2 = np.percentile(data_ages2['observation'], 95)\n",
    "percentil_95_sample3 = np.percentile(data_ages3['observation'], 95)\n",
    "print(sample1,sample2,sample3)\n",
    "print(percentil_95_sample1, percentil_95_sample2,percentil_95_sample3)\n",
    "\n",
    "\n",
    "data = {'Sample': ['sample1', 'sample2', 'sample3'],\n",
    "        'Percentil25': [percentil_25_sample1, percentil_25_sample2,percentil_25_sample3],\n",
    "        'Percentil50': [percentil_50_sample1, percentil_50_sample2,percentil_50_sample3],\n",
    "        'Percentil75': [percentil_75_sample1, percentil_75_sample2,percentil_75_sample3],\n",
    "        'Percentil95': [percentil_95_sample1, percentil_95_sample2,percentil_95_sample3]\n",
    "       }\n",
    "\n",
    "df = pd.DataFrame(data)\n",
    "print(df)"
   ]
  },
  {
   "cell_type": "code",
   "execution_count": 130,
   "metadata": {},
   "outputs": [
    {
     "data": {
      "text/plain": [
       "'\\nyour comments here: percentil 0.25,0.5 and 0.75 obtained. Also percentil 95. For sample3 percentil 95 is not near the rest of percentils so lot of volatility in that sample\\n\\n\\n'"
      ]
     },
     "execution_count": 130,
     "metadata": {},
     "output_type": "execute_result"
    }
   ],
   "source": [
    "\"\"\"\n",
    "your comments here: percentil 0.25,0.5 and 0.75 obtained. Also percentil 95. For sample3 percentil 95 is not near the rest of percentils so lot of volatility in that sample\n",
    "\n",
    "\n",
    "\"\"\""
   ]
  },
  {
   "cell_type": "markdown",
   "metadata": {},
   "source": [
    "## Bonus challenge\n",
    "Compare the information about the three neighbourhoods. Prepare a report about the three of them. Remember to find out which are their similarities and their differences backing your arguments in basic statistics."
   ]
  },
  {
   "cell_type": "code",
   "execution_count": 131,
   "metadata": {},
   "outputs": [
    {
     "name": "stdout",
     "output_type": "stream",
     "text": [
      "    Sample  Percentil25  Percentil50  Percentil75  Percentil95\n",
      "0  sample1         28.0         37.0         45.0         58.0\n",
      "1  sample2         25.0         27.0         29.0         32.0\n",
      "2  sample3         30.0         40.0         53.0         70.0\n"
     ]
    },
    {
     "data": {
      "image/png": "[encoded data removed]",
      "text/plain": [
       "<Figure size 432x288 with 1 Axes>"
      ]
     },
     "metadata": {
      "needs_background": "light"
     },
     "output_type": "display_data"
    }
   ],
   "source": [
    "# your code here\n",
    "\n",
    "plt.hist(data_ages['observation'], bins=20, alpha=0.5, label='Conjunto de datos 1')\n",
    "plt.hist(data_ages2['observation'], bins=20, alpha=0.5, label='Conjunto de datos 2')\n",
    "plt.hist(data_ages3['observation'], bins=20, alpha=0.5, label='Conjunto de datos 3')\n",
    "# Agregar etiquetas y leyenda\n",
    "plt.xlabel('Valores')\n",
    "plt.ylabel('Frecuencia')\n",
    "plt.legend(loc='upper right')\n",
    "\n",
    "\n",
    "\n",
    "\n",
    "# Mostrar el gráfico\n",
    "print(df)\n",
    "plt.show()"
   ]
  },
  {
   "cell_type": "code",
   "execution_count": 133,
   "metadata": {},
   "outputs": [
    {
     "data": {
      "text/plain": [
       "'\\nyour comments here: samples totally different\\nsample1:bell-shaped distribution. median not simiar to the mean, not symetric.\\nsample2:normal distribution with lower standard deviation. median very similar to the mean, symetric. \\nsample3:random distribution.high distance between the mean and the media, it is not symetric. \\n'"
      ]
     },
     "execution_count": 133,
     "metadata": {},
     "output_type": "execute_result"
    }
   ],
   "source": [
    "\"\"\"\n",
    "your comments here: samples totally different\n",
    "sample1:bell-shaped distribution. median not simiar to the mean, not symetric.\n",
    "sample2:normal distribution with lower standard deviation. median very similar to the mean, symetric. \n",
    "sample3:random distribution.high distance between the mean and the media, it is not symetric. \n",
    "\"\"\"\n"
   ]
  },
  {
   "cell_type": "code",
   "execution_count": null,
   "metadata": {},
   "outputs": [],
   "source": []
  }
 ],
 "metadata": {
  "kernelspec": {
   "display_name": "Python 3",
   "language": "python",
   "name": "python3"
  },
  "language_info": {
   "codemirror_mode": {
    "name": "ipython",
    "version": 3
   },
   "file_extension": ".py",
   "mimetype": "text/x-python",
   "name": "python",
   "nbconvert_exporter": "python",
   "pygments_lexer": "ipython3",
   "version": "3.7.6"
  }
 },
 "nbformat": 4,
 "nbformat_minor": 2
}
