{
 "cells": [
  {
   "cell_type": "markdown",
   "metadata": {},
   "source": [
    "# Understanding Descriptive Statistics\n",
    "\n",
    "Import the necessary libraries here:"
   ]
  },
  {
   "cell_type": "code",
   "execution_count": 1,
   "metadata": {},
   "outputs": [],
   "source": [
    "# Libraries\n",
    "import pandas as pd\n",
    "import numpy as np\n",
    "import matplotlib.pyplot as plt\n",
    "from scipy import stats\n",
    "import random\n",
    "from random import choices \n",
    "import matplotlib.ticker as ticker"
   ]
  },
  {
   "cell_type": "markdown",
   "metadata": {},
   "source": [
    "## Challenge 1\n",
    "#### 1.- Define a function that simulates rolling a dice 10 times. Save the information in a dataframe.\n",
    "**Hint**: you can use the *choices* function from module *random* to help you with the simulation."
   ]
  },
  {
   "cell_type": "code",
   "execution_count": 2,
   "metadata": {},
   "outputs": [],
   "source": [
    "# your code here\n",
    "import random\n",
    "\n",
    "def dice_rolling(): \n",
    "    \n",
    " dices = []\n",
    "\n",
    " min = 1\n",
    " max = 6\n",
    " times = 10\n",
    "\n",
    " for i in range(1,times+1):\n",
    "    dices.append(random.randint(min, max))\n",
    "    \n",
    " return dices"
   ]
  },
  {
   "cell_type": "code",
   "execution_count": 3,
   "metadata": {},
   "outputs": [],
   "source": [
    "#second solution \n",
    "#dice_rolls = pd.DataFrame(np.random.randint(1,6,size = 10))\n",
    "\n",
    "#third solution \n",
    "#def dice_rolling(n):\n",
    "#    return pd.DataFrame(np.array([random.choice(np.arange(1, 7, 1)) for i in range(n)]))"
   ]
  },
  {
   "cell_type": "code",
   "execution_count": 4,
   "metadata": {},
   "outputs": [
    {
     "data": {
      "text/plain": [
       "[5, 1, 3, 6, 6, 4, 3, 6, 2, 2]"
      ]
     },
     "execution_count": 4,
     "metadata": {},
     "output_type": "execute_result"
    }
   ],
   "source": [
    "dice_rolling()"
   ]
  },
  {
   "cell_type": "code",
   "execution_count": 5,
   "metadata": {},
   "outputs": [
    {
     "data": {
      "text/html": [
       "<div>\n",
       "<style scoped>\n",
       "    .dataframe tbody tr th:only-of-type {\n",
       "        vertical-align: middle;\n",
       "    }\n",
       "\n",
       "    .dataframe tbody tr th {\n",
       "        vertical-align: top;\n",
       "    }\n",
       "\n",
       "    .dataframe thead th {\n",
       "        text-align: right;\n",
       "    }\n",
       "</style>\n",
       "<table border=\"1\" class=\"dataframe\">\n",
       "  <thead>\n",
       "    <tr style=\"text-align: right;\">\n",
       "      <th></th>\n",
       "      <th>value</th>\n",
       "    </tr>\n",
       "  </thead>\n",
       "  <tbody>\n",
       "    <tr>\n",
       "      <th>0</th>\n",
       "      <td>1</td>\n",
       "    </tr>\n",
       "    <tr>\n",
       "      <th>1</th>\n",
       "      <td>2</td>\n",
       "    </tr>\n",
       "    <tr>\n",
       "      <th>2</th>\n",
       "      <td>2</td>\n",
       "    </tr>\n",
       "    <tr>\n",
       "      <th>3</th>\n",
       "      <td>5</td>\n",
       "    </tr>\n",
       "    <tr>\n",
       "      <th>4</th>\n",
       "      <td>2</td>\n",
       "    </tr>\n",
       "    <tr>\n",
       "      <th>5</th>\n",
       "      <td>4</td>\n",
       "    </tr>\n",
       "    <tr>\n",
       "      <th>6</th>\n",
       "      <td>3</td>\n",
       "    </tr>\n",
       "    <tr>\n",
       "      <th>7</th>\n",
       "      <td>3</td>\n",
       "    </tr>\n",
       "    <tr>\n",
       "      <th>8</th>\n",
       "      <td>4</td>\n",
       "    </tr>\n",
       "    <tr>\n",
       "      <th>9</th>\n",
       "      <td>1</td>\n",
       "    </tr>\n",
       "  </tbody>\n",
       "</table>\n",
       "</div>"
      ],
      "text/plain": [
       "   value\n",
       "0      1\n",
       "1      2\n",
       "2      2\n",
       "3      5\n",
       "4      2\n",
       "5      4\n",
       "6      3\n",
       "7      3\n",
       "8      4\n",
       "9      1"
      ]
     },
     "execution_count": 5,
     "metadata": {},
     "output_type": "execute_result"
    }
   ],
   "source": [
    "dice_rolls = pd.DataFrame(dice_rolling())\n",
    "dice_rolls.rename(columns = {0 : 'value'}, inplace = True)\n",
    "dice_rolls"
   ]
  },
  {
   "cell_type": "markdown",
   "metadata": {},
   "source": [
    "#### 2.- Plot the results sorted by value."
   ]
  },
  {
   "cell_type": "code",
   "execution_count": 6,
   "metadata": {},
   "outputs": [
    {
     "data": {
      "image/png": "[encoded data removed]",
      "text/plain": [
       "<Figure size 432x288 with 1 Axes>"
      ]
     },
     "metadata": {
      "needs_background": "light"
     },
     "output_type": "display_data"
    }
   ],
   "source": [
    "# your code here\n",
    "\n",
    "dice_rolls = dice_rolls.sort_values('value')\n",
    "list_dice_rolls = dice_rolls['value'].values.tolist()\n",
    "#display(dice_rolls)\n",
    "dice_rolls['value'].hist()\n",
    "plt.ylabel(\"Rolls\")\n",
    "plt.xlabel(\"Dice Values\")\n",
    "plt.show()"
   ]
  },
  {
   "cell_type": "markdown",
   "metadata": {},
   "source": [
    "#### 3.- Calculate the frequency distribution and plot it. What is the relation between this plot and the plot above? Describe it with words."
   ]
  },
  {
   "cell_type": "code",
   "execution_count": 77,
   "metadata": {},
   "outputs": [
    {
     "data": {
      "image/png": "[encoded data removed]",
      "text/plain": [
       "<Figure size 432x288 with 1 Axes>"
      ]
     },
     "metadata": {
      "needs_background": "light"
     },
     "output_type": "display_data"
    },
    {
     "data": {
      "text/plain": [
       "6    23\n",
       "4    22\n",
       "2    17\n",
       "3    14\n",
       "1    12\n",
       "5    12\n",
       "Name: value, dtype: int64"
      ]
     },
     "metadata": {},
     "output_type": "display_data"
    }
   ],
   "source": [
    "# your code here\n",
    "frequency_dict_dice_rolls, mean_from_freq_dice_rolls = frequency(dice_rolls,'value')\n",
    "#display(frequency_dict_dice_rolls)\n",
    "plt.bar(range(len(frequency_dict_dice_rolls)), list(frequency_dict_dice_rolls.values()), align='center')\n",
    "plt.xticks(range(len(frequency_dict_dice_rolls)), list(frequency_dict_dice_rolls.keys()))\n",
    "plt.ylabel(\"Rolls\")\n",
    "plt.xlabel(\"Dice Values\")\n",
    "plt.show()\n",
    "display(hundred_dice['value'].value_counts()) #used for validation\n",
    "\n",
    "\n",
    "#The main difference between both is the 'binning' functionality, bassically in one you decide the distribution ranges to group the values and in other you are doing this by counting the frequency of each value and sorting by the amount of ocurrences."
   ]
  },
  {
   "cell_type": "markdown",
   "metadata": {},
   "source": [
    "## Challenge 2\n",
    "Now, using the dice results obtained in *challenge 1*, your are going to define some functions that will help you calculate the mean of your data in two different ways, the median and the four quartiles. \n",
    "\n",
    "#### 1.- Define a function that computes the mean by summing all the observations and dividing by the total number of observations. You are not allowed to use any methods or functions that directly calculate the mean value. "
   ]
  },
  {
   "cell_type": "code",
   "execution_count": 9,
   "metadata": {},
   "outputs": [
    {
     "data": {
      "text/plain": [
       "2.7"
      ]
     },
     "execution_count": 9,
     "metadata": {},
     "output_type": "execute_result"
    }
   ],
   "source": [
    "# your code here\n",
    "def dice_mean(lst,column):\n",
    "    mean = lst[column].sum()/len(lst)\n",
    "    return mean\n",
    "\n",
    "dice_mean(dice_rolls,'value')"
   ]
  },
  {
   "cell_type": "markdown",
   "metadata": {},
   "source": [
    "#### 2.- First, calculate the frequency distribution. Then, calculate the mean using the values of the frequency distribution you've just computed. You are not allowed to use any methods or functions that directly calculate the mean value. "
   ]
  },
  {
   "cell_type": "code",
   "execution_count": 10,
   "metadata": {},
   "outputs": [],
   "source": [
    "# your code here \n",
    "#def dice_frequency_mean(lst,column):\n",
    "#    frequency = lst[column].value_counts().sum()\n",
    "#    print(frequency)\n",
    "#    return dice_mean(frequency,column)\n",
    "\n",
    "def frequency(values,column):\n",
    "    \n",
    "    values = values[column].values.tolist()\n",
    "   \n",
    "    frequency_dict = {}\n",
    "    for x in values:\n",
    "        if x in frequency_dict:\n",
    "            frequency_dict[x] += 1\n",
    "        else:\n",
    "            frequency_dict[x] = 1\n",
    "            \n",
    "    return frequency_dict, sum([value*freq for value, freq in frequency_dict.items()])/sum([freq for value, freq in frequency_dict.items()])\n"
   ]
  },
  {
   "cell_type": "code",
   "execution_count": 11,
   "metadata": {},
   "outputs": [
    {
     "data": {
      "text/plain": [
       "({1: 2, 2: 3, 3: 2, 4: 2, 5: 1}, 2.7)"
      ]
     },
     "metadata": {},
     "output_type": "display_data"
    },
    {
     "data": {
      "text/plain": [
       "{1: 2, 2: 3, 3: 2, 4: 2, 5: 1}"
      ]
     },
     "metadata": {},
     "output_type": "display_data"
    },
    {
     "data": {
      "text/plain": [
       "2.7"
      ]
     },
     "metadata": {},
     "output_type": "display_data"
    }
   ],
   "source": [
    "frequency_dict, mean_from_freq = frequency(dice_rolls,'value')\n",
    "display(frequency(dice_rolls,'value'))\n",
    "display(frequency_dict)\n",
    "display(mean_from_freq)"
   ]
  },
  {
   "cell_type": "markdown",
   "metadata": {},
   "source": [
    "#### 3.- Define a function to calculate the median. You are not allowed to use any methods or functions that directly calculate the median value. \n",
    "**Hint**: you might need to define two computation cases depending on the number of observations used to calculate the median."
   ]
  },
  {
   "cell_type": "code",
   "execution_count": 12,
   "metadata": {},
   "outputs": [
    {
     "data": {
      "text/plain": [
       "2.5"
      ]
     },
     "metadata": {},
     "output_type": "display_data"
    }
   ],
   "source": [
    "# your code here\n",
    "\n",
    "def dice_median(lst,column):\n",
    "    \n",
    "    lst_conv = lst[column].values.tolist()\n",
    "\n",
    "    if len(lst_conv) % 2 == 0:\n",
    "        median1 = lst_conv[len(lst_conv)//2]\n",
    "        median2 = lst_conv[len(lst_conv)//2 - 1]\n",
    "        median = (median1 + median2)/2\n",
    "    else:\n",
    "        median = lst_conv[len(lst_conv)//2]\n",
    "    return median\n",
    "\n",
    "display(dice_median(dice_rolls,'value'))\n",
    "#display(dice_median(ages_pop,'observation'))\n",
    "#display(dice_median(ages_pop2,'observation'))\n",
    "#display(dice_median(ages_pop3,'observation'))"
   ]
  },
  {
   "cell_type": "markdown",
   "metadata": {},
   "source": [
    "#### 4.- Define a function to calculate the four quartiles. You can use the function you defined above to compute the median but you are not allowed to use any methods or functions that directly calculate the quartiles. "
   ]
  },
  {
   "cell_type": "code",
   "execution_count": 13,
   "metadata": {},
   "outputs": [],
   "source": [
    "#def dice_quartiles_ranges(lst,column):\n",
    "    \n",
    "#    list_conv = lst['value'].values.tolist()\n",
    "    \n",
    "#    q2 = int(dice_median(lst,column))\n",
    "#    q1 = list_conv[0:(len(list_conv)//2-1)]\n",
    "#    q3 = list_conv[(len(list_conv)//2+1)::]\n",
    "#    return \"range 0 to Q1: \" + str(q1), \"range Q1 to Q2: \" + str(q2), \"range Q2 to Q3: \" + str(q3)\n",
    "\n",
    "#dice_quartiles_ranges(dice_rolls,'value')"
   ]
  },
  {
   "cell_type": "code",
   "execution_count": 14,
   "metadata": {},
   "outputs": [
    {
     "data": {
      "text/plain": [
       "('q1:2', 'q2:2.5', 'q3:4')"
      ]
     },
     "execution_count": 14,
     "metadata": {},
     "output_type": "execute_result"
    }
   ],
   "source": [
    "# your code here\n",
    "def dice_quartiles(lst,column):\n",
    "    \n",
    "    lst = lst.sort_values(column)\n",
    "    list_conv = lst[column].values.tolist()\n",
    "    \n",
    "    middle = len(list_conv)//2\n",
    "    q1 = dice_median(lst[:middle],column)\n",
    "    median = dice_median(lst,column)\n",
    "    q3 = dice_median(lst[middle:],column)\n",
    "    \n",
    "    return \"q1:\" + str(q1), \"q2:\" + str(median), \"q3:\" + str(q3)\n",
    "\n",
    "dice_quartiles(dice_rolls,'value')"
   ]
  },
  {
   "cell_type": "code",
   "execution_count": 15,
   "metadata": {},
   "outputs": [
    {
     "data": {
      "image/png": "[encoded data removed]",
      "text/plain": [
       "<Figure size 432x288 with 1 Axes>"
      ]
     },
     "metadata": {
      "needs_background": "light"
     },
     "output_type": "display_data"
    },
    {
     "data": {
      "text/plain": [
       "('q1:2', 'q2:2.5', 'q3:4')"
      ]
     },
     "metadata": {},
     "output_type": "display_data"
    }
   ],
   "source": [
    "# Used only for validation \n",
    "\n",
    "plt.boxplot(dice_rolls['value'])\n",
    "plt.show()\n",
    "\n",
    "display(dice_quartiles(dice_rolls,'value'))"
   ]
  },
  {
   "cell_type": "code",
   "execution_count": 16,
   "metadata": {},
   "outputs": [
    {
     "name": "stdout",
     "output_type": "stream",
     "text": [
      "list :  [1, 1, 2, 2, 2, 3, 3, 4, 4, 5]\n",
      "Q1 quantile of arr :  2.0\n",
      "Q2 quantile of arr :  2.5\n",
      "Q3 quantile of arr :  3.75\n"
     ]
    }
   ],
   "source": [
    "# Used only for validation \n",
    "\n",
    "print(\"list : \", list_dice_rolls) \n",
    "print(\"Q1 quantile of arr : \", np.quantile(list_dice_rolls, .25))\n",
    "print(\"Q2 quantile of arr : \", np.quantile(list_dice_rolls, .50))\n",
    "print(\"Q3 quantile of arr : \", np.quantile(list_dice_rolls, .75))"
   ]
  },
  {
   "cell_type": "markdown",
   "metadata": {},
   "source": [
    "## Challenge 3\n",
    "Read the csv `roll_the_dice_hundred.csv` from the `data` folder.\n",
    "#### 1.- Sort the values and plot them. What do you see?"
   ]
  },
  {
   "cell_type": "code",
   "execution_count": 17,
   "metadata": {},
   "outputs": [],
   "source": [
    "# your code here\n",
    "hundred_dice = pd.read_csv('../data/roll_the_dice_hundred.csv')\n",
    "hundred_dice = hundred_dice.sort_values('value')"
   ]
  },
  {
   "cell_type": "code",
   "execution_count": 18,
   "metadata": {},
   "outputs": [
    {
     "data": {
      "image/png": "[encoded data removed]",
      "text/plain": [
       "<Figure size 432x288 with 1 Axes>"
      ]
     },
     "metadata": {
      "needs_background": "light"
     },
     "output_type": "display_data"
    },
    {
     "data": {
      "text/plain": [
       "6    23\n",
       "4    22\n",
       "2    17\n",
       "3    14\n",
       "1    12\n",
       "5    12\n",
       "Name: value, dtype: int64"
      ]
     },
     "metadata": {},
     "output_type": "display_data"
    }
   ],
   "source": [
    "plt.hist(hundred_dice['value'], bins =6)\n",
    "plt.axvline(x = dice_mean(hundred_dice,'value'), color = 'r', label = 'mean')\n",
    "plt.ylabel(\"Rolls\")\n",
    "plt.xlabel(\"Dice Values\")\n",
    "plt.show()\n",
    "\n",
    "#Most of the appeareances are on numbers 6 and 4 essentialy.\n",
    "display(hundred_dice['value'].value_counts()) #bins validation"
   ]
  },
  {
   "cell_type": "markdown",
   "metadata": {},
   "source": [
    "#### 2.- Using the functions you defined in *challenge 2*, calculate the mean value of the hundred dice rolls."
   ]
  },
  {
   "cell_type": "code",
   "execution_count": 20,
   "metadata": {},
   "outputs": [
    {
     "data": {
      "text/plain": [
       "3.74"
      ]
     },
     "execution_count": 20,
     "metadata": {},
     "output_type": "execute_result"
    }
   ],
   "source": [
    "# your code here\n",
    "dice_mean(hundred_dice,'value')"
   ]
  },
  {
   "cell_type": "markdown",
   "metadata": {},
   "source": [
    "#### 3.- Now, calculate the frequency distribution.\n"
   ]
  },
  {
   "cell_type": "code",
   "execution_count": 21,
   "metadata": {},
   "outputs": [
    {
     "data": {
      "text/plain": [
       "{1: 12, 2: 17, 3: 14, 4: 22, 5: 12, 6: 23}"
      ]
     },
     "metadata": {},
     "output_type": "display_data"
    },
    {
     "data": {
      "text/plain": [
       "6    23\n",
       "4    22\n",
       "2    17\n",
       "3    14\n",
       "1    12\n",
       "5    12\n",
       "Name: value, dtype: int64"
      ]
     },
     "metadata": {},
     "output_type": "display_data"
    }
   ],
   "source": [
    "# your code here\n",
    "frequency_dict_100_dice, mean_from_freq_100_dice = frequency(hundred_dice,'value')\n",
    "display(frequency_dict_100_dice)\n",
    "display(hundred_dice['value'].value_counts()) #used for validation"
   ]
  },
  {
   "cell_type": "markdown",
   "metadata": {},
   "source": [
    "#### 4.- Plot the histogram. What do you see (shape, values...) ? How can you connect the mean value to the histogram? "
   ]
  },
  {
   "cell_type": "code",
   "execution_count": 99,
   "metadata": {},
   "outputs": [
    {
     "data": {
      "image/png": "[encoded data removed]",
      "text/plain": [
       "<Figure size 432x288 with 1 Axes>"
      ]
     },
     "metadata": {
      "needs_background": "light"
     },
     "output_type": "display_data"
    }
   ],
   "source": [
    "# your code here\n",
    "plt.bar(range(len(frequency_dict_100_dice)), list(frequency_dict_100_dice.values()), align='center')\n",
    "plt.xticks(range(len(frequency_dict_100_dice)), list(frequency_dict_100_dice.keys()))\n",
    "plt.ylabel(\"Rolls\")\n",
    "plt.xlabel(\"Dice Values\")\n",
    "plt.show()\n",
    "\n",
    "\n",
    "# The mean 3.74 is mainly distributed between the counts of 3, 4 and 6 numbers, but also number 2 takes it down to 3.74. "
   ]
  },
  {
   "cell_type": "markdown",
   "metadata": {},
   "source": [
    "#### 5.- Read the `roll_the_dice_thousand.csv` from the `data` folder. Plot the frequency distribution as you did before. Has anything changed? Why do you think it changed?"
   ]
  },
  {
   "cell_type": "code",
   "execution_count": 23,
   "metadata": {},
   "outputs": [
    {
     "data": {
      "text/html": [
       "<div>\n",
       "<style scoped>\n",
       "    .dataframe tbody tr th:only-of-type {\n",
       "        vertical-align: middle;\n",
       "    }\n",
       "\n",
       "    .dataframe tbody tr th {\n",
       "        vertical-align: top;\n",
       "    }\n",
       "\n",
       "    .dataframe thead th {\n",
       "        text-align: right;\n",
       "    }\n",
       "</style>\n",
       "<table border=\"1\" class=\"dataframe\">\n",
       "  <thead>\n",
       "    <tr style=\"text-align: right;\">\n",
       "      <th></th>\n",
       "      <th>Unnamed: 0</th>\n",
       "      <th>roll</th>\n",
       "      <th>value</th>\n",
       "    </tr>\n",
       "  </thead>\n",
       "  <tbody>\n",
       "    <tr>\n",
       "      <th>564</th>\n",
       "      <td>564</td>\n",
       "      <td>564</td>\n",
       "      <td>1</td>\n",
       "    </tr>\n",
       "    <tr>\n",
       "      <th>922</th>\n",
       "      <td>922</td>\n",
       "      <td>922</td>\n",
       "      <td>1</td>\n",
       "    </tr>\n",
       "    <tr>\n",
       "      <th>560</th>\n",
       "      <td>560</td>\n",
       "      <td>560</td>\n",
       "      <td>1</td>\n",
       "    </tr>\n",
       "    <tr>\n",
       "      <th>213</th>\n",
       "      <td>213</td>\n",
       "      <td>213</td>\n",
       "      <td>1</td>\n",
       "    </tr>\n",
       "    <tr>\n",
       "      <th>214</th>\n",
       "      <td>214</td>\n",
       "      <td>214</td>\n",
       "      <td>1</td>\n",
       "    </tr>\n",
       "  </tbody>\n",
       "</table>\n",
       "</div>"
      ],
      "text/plain": [
       "     Unnamed: 0  roll  value\n",
       "564         564   564      1\n",
       "922         922   922      1\n",
       "560         560   560      1\n",
       "213         213   213      1\n",
       "214         214   214      1"
      ]
     },
     "execution_count": 23,
     "metadata": {},
     "output_type": "execute_result"
    }
   ],
   "source": [
    "# your code here\n",
    "hundred_1000 = pd.read_csv('../data/roll_the_dice_thousand.csv')\n",
    "hundred_1000 = hundred_1000.sort_values('value')\n",
    "hundred_1000.head()"
   ]
  },
  {
   "cell_type": "code",
   "execution_count": 56,
   "metadata": {},
   "outputs": [
    {
     "data": {
      "text/plain": [
       "{1: 175, 2: 167, 3: 175, 4: 168, 5: 149, 6: 166}"
      ]
     },
     "metadata": {},
     "output_type": "display_data"
    }
   ],
   "source": [
    "# your code here\n",
    "frequency_dict_1000_dice, mean_from_freq_1000_dice = frequency(hundred_1000,'value')\n",
    "display(frequency_dict_1000_dice)"
   ]
  },
  {
   "cell_type": "code",
   "execution_count": 63,
   "metadata": {},
   "outputs": [
    {
     "data": {
      "image/png": "[encoded data removed]",
      "text/plain": [
       "<Figure size 432x288 with 1 Axes>"
      ]
     },
     "metadata": {
      "needs_background": "light"
     },
     "output_type": "display_data"
    }
   ],
   "source": [
    "plt.bar(range(len(frequency_dict_1000_dice)), list(frequency_dict_1000_dice.values()), align='center')\n",
    "plt.xticks(range(len(frequency_dict_1000_dice)), list(frequency_dict_1000_dice.keys()))\n",
    "plt.ylabel(\"Rolls\")\n",
    "plt.xlabel(\"Dice Values\")\n",
    "plt.show()\n",
    "\n",
    "# The amount of values add more possibilities to the counts, so the distribution gets affected. The fact of jumping from 10 to 100 to 1000 creates more versions of the same distribution, but this doesn't guarantee that the counts will remain similar, it will only create more chances of \"balancing\" the distribution, because more numbers will have the oppurtinity to increase their frequency."
   ]
  },
  {
   "cell_type": "markdown",
   "metadata": {},
   "source": [
    "## Challenge 4\n",
    "In the `data` folder of this repository you will find three different files with the prefix `ages_population`. These files contain information about a poll answered by a thousand people regarding their age. Each file corresponds to the poll answers in different neighbourhoods of Barcelona.\n",
    "\n",
    "#### 1.- Read the file `ages_population.csv`. Calculate the frequency distribution and plot it as we did during the lesson. Try to guess the range in which the mean and the standard deviation will be by looking at the plot. "
   ]
  },
  {
   "cell_type": "code",
   "execution_count": 91,
   "metadata": {},
   "outputs": [
    {
     "data": {
      "text/html": [
       "<div>\n",
       "<style scoped>\n",
       "    .dataframe tbody tr th:only-of-type {\n",
       "        vertical-align: middle;\n",
       "    }\n",
       "\n",
       "    .dataframe tbody tr th {\n",
       "        vertical-align: top;\n",
       "    }\n",
       "\n",
       "    .dataframe thead th {\n",
       "        text-align: right;\n",
       "    }\n",
       "</style>\n",
       "<table border=\"1\" class=\"dataframe\">\n",
       "  <thead>\n",
       "    <tr style=\"text-align: right;\">\n",
       "      <th></th>\n",
       "      <th>observation</th>\n",
       "    </tr>\n",
       "  </thead>\n",
       "  <tbody>\n",
       "    <tr>\n",
       "      <th>489</th>\n",
       "      <td>1</td>\n",
       "    </tr>\n",
       "    <tr>\n",
       "      <th>209</th>\n",
       "      <td>1</td>\n",
       "    </tr>\n",
       "    <tr>\n",
       "      <th>301</th>\n",
       "      <td>2</td>\n",
       "    </tr>\n",
       "    <tr>\n",
       "      <th>451</th>\n",
       "      <td>2</td>\n",
       "    </tr>\n",
       "    <tr>\n",
       "      <th>338</th>\n",
       "      <td>4</td>\n",
       "    </tr>\n",
       "  </tbody>\n",
       "</table>\n",
       "</div>"
      ],
      "text/plain": [
       "     observation\n",
       "489            1\n",
       "209            1\n",
       "301            2\n",
       "451            2\n",
       "338            4"
      ]
     },
     "execution_count": 91,
     "metadata": {},
     "output_type": "execute_result"
    }
   ],
   "source": [
    "# your code here\n",
    "ages_pop = pd.read_csv('../data/ages_population.csv')\n",
    "ages_pop['observation'] = ages_pop['observation'].astype(int)\n",
    "ages_pop = ages_pop.sort_values('observation')\n",
    "ages_pop.head()"
   ]
  },
  {
   "cell_type": "code",
   "execution_count": 92,
   "metadata": {},
   "outputs": [],
   "source": [
    "frequency_dict_ages_pop, mean_from_freq_ages_pop = frequency(ages_pop,'observation')\n",
    "#display(frequency_dict_ages_pop)"
   ]
  },
  {
   "cell_type": "code",
   "execution_count": 93,
   "metadata": {},
   "outputs": [
    {
     "data": {
      "image/png": "[encoded data removed]",
      "text/plain": [
       "<Figure size 432x288 with 1 Axes>"
      ]
     },
     "metadata": {
      "needs_background": "light"
     },
     "output_type": "display_data"
    }
   ],
   "source": [
    "plt.bar(range(len(frequency_dict_ages_pop)), list(frequency_dict_ages_pop.values()), align='center')\n",
    "plt.xticks(range(len(frequency_dict_ages_pop)), list(frequency_dict_ages_pop.keys()))\n",
    "plt.ylabel(\"Counts\")\n",
    "plt.xlabel(\"Ages\")\n",
    "plt.show()\n",
    "\n",
    "# Don't know how to split the values in less bars."
   ]
  },
  {
   "cell_type": "code",
   "execution_count": 94,
   "metadata": {},
   "outputs": [
    {
     "data": {
      "image/png": "[encoded data removed]",
      "text/plain": [
       "<Figure size 432x288 with 1 Axes>"
      ]
     },
     "metadata": {
      "needs_background": "light"
     },
     "output_type": "display_data"
    },
    {
     "data": {
      "text/plain": [
       "39    45\n",
       "41    36\n",
       "30    34\n",
       "35    33\n",
       "43    32\n",
       "      ..\n",
       "69     1\n",
       "70     1\n",
       "71     1\n",
       "73     1\n",
       "82     1\n",
       "Name: observation, Length: 72, dtype: int64"
      ]
     },
     "metadata": {},
     "output_type": "display_data"
    }
   ],
   "source": [
    "plt.hist(ages_pop['observation'], bins =6)\n",
    "plt.axvline(x = dice_mean(ages_pop,'observation'), color = 'r', label = 'mean')\n",
    "plt.ylabel(\"Counts\")\n",
    "plt.xlabel(\"Ages\")\n",
    "plt.show()\n",
    "\n",
    "#Most of the appeareances are on range 30-40 essentialy.\n",
    "display(ages_pop['observation'].value_counts()) #bins validation"
   ]
  },
  {
   "cell_type": "markdown",
   "metadata": {},
   "source": [
    "#### 2.- Calculate the exact mean and standard deviation and compare them with your guesses. Do they fall inside the ranges you guessed?"
   ]
  },
  {
   "cell_type": "code",
   "execution_count": 95,
   "metadata": {},
   "outputs": [
    {
     "data": {
      "text/plain": [
       "observation    36.56\n",
       "dtype: float64"
      ]
     },
     "metadata": {},
     "output_type": "display_data"
    },
    {
     "data": {
      "text/plain": [
       "observation    12.8165\n",
       "dtype: float64"
      ]
     },
     "metadata": {},
     "output_type": "display_data"
    }
   ],
   "source": [
    "# your code here\n",
    "display(ages_pop.mean())\n",
    "display(ages_pop.std())"
   ]
  },
  {
   "cell_type": "markdown",
   "metadata": {},
   "source": [
    "#### 3.- Now read the file `ages_population2.csv` . Calculate the frequency distribution and plot it."
   ]
  },
  {
   "cell_type": "code",
   "execution_count": 96,
   "metadata": {},
   "outputs": [],
   "source": [
    "# your code here\n",
    "ages_pop2 = pd.read_csv('../data/ages_population2.csv')\n",
    "ages_pop2['observation'] = ages_pop2['observation'].astype(int)\n",
    "ages_pop2 = ages_pop2.sort_values('observation',ascending=False)\n",
    "#ages_pop2.head()"
   ]
  },
  {
   "cell_type": "markdown",
   "metadata": {},
   "source": [
    "####  4.- What do you see? Is there any difference with the frequency distribution in step 1?"
   ]
  },
  {
   "cell_type": "code",
   "execution_count": 97,
   "metadata": {},
   "outputs": [],
   "source": [
    "frequency_dict_ages_pop2, mean_from_freq_ages_pop2 = frequency(ages_pop2,'observation')\n",
    "#display(frequency_dict_ages_pop2)"
   ]
  },
  {
   "cell_type": "code",
   "execution_count": 102,
   "metadata": {},
   "outputs": [
    {
     "data": {
      "image/png": "[encoded data removed]",
      "text/plain": [
       "<Figure size 432x288 with 1 Axes>"
      ]
     },
     "metadata": {
      "needs_background": "light"
     },
     "output_type": "display_data"
    },
    {
     "data": {
      "text/plain": [
       "28    139\n",
       "27    125\n",
       "26    120\n",
       "29    115\n",
       "25     98\n",
       "30     90\n",
       "24     78\n",
       "31     61\n",
       "23     41\n",
       "22     35\n",
       "32     31\n",
       "33     22\n",
       "21     17\n",
       "20     13\n",
       "34      7\n",
       "19      3\n",
       "35      3\n",
       "36      2\n",
       "Name: observation, dtype: int64"
      ]
     },
     "metadata": {},
     "output_type": "display_data"
    }
   ],
   "source": [
    "plt.bar(range(len(frequency_dict_ages_pop2)), list(frequency_dict_ages_pop2.values()), align='center')\n",
    "plt.xticks(range(len(frequency_dict_ages_pop2)), list(frequency_dict_ages_pop2.keys()))\n",
    "plt.ylabel(\"Counts\")\n",
    "plt.xlabel(\"Ages\")\n",
    "plt.show()\n",
    "display(ages_pop2['observation'].value_counts()) #bins validation\n",
    "\n",
    "# The dataset contains a smaller min-max range than the one in step 1, most of the values are distributed between the 25-30 range the distrbution is likely more normal than the one in step 1."
   ]
  },
  {
   "cell_type": "markdown",
   "metadata": {},
   "source": [
    "#### 5.- Calculate the mean and standard deviation. Compare the results with the mean and standard deviation in step 2. What do you think?"
   ]
  },
  {
   "cell_type": "code",
   "execution_count": 89,
   "metadata": {},
   "outputs": [
    {
     "data": {
      "text/plain": [
       "observation    27.155\n",
       "dtype: float64"
      ]
     },
     "metadata": {},
     "output_type": "display_data"
    },
    {
     "data": {
      "text/plain": [
       "observation    2.969814\n",
       "dtype: float64"
      ]
     },
     "metadata": {},
     "output_type": "display_data"
    }
   ],
   "source": [
    "# your code here\n",
    "display(ages_pop2.mean())\n",
    "display(ages_pop2.std())\n",
    "\n",
    "# Then mean almost fall in the same place, considering the fact that the dataset has a smaller range. \n",
    "# But the std is 10% less deviated from the mean and the range has to a lot to do with this. "
   ]
  },
  {
   "cell_type": "code",
   "execution_count": 100,
   "metadata": {},
   "outputs": [
    {
     "data": {
      "image/png": "[encoded data removed]",
      "text/plain": [
       "<Figure size 432x288 with 1 Axes>"
      ]
     },
     "metadata": {
      "needs_background": "light"
     },
     "output_type": "display_data"
    }
   ],
   "source": [
    "ages_pop2['observation'].hist()\n",
    "#plt.hist(ages_pop2, bins =6)\n",
    "plt.axvline(x = dice_mean(ages_pop2,'observation'), color = 'r', label = 'mean')\n",
    "plt.show()"
   ]
  },
  {
   "cell_type": "markdown",
   "metadata": {},
   "source": [
    "## Challenge 5\n",
    "Now is the turn of `ages_population3.csv`.\n",
    "\n",
    "#### 1.- Read the file `ages_population3.csv`. Calculate the frequency distribution and plot it."
   ]
  },
  {
   "cell_type": "code",
   "execution_count": 107,
   "metadata": {},
   "outputs": [
    {
     "data": {
      "text/html": [
       "<div>\n",
       "<style scoped>\n",
       "    .dataframe tbody tr th:only-of-type {\n",
       "        vertical-align: middle;\n",
       "    }\n",
       "\n",
       "    .dataframe tbody tr th {\n",
       "        vertical-align: top;\n",
       "    }\n",
       "\n",
       "    .dataframe thead th {\n",
       "        text-align: right;\n",
       "    }\n",
       "</style>\n",
       "<table border=\"1\" class=\"dataframe\">\n",
       "  <thead>\n",
       "    <tr style=\"text-align: right;\">\n",
       "      <th></th>\n",
       "      <th>observation</th>\n",
       "    </tr>\n",
       "  </thead>\n",
       "  <tbody>\n",
       "    <tr>\n",
       "      <th>263</th>\n",
       "      <td>1</td>\n",
       "    </tr>\n",
       "    <tr>\n",
       "      <th>924</th>\n",
       "      <td>2</td>\n",
       "    </tr>\n",
       "    <tr>\n",
       "      <th>415</th>\n",
       "      <td>2</td>\n",
       "    </tr>\n",
       "    <tr>\n",
       "      <th>639</th>\n",
       "      <td>4</td>\n",
       "    </tr>\n",
       "    <tr>\n",
       "      <th>698</th>\n",
       "      <td>4</td>\n",
       "    </tr>\n",
       "  </tbody>\n",
       "</table>\n",
       "</div>"
      ],
      "text/plain": [
       "     observation\n",
       "263            1\n",
       "924            2\n",
       "415            2\n",
       "639            4\n",
       "698            4"
      ]
     },
     "execution_count": 107,
     "metadata": {},
     "output_type": "execute_result"
    }
   ],
   "source": [
    "# your code here\n",
    "ages_pop3 = pd.read_csv('../data/ages_population3.csv')\n",
    "ages_pop3['observation'] = ages_pop3['observation'].astype(int)\n",
    "ages_pop3 = ages_pop3.sort_values('observation')\n",
    "ages_pop3.head()"
   ]
  },
  {
   "cell_type": "code",
   "execution_count": 105,
   "metadata": {},
   "outputs": [],
   "source": [
    "frequency_dict_ages_pop3, mean_from_freq_ages_pop3 = frequency(ages_pop3,'observation')\n",
    "#display(frequency_dict_ages_pop3)"
   ]
  },
  {
   "cell_type": "code",
   "execution_count": 108,
   "metadata": {},
   "outputs": [
    {
     "data": {
      "image/png": "[encoded data removed]",
      "text/plain": [
       "<Figure size 432x288 with 1 Axes>"
      ]
     },
     "metadata": {
      "needs_background": "light"
     },
     "output_type": "display_data"
    },
    {
     "data": {
      "text/plain": [
       "32    37\n",
       "37    31\n",
       "35    31\n",
       "39    29\n",
       "36    26\n",
       "      ..\n",
       "8      1\n",
       "7      1\n",
       "5      1\n",
       "76     1\n",
       "1      1\n",
       "Name: observation, Length: 75, dtype: int64"
      ]
     },
     "metadata": {},
     "output_type": "display_data"
    }
   ],
   "source": [
    "plt.bar(range(len(frequency_dict_ages_pop3)), list(frequency_dict_ages_pop3.values()), align='center')\n",
    "plt.xticks(range(len(frequency_dict_ages_pop3)), list(frequency_dict_ages_pop3.keys()))\n",
    "plt.ylabel(\"Counts\")\n",
    "plt.xlabel(\"Ages\")\n",
    "plt.show()\n",
    "display(ages_pop3['observation'].value_counts()) #bins validation"
   ]
  },
  {
   "cell_type": "markdown",
   "metadata": {},
   "source": [
    "#### 2.- Calculate the mean and standard deviation. Compare the results with the plot in step 1. What is happening?"
   ]
  },
  {
   "cell_type": "code",
   "execution_count": 109,
   "metadata": {},
   "outputs": [
    {
     "data": {
      "text/plain": [
       "observation    41.989\n",
       "dtype: float64"
      ]
     },
     "metadata": {},
     "output_type": "display_data"
    },
    {
     "data": {
      "text/plain": [
       "observation    16.144706\n",
       "dtype: float64"
      ]
     },
     "metadata": {},
     "output_type": "display_data"
    }
   ],
   "source": [
    "# your code here\n",
    "display(ages_pop3.mean())\n",
    "display(ages_pop3.std())\n",
    "\n",
    "# "
   ]
  },
  {
   "cell_type": "markdown",
   "metadata": {},
   "source": [
    "#### 3.- Calculate the four quartiles. Use the results to explain your reasoning for question in step 2. How much of a difference is there between the median and the mean?"
   ]
  },
  {
   "cell_type": "code",
   "execution_count": 111,
   "metadata": {},
   "outputs": [
    {
     "data": {
      "image/png": "[encoded data removed]",
      "text/plain": [
       "<Figure size 432x288 with 1 Axes>"
      ]
     },
     "metadata": {
      "needs_background": "light"
     },
     "output_type": "display_data"
    },
    {
     "data": {
      "text/plain": [
       "('q1:30.0', 'q2:40.0', 'q3:53.0')"
      ]
     },
     "metadata": {},
     "output_type": "display_data"
    }
   ],
   "source": [
    "# your code here\n",
    "\n",
    "plt.boxplot(ages_pop3['observation'])\n",
    "plt.show()\n",
    "\n",
    "display(dice_quartiles(ages_pop3,'observation'))"
   ]
  },
  {
   "cell_type": "markdown",
   "metadata": {},
   "source": [
    "#### 4.- Calculate other percentiles that might be useful to give more arguments to your reasoning."
   ]
  },
  {
   "cell_type": "code",
   "execution_count": 116,
   "metadata": {},
   "outputs": [
    {
     "data": {
      "text/plain": [
       "28.0"
      ]
     },
     "metadata": {},
     "output_type": "display_data"
    },
    {
     "data": {
      "text/plain": [
       "47.0"
      ]
     },
     "metadata": {},
     "output_type": "display_data"
    },
    {
     "data": {
      "text/plain": [
       "70.0"
      ]
     },
     "metadata": {},
     "output_type": "display_data"
    }
   ],
   "source": [
    "# your code here\n",
    "\n",
    "ages_pop_20p = np.percentile(ages_pop3, 20) \n",
    "ages_pop_65p = np.percentile(ages_pop3, 65) \n",
    "ages_pop_95p = np.percentile(ages_pop3, 95) \n",
    "\n",
    "display(ages_pop_20p, ages_pop_65p, ages_pop_95p)"
   ]
  },
  {
   "cell_type": "markdown",
   "metadata": {},
   "source": [
    "## Bonus challenge\n",
    "Compare the information about the three neighbourhoods. Prepare a report about the three of them. Remember to find out which are their similarities and their differences backing your arguments in basic statistics."
   ]
  },
  {
   "cell_type": "code",
   "execution_count": 49,
   "metadata": {},
   "outputs": [],
   "source": [
    "# your code here"
   ]
  }
 ],
 "metadata": {
  "kernelspec": {
   "display_name": "Python 3 (ipykernel)",
   "language": "python",
   "name": "python3"
  },
  "language_info": {
   "codemirror_mode": {
    "name": "ipython",
    "version": 3
   },
   "file_extension": ".py",
   "mimetype": "text/x-python",
   "name": "python",
   "nbconvert_exporter": "python",
   "pygments_lexer": "ipython3",
   "version": "3.9.7"
  }
 },
 "nbformat": 4,
 "nbformat_minor": 2
}
