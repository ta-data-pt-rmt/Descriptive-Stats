{
 "cells": [
  {
   "cell_type": "markdown",
   "metadata": {},
   "source": [
    "# Understanding Descriptive Statistics\n",
    "\n",
    "Import the necessary libraries here:"
   ]
  },
  {
   "cell_type": "code",
   "execution_count": 86,
   "metadata": {},
   "outputs": [],
   "source": [
    "# Libraries\n",
    "import pandas as pd\n",
    "import numpy as np\n",
    "import matplotlib.pyplot as plt"
   ]
  },
  {
   "cell_type": "code",
   "execution_count": 87,
   "metadata": {},
   "outputs": [
    {
     "data": {
      "text/plain": [
       "{1: 0, 2: 0, 3: 0, 4: 0, 5: 0, 6: 0}"
      ]
     },
     "execution_count": 87,
     "metadata": {},
     "output_type": "execute_result"
    }
   ],
   "source": [
    "def diceroll(k, n, dice_sides=6):  ##the number of dice k and the number of times to roll the dice n\n",
    "    \n",
    "    counter = {i : 0 for i in range(k, k*dice_sides + 1)} ## prepare dictionary with zero values for all possible results\n",
    "\n",
    "    \n",
    "    return counter\n",
    "diceroll(k=1, n=10)\n",
    "\n"
   ]
  },
  {
   "cell_type": "markdown",
   "metadata": {},
   "source": [
    "## Challenge 1\n",
    "#### 1.- Define a function that simulates rolling a dice 10 times. Save the information in a dataframe.\n",
    "**Hint**: you can use the *choices* function from module *random* to help you with the simulation."
   ]
  },
  {
   "cell_type": "code",
   "execution_count": 88,
   "metadata": {},
   "outputs": [
    {
     "ename": "TypeError",
     "evalue": "'int' object is not callable",
     "output_type": "error",
     "traceback": [
      "\u001b[1;31m---------------------------------------------------------------------------\u001b[0m",
      "\u001b[1;31mTypeError\u001b[0m                                 Traceback (most recent call last)",
      "\u001b[1;32m~\\AppData\\Local\\Temp/ipykernel_1908/2097544340.py\u001b[0m in \u001b[0;36m<module>\u001b[1;34m\u001b[0m\n\u001b[0;32m     12\u001b[0m         \u001b[0mcounter\u001b[0m\u001b[1;33m[\u001b[0m\u001b[0mdice_sum\u001b[0m\u001b[1;33m]\u001b[0m \u001b[1;33m+=\u001b[0m \u001b[1;36m1\u001b[0m\u001b[1;33m\u001b[0m\u001b[1;33m\u001b[0m\u001b[0m\n\u001b[0;32m     13\u001b[0m     \u001b[1;32mreturn\u001b[0m \u001b[0mcounter\u001b[0m\u001b[1;33m\u001b[0m\u001b[1;33m\u001b[0m\u001b[0m\n\u001b[1;32m---> 14\u001b[1;33m \u001b[0mdice_dic\u001b[0m\u001b[1;33m=\u001b[0m\u001b[0mdiceroll\u001b[0m\u001b[1;33m(\u001b[0m\u001b[0mk\u001b[0m\u001b[1;33m=\u001b[0m\u001b[1;36m1\u001b[0m\u001b[1;33m,\u001b[0m \u001b[0mn\u001b[0m\u001b[1;33m=\u001b[0m\u001b[1;36m10\u001b[0m\u001b[1;33m)\u001b[0m\u001b[1;33m\u001b[0m\u001b[1;33m\u001b[0m\u001b[0m\n\u001b[0m\u001b[0;32m     15\u001b[0m \u001b[1;33m\u001b[0m\u001b[0m\n\u001b[0;32m     16\u001b[0m \u001b[1;31m#dice_df=pd.DataFrame(dice_dic).transpose()# Ask?If using all scalar values, you must pass an index\u001b[0m\u001b[1;33m\u001b[0m\u001b[1;33m\u001b[0m\u001b[0m\n",
      "\u001b[1;32m~\\AppData\\Local\\Temp/ipykernel_1908/2097544340.py\u001b[0m in \u001b[0;36mdiceroll\u001b[1;34m(k, n, dice_sides)\u001b[0m\n\u001b[0;32m      9\u001b[0m     \u001b[1;31m# roll all the dice\u001b[0m\u001b[1;33m\u001b[0m\u001b[1;33m\u001b[0m\u001b[0m\n\u001b[0;32m     10\u001b[0m     \u001b[1;32mfor\u001b[0m \u001b[0mi\u001b[0m \u001b[1;32min\u001b[0m \u001b[0mrange\u001b[0m\u001b[1;33m(\u001b[0m\u001b[0mn\u001b[0m\u001b[1;33m)\u001b[0m\u001b[1;33m:\u001b[0m\u001b[1;33m\u001b[0m\u001b[1;33m\u001b[0m\u001b[0m\n\u001b[1;32m---> 11\u001b[1;33m         \u001b[0mdice_sum\u001b[0m \u001b[1;33m=\u001b[0m \u001b[0msum\u001b[0m\u001b[1;33m(\u001b[0m\u001b[0mrandom\u001b[0m\u001b[1;33m.\u001b[0m\u001b[0mchoices\u001b[0m\u001b[1;33m(\u001b[0m\u001b[0mrange\u001b[0m\u001b[1;33m(\u001b[0m\u001b[1;36m1\u001b[0m\u001b[1;33m,\u001b[0m \u001b[0mdice_sides\u001b[0m \u001b[1;33m+\u001b[0m \u001b[1;36m1\u001b[0m\u001b[1;33m)\u001b[0m\u001b[1;33m,\u001b[0m \u001b[0mk\u001b[0m \u001b[1;33m=\u001b[0m \u001b[0mk\u001b[0m\u001b[1;33m)\u001b[0m\u001b[1;33m)\u001b[0m \u001b[1;31m#choices()\u001b[0m\u001b[1;33m\u001b[0m\u001b[1;33m\u001b[0m\u001b[0m\n\u001b[0m\u001b[0;32m     12\u001b[0m         \u001b[0mcounter\u001b[0m\u001b[1;33m[\u001b[0m\u001b[0mdice_sum\u001b[0m\u001b[1;33m]\u001b[0m \u001b[1;33m+=\u001b[0m \u001b[1;36m1\u001b[0m\u001b[1;33m\u001b[0m\u001b[1;33m\u001b[0m\u001b[0m\n\u001b[0;32m     13\u001b[0m     \u001b[1;32mreturn\u001b[0m \u001b[0mcounter\u001b[0m\u001b[1;33m\u001b[0m\u001b[1;33m\u001b[0m\u001b[0m\n",
      "\u001b[1;31mTypeError\u001b[0m: 'int' object is not callable"
     ]
    }
   ],
   "source": [
    "# your code here\n",
    "import random\n",
    "\n",
    "def diceroll(k, n, dice_sides=6):  ##the number of dice k and the number of times to roll the dice n\n",
    "    \n",
    "    \n",
    "    counter = {i : 0 for i in range(k, k*dice_sides + 1)} ## prepare dictionary with zero values for all possible results\n",
    "\n",
    "    # roll all the dice\n",
    "    for i in range(n):\n",
    "        dice_sum = sum(random.choices(range(1, dice_sides + 1), k = k)) #choices()\n",
    "        counter[dice_sum] += 1\n",
    "    return counter\n",
    "dice_dic=diceroll(k=1, n=10)\n",
    "\n",
    "#dice_df=pd.DataFrame(dice_dic).transpose()# Ask?If using all scalar values, you must pass an index\n",
    "dice_df=pd.DataFrame(dice_dic,index=['side']).transpose()\n",
    "dice_df"
   ]
  },
  {
   "cell_type": "code",
   "execution_count": 89,
   "metadata": {},
   "outputs": [
    {
     "data": {
      "text/html": [
       "<div>\n",
       "<style scoped>\n",
       "    .dataframe tbody tr th:only-of-type {\n",
       "        vertical-align: middle;\n",
       "    }\n",
       "\n",
       "    .dataframe tbody tr th {\n",
       "        vertical-align: top;\n",
       "    }\n",
       "\n",
       "    .dataframe thead th {\n",
       "        text-align: right;\n",
       "    }\n",
       "</style>\n",
       "<table border=\"1\" class=\"dataframe\">\n",
       "  <thead>\n",
       "    <tr style=\"text-align: right;\">\n",
       "      <th></th>\n",
       "      <th>side</th>\n",
       "    </tr>\n",
       "  </thead>\n",
       "  <tbody>\n",
       "    <tr>\n",
       "      <th>1</th>\n",
       "      <td>2</td>\n",
       "    </tr>\n",
       "    <tr>\n",
       "      <th>2</th>\n",
       "      <td>2</td>\n",
       "    </tr>\n",
       "    <tr>\n",
       "      <th>3</th>\n",
       "      <td>2</td>\n",
       "    </tr>\n",
       "    <tr>\n",
       "      <th>4</th>\n",
       "      <td>2</td>\n",
       "    </tr>\n",
       "    <tr>\n",
       "      <th>5</th>\n",
       "      <td>1</td>\n",
       "    </tr>\n",
       "    <tr>\n",
       "      <th>6</th>\n",
       "      <td>1</td>\n",
       "    </tr>\n",
       "  </tbody>\n",
       "</table>\n",
       "</div>"
      ],
      "text/plain": [
       "   side\n",
       "1     2\n",
       "2     2\n",
       "3     2\n",
       "4     2\n",
       "5     1\n",
       "6     1"
      ]
     },
     "execution_count": 89,
     "metadata": {},
     "output_type": "execute_result"
    }
   ],
   "source": [
    "dice_df"
   ]
  },
  {
   "cell_type": "markdown",
   "metadata": {},
   "source": [
    "#### 2.- Plot the results sorted by value."
   ]
  },
  {
   "cell_type": "code",
   "execution_count": 81,
   "metadata": {},
   "outputs": [
    {
     "data": {
      "image/png": "[encoded data removed]",
      "text/plain": [
       "<Figure size 432x288 with 1 Axes>"
      ]
     },
     "metadata": {
      "needs_background": "light"
     },
     "output_type": "display_data"
    }
   ],
   "source": [
    "# your code here\n",
    "dice_df1=dice_df.sort_values(by =\"side\")\n",
    "plt.boxplot(dice_df1)\n",
    "plt.show()\n"
   ]
  },
  {
   "cell_type": "markdown",
   "metadata": {},
   "source": [
    "#### 3.- Calculate the frequency distribution and plot it. What is the relation between this plot and the plot above? Describe it with words."
   ]
  },
  {
   "cell_type": "code",
   "execution_count": 82,
   "metadata": {},
   "outputs": [
    {
     "data": {
      "text/plain": [
       "side\n",
       "2       4\n",
       "1       2\n",
       "dtype: int64"
      ]
     },
     "execution_count": 82,
     "metadata": {},
     "output_type": "execute_result"
    }
   ],
   "source": [
    "# your code here\n",
    "dice_df1.value_counts()"
   ]
  },
  {
   "cell_type": "code",
   "execution_count": 83,
   "metadata": {},
   "outputs": [
    {
     "data": {
      "text/plain": [
       "array([[<AxesSubplot:title={'center':'side'}>]], dtype=object)"
      ]
     },
     "execution_count": 83,
     "metadata": {},
     "output_type": "execute_result"
    },
    {
     "data": {
      "image/png": "[encoded data removed]",
      "text/plain": [
       "<Figure size 432x288 with 1 Axes>"
      ]
     },
     "metadata": {
      "needs_background": "light"
     },
     "output_type": "display_data"
    }
   ],
   "source": [
    "dice_df1.hist()"
   ]
  },
  {
   "cell_type": "code",
   "execution_count": null,
   "metadata": {},
   "outputs": [],
   "source": []
  },
  {
   "cell_type": "code",
   "execution_count": null,
   "metadata": {},
   "outputs": [],
   "source": [
    "\"\"\"\n",
    "your comments here\n",
    ".....(Histograms and box )Both plots are very similar in that they both help to visualize and describe numeric data. Although (histograms)2nd plot is  better in determining the underlying distribution of the data.\n",
    "In 2nd grapfh more data are concentrated in point (2),plotting histograms allows us to visualize nicely the distribution of our data\n",
    "\"\"\""
   ]
  },
  {
   "cell_type": "markdown",
   "metadata": {},
   "source": [
    "## Challenge 2\n",
    "Now, using the dice results obtained in *challenge 1*, your are going to define some functions that will help you calculate the mean of your data in two different ways, the median and the four quartiles. \n",
    "\n",
    "#### 1.- Define a function that computes the mean by summing all the observations and dividing by the total number of observations. You are not allowed to use any methods or functions that directly calculate the mean value. "
   ]
  },
  {
   "cell_type": "code",
   "execution_count": null,
   "metadata": {},
   "outputs": [],
   "source": [
    "# your code here\n",
    "def mean_df(dice_df):\n",
    "    sum=0\n",
    "    for i in range(len(dice_df)):\n",
    "        #print(round(i*100/(len(dice_df)-1),2),\"\\t\",dice_df[len(dataset)-i-1])\n",
    "        sum=sum+dice_df.iloc[i]\n",
    "    return sum\n",
    "\n",
    "mean_dice=mean_df(dice_df)/len(dice_df)\n",
    "mean_dice"
   ]
  },
  {
   "cell_type": "code",
   "execution_count": null,
   "metadata": {},
   "outputs": [],
   "source": [
    "#dice_df.mean()"
   ]
  },
  {
   "cell_type": "markdown",
   "metadata": {},
   "source": [
    "#### 2.- First, calculate the frequency distribution. Then, calculate the mean using the values of the frequency distribution you've just computed. You are not allowed to use any methods or functions that directly calculate the mean value. "
   ]
  },
  {
   "cell_type": "code",
   "execution_count": 74,
   "metadata": {},
   "outputs": [
    {
     "data": {
      "text/plain": [
       "[2, 2, 2, 2, 1, 1]"
      ]
     },
     "execution_count": 74,
     "metadata": {},
     "output_type": "execute_result"
    }
   ],
   "source": [
    "dice_df_list=list(dice_df[\"side\"])# convert to list\n",
    "dice_df_list"
   ]
  },
  {
   "cell_type": "code",
   "execution_count": 73,
   "metadata": {},
   "outputs": [
    {
     "data": {
      "text/plain": [
       "{2: 4, 1: 2}"
      ]
     },
     "execution_count": 73,
     "metadata": {},
     "output_type": "execute_result"
    }
   ],
   "source": [
    "def freq(dice_df_list):\n",
    "    d = {}\n",
    "    for i in dice_df_list:\n",
    "        if d.get(i):\n",
    "            d[i] += 1\n",
    "        else:\n",
    "            d[i] = 1\n",
    "    return d\n",
    "freq_df=freq(dice_df_list)\n",
    "freq_df"
   ]
  },
  {
   "cell_type": "code",
   "execution_count": 75,
   "metadata": {},
   "outputs": [
    {
     "data": {
      "text/plain": [
       "side\n",
       "2       4\n",
       "1       2\n",
       "dtype: int64"
      ]
     },
     "execution_count": 75,
     "metadata": {},
     "output_type": "execute_result"
    }
   ],
   "source": [
    "dice_df.value_counts()"
   ]
  },
  {
   "cell_type": "code",
   "execution_count": null,
   "metadata": {},
   "outputs": [],
   "source": []
  },
  {
   "cell_type": "code",
   "execution_count": 76,
   "metadata": {},
   "outputs": [
    {
     "data": {
      "text/plain": [
       "3.0"
      ]
     },
     "execution_count": 76,
     "metadata": {},
     "output_type": "execute_result"
    }
   ],
   "source": [
    "# your code here\n",
    "sum=0\n",
    "x = freq_df.values()\n",
    "x\n",
    "for i in x:\n",
    "    sum = sum + i  \n",
    "mean=sum/len(x)\n",
    "mean"
   ]
  },
  {
   "cell_type": "code",
   "execution_count": 13,
   "metadata": {},
   "outputs": [],
   "source": [
    "#np.mean(dice_df_list)"
   ]
  },
  {
   "cell_type": "markdown",
   "metadata": {},
   "source": [
    "#### 3.- Define a function to calculate the median. You are not allowed to use any methods or functions that directly calculate the median value. \n",
    "**Hint**: you might need to define two computation cases depending on the number of observations used to calculate the median."
   ]
  },
  {
   "cell_type": "code",
   "execution_count": 14,
   "metadata": {},
   "outputs": [
    {
     "data": {
      "text/plain": [
       "[2, 2, 2, 2, 1, 1]"
      ]
     },
     "execution_count": 14,
     "metadata": {},
     "output_type": "execute_result"
    }
   ],
   "source": [
    "# your code here\n",
    "dice_df_list=list(dice_df[\"side\"])\n",
    "dice_df_list"
   ]
  },
  {
   "cell_type": "code",
   "execution_count": 15,
   "metadata": {},
   "outputs": [
    {
     "data": {
      "text/plain": [
       "2.0"
      ]
     },
     "execution_count": 15,
     "metadata": {},
     "output_type": "execute_result"
    }
   ],
   "source": [
    "def median(dice_df_list):\n",
    "    sorted_data =sorted(dice_df_list)\n",
    "\n",
    "    data_len = len(sorted_data)\n",
    "    middle = (data_len - 1) // 2  #//---floor division\n",
    "    if middle % 2:\n",
    "        return sorted_data[middle]\n",
    "    else:\n",
    "        return (sorted_data[middle] + sorted_data[middle + 1]) / 2.0\n",
    "    \n",
    "median_df=median(dice_df_list)\n",
    "median_df"
   ]
  },
  {
   "cell_type": "code",
   "execution_count": 16,
   "metadata": {},
   "outputs": [
    {
     "data": {
      "text/plain": [
       "[1, 1, 2, 2, 2, 2]"
      ]
     },
     "execution_count": 16,
     "metadata": {},
     "output_type": "execute_result"
    }
   ],
   "source": [
    "sorted(dice_df_list)"
   ]
  },
  {
   "cell_type": "code",
   "execution_count": 17,
   "metadata": {},
   "outputs": [],
   "source": [
    "#median(dice_df_list)"
   ]
  },
  {
   "cell_type": "markdown",
   "metadata": {},
   "source": [
    "#### 4.- Define a function to calculate the four quartiles. You can use the function you defined above to compute the median but you are not allowed to use any methods or functions that directly calculate the quartiles. "
   ]
  },
  {
   "cell_type": "code",
   "execution_count": 18,
   "metadata": {},
   "outputs": [
    {
     "name": "stdout",
     "output_type": "stream",
     "text": [
      "1.75\n",
      "5.25\n",
      "3.5\n"
     ]
    }
   ],
   "source": [
    "# your code here\n",
    "\n",
    "\n",
    "q1=1/4*(6+1)\n",
    "print(q1)\n",
    "#q2 = median_df\n",
    "\n",
    "q3 =3/4*(6+1)\n",
    "print(q3)\n",
    "n=6\n",
    "q2=q3-q1\n",
    "print(q2)"
   ]
  },
  {
   "cell_type": "code",
   "execution_count": 19,
   "metadata": {},
   "outputs": [],
   "source": [
    "#note:\n",
    "#The Quartile Formula for Q1= ¼(n+1)th term\n",
    "#The Quartile Formula for Q3= ¾(n+1)th term\n",
    "#The Quartile Formula for Q2= Q3–Q1(Equivalent to Median)"
   ]
  },
  {
   "cell_type": "markdown",
   "metadata": {},
   "source": [
    "## Challenge 3\n",
    "Read the csv `roll_the_dice_hundred.csv` from the `data` folder.\n",
    "#### 1.- Sort the values and plot them. What do you see?"
   ]
  },
  {
   "cell_type": "code",
   "execution_count": 20,
   "metadata": {},
   "outputs": [],
   "source": [
    "# your code here\n",
    "data_dice=pd.read_csv(\"C:/Users/suparna/Ironhack_6_sep/week3/day3/Descriptive-Stats/data/roll_the_dice_hundred.csv\",index_col=False)"
   ]
  },
  {
   "cell_type": "code",
   "execution_count": 21,
   "metadata": {},
   "outputs": [
    {
     "data": {
      "text/html": [
       "<div>\n",
       "<style scoped>\n",
       "    .dataframe tbody tr th:only-of-type {\n",
       "        vertical-align: middle;\n",
       "    }\n",
       "\n",
       "    .dataframe tbody tr th {\n",
       "        vertical-align: top;\n",
       "    }\n",
       "\n",
       "    .dataframe thead th {\n",
       "        text-align: right;\n",
       "    }\n",
       "</style>\n",
       "<table border=\"1\" class=\"dataframe\">\n",
       "  <thead>\n",
       "    <tr style=\"text-align: right;\">\n",
       "      <th></th>\n",
       "      <th>Unnamed: 0</th>\n",
       "      <th>roll</th>\n",
       "      <th>value</th>\n",
       "    </tr>\n",
       "  </thead>\n",
       "  <tbody>\n",
       "    <tr>\n",
       "      <th>0</th>\n",
       "      <td>0</td>\n",
       "      <td>0</td>\n",
       "      <td>1</td>\n",
       "    </tr>\n",
       "    <tr>\n",
       "      <th>1</th>\n",
       "      <td>1</td>\n",
       "      <td>1</td>\n",
       "      <td>2</td>\n",
       "    </tr>\n",
       "    <tr>\n",
       "      <th>2</th>\n",
       "      <td>2</td>\n",
       "      <td>2</td>\n",
       "      <td>6</td>\n",
       "    </tr>\n",
       "    <tr>\n",
       "      <th>3</th>\n",
       "      <td>3</td>\n",
       "      <td>3</td>\n",
       "      <td>1</td>\n",
       "    </tr>\n",
       "    <tr>\n",
       "      <th>4</th>\n",
       "      <td>4</td>\n",
       "      <td>4</td>\n",
       "      <td>6</td>\n",
       "    </tr>\n",
       "    <tr>\n",
       "      <th>...</th>\n",
       "      <td>...</td>\n",
       "      <td>...</td>\n",
       "      <td>...</td>\n",
       "    </tr>\n",
       "    <tr>\n",
       "      <th>95</th>\n",
       "      <td>95</td>\n",
       "      <td>95</td>\n",
       "      <td>4</td>\n",
       "    </tr>\n",
       "    <tr>\n",
       "      <th>96</th>\n",
       "      <td>96</td>\n",
       "      <td>96</td>\n",
       "      <td>6</td>\n",
       "    </tr>\n",
       "    <tr>\n",
       "      <th>97</th>\n",
       "      <td>97</td>\n",
       "      <td>97</td>\n",
       "      <td>1</td>\n",
       "    </tr>\n",
       "    <tr>\n",
       "      <th>98</th>\n",
       "      <td>98</td>\n",
       "      <td>98</td>\n",
       "      <td>3</td>\n",
       "    </tr>\n",
       "    <tr>\n",
       "      <th>99</th>\n",
       "      <td>99</td>\n",
       "      <td>99</td>\n",
       "      <td>6</td>\n",
       "    </tr>\n",
       "  </tbody>\n",
       "</table>\n",
       "<p>100 rows × 3 columns</p>\n",
       "</div>"
      ],
      "text/plain": [
       "    Unnamed: 0  roll  value\n",
       "0            0     0      1\n",
       "1            1     1      2\n",
       "2            2     2      6\n",
       "3            3     3      1\n",
       "4            4     4      6\n",
       "..         ...   ...    ...\n",
       "95          95    95      4\n",
       "96          96    96      6\n",
       "97          97    97      1\n",
       "98          98    98      3\n",
       "99          99    99      6\n",
       "\n",
       "[100 rows x 3 columns]"
      ]
     },
     "execution_count": 21,
     "metadata": {},
     "output_type": "execute_result"
    }
   ],
   "source": [
    "data_dice"
   ]
  },
  {
   "cell_type": "code",
   "execution_count": 22,
   "metadata": {},
   "outputs": [
    {
     "data": {
      "text/html": [
       "<div>\n",
       "<style scoped>\n",
       "    .dataframe tbody tr th:only-of-type {\n",
       "        vertical-align: middle;\n",
       "    }\n",
       "\n",
       "    .dataframe tbody tr th {\n",
       "        vertical-align: top;\n",
       "    }\n",
       "\n",
       "    .dataframe thead th {\n",
       "        text-align: right;\n",
       "    }\n",
       "</style>\n",
       "<table border=\"1\" class=\"dataframe\">\n",
       "  <thead>\n",
       "    <tr style=\"text-align: right;\">\n",
       "      <th></th>\n",
       "      <th>roll</th>\n",
       "      <th>value</th>\n",
       "    </tr>\n",
       "  </thead>\n",
       "  <tbody>\n",
       "    <tr>\n",
       "      <th>0</th>\n",
       "      <td>0</td>\n",
       "      <td>1</td>\n",
       "    </tr>\n",
       "    <tr>\n",
       "      <th>1</th>\n",
       "      <td>1</td>\n",
       "      <td>2</td>\n",
       "    </tr>\n",
       "    <tr>\n",
       "      <th>2</th>\n",
       "      <td>2</td>\n",
       "      <td>6</td>\n",
       "    </tr>\n",
       "    <tr>\n",
       "      <th>3</th>\n",
       "      <td>3</td>\n",
       "      <td>1</td>\n",
       "    </tr>\n",
       "    <tr>\n",
       "      <th>4</th>\n",
       "      <td>4</td>\n",
       "      <td>6</td>\n",
       "    </tr>\n",
       "    <tr>\n",
       "      <th>...</th>\n",
       "      <td>...</td>\n",
       "      <td>...</td>\n",
       "    </tr>\n",
       "    <tr>\n",
       "      <th>95</th>\n",
       "      <td>95</td>\n",
       "      <td>4</td>\n",
       "    </tr>\n",
       "    <tr>\n",
       "      <th>96</th>\n",
       "      <td>96</td>\n",
       "      <td>6</td>\n",
       "    </tr>\n",
       "    <tr>\n",
       "      <th>97</th>\n",
       "      <td>97</td>\n",
       "      <td>1</td>\n",
       "    </tr>\n",
       "    <tr>\n",
       "      <th>98</th>\n",
       "      <td>98</td>\n",
       "      <td>3</td>\n",
       "    </tr>\n",
       "    <tr>\n",
       "      <th>99</th>\n",
       "      <td>99</td>\n",
       "      <td>6</td>\n",
       "    </tr>\n",
       "  </tbody>\n",
       "</table>\n",
       "<p>100 rows × 2 columns</p>\n",
       "</div>"
      ],
      "text/plain": [
       "    roll  value\n",
       "0      0      1\n",
       "1      1      2\n",
       "2      2      6\n",
       "3      3      1\n",
       "4      4      6\n",
       "..   ...    ...\n",
       "95    95      4\n",
       "96    96      6\n",
       "97    97      1\n",
       "98    98      3\n",
       "99    99      6\n",
       "\n",
       "[100 rows x 2 columns]"
      ]
     },
     "execution_count": 22,
     "metadata": {},
     "output_type": "execute_result"
    }
   ],
   "source": [
    "#df = df.loc[:, ~df.columns.str.contains('^Unnamed')]  # Drop Unnamed Column After Importing Data\n",
    "data_dice =data_dice.loc[:, ~data_dice.columns.str.contains('^Unnamed')]\n",
    "data_dice"
   ]
  },
  {
   "cell_type": "code",
   "execution_count": 23,
   "metadata": {},
   "outputs": [
    {
     "name": "stdout",
     "output_type": "stream",
     "text": [
      "    roll  value\n",
      "0      0      1\n",
      "1     47      1\n",
      "2     56      1\n",
      "3      9      1\n",
      "4     73      1\n",
      "..   ...    ...\n",
      "95    17      6\n",
      "96    11      6\n",
      "97    24      6\n",
      "98    21      6\n",
      "99    99      6\n",
      "\n",
      "[100 rows x 2 columns]\n"
     ]
    },
    {
     "name": "stderr",
     "output_type": "stream",
     "text": [
      "C:\\software-da\\anaconda3\\lib\\site-packages\\pandas\\util\\_decorators.py:311: SettingWithCopyWarning: \n",
      "A value is trying to be set on a copy of a slice from a DataFrame\n",
      "\n",
      "See the caveats in the documentation: https://pandas.pydata.org/pandas-docs/stable/user_guide/indexing.html#returning-a-view-versus-a-copy\n",
      "  return func(*args, **kwargs)\n"
     ]
    }
   ],
   "source": [
    "#Sort Rows of a Dataframe by a Column \n",
    "data_dice.sort_values(by=\"value\",inplace=True,ignore_index=True)#To change the index of the rows by refreshing the index, you can set the ignore_index parameter to True.\n",
    "\n",
    "print(data_dice)"
   ]
  },
  {
   "cell_type": "code",
   "execution_count": 24,
   "metadata": {},
   "outputs": [
    {
     "data": {
      "text/plain": [
       "<AxesSubplot:>"
      ]
     },
     "execution_count": 24,
     "metadata": {},
     "output_type": "execute_result"
    },
    {
     "data": {
      "image/png": "[encoded data removed]",
      "text/plain": [
       "<Figure size 432x288 with 1 Axes>"
      ]
     },
     "metadata": {
      "needs_background": "light"
     },
     "output_type": "display_data"
    }
   ],
   "source": [
    "data_dice[\"value\"].hist()"
   ]
  },
  {
   "cell_type": "code",
   "execution_count": 25,
   "metadata": {},
   "outputs": [
    {
     "data": {
      "text/plain": [
       "6    23\n",
       "4    22\n",
       "2    17\n",
       "3    14\n",
       "1    12\n",
       "5    12\n",
       "Name: value, dtype: int64"
      ]
     },
     "execution_count": 25,
     "metadata": {},
     "output_type": "execute_result"
    }
   ],
   "source": [
    "data_dice[\"value\"].value_counts()"
   ]
  },
  {
   "cell_type": "code",
   "execution_count": 26,
   "metadata": {},
   "outputs": [
    {
     "data": {
      "text/plain": [
       "<AxesSubplot:>"
      ]
     },
     "execution_count": 26,
     "metadata": {},
     "output_type": "execute_result"
    },
    {
     "data": {
      "image/png": "[encoded data removed]",
      "text/plain": [
       "<Figure size 432x288 with 1 Axes>"
      ]
     },
     "metadata": {
      "needs_background": "light"
     },
     "output_type": "display_data"
    }
   ],
   "source": [
    "data_dice.boxplot()"
   ]
  },
  {
   "cell_type": "code",
   "execution_count": 27,
   "metadata": {},
   "outputs": [
    {
     "data": {
      "text/plain": [
       "'\\nyour comments here\\nvery tiny box plot, means 50% of values are very similar.\\n'"
      ]
     },
     "execution_count": 27,
     "metadata": {},
     "output_type": "execute_result"
    }
   ],
   "source": [
    "\"\"\"\n",
    "your comments here\n",
    "very tiny box plot, means 50% of values are very similar.\n",
    "\"\"\""
   ]
  },
  {
   "cell_type": "markdown",
   "metadata": {},
   "source": [
    "#### 2.- Using the functions you defined in *challenge 2*, calculate the mean value of the hundred dice rolls."
   ]
  },
  {
   "cell_type": "code",
   "execution_count": 28,
   "metadata": {},
   "outputs": [
    {
     "data": {
      "text/plain": [
       "3.74"
      ]
     },
     "execution_count": 28,
     "metadata": {},
     "output_type": "execute_result"
    }
   ],
   "source": [
    "# your code here\n",
    "def mean_df(data_dice):\n",
    "    sum=0\n",
    "    for i in range(len(data_dice)):\n",
    "        #print(round(i*100/(len(dice_df)-1),2),\"\\t\",dice_df[len(dataset)-i-1])\n",
    "        sum=sum+data_dice.iloc[i]\n",
    "    return sum\n",
    "\n",
    "mean_dice=mean_df(data_dice[\"value\"])/len(data_dice)\n",
    "mean_dice"
   ]
  },
  {
   "cell_type": "markdown",
   "metadata": {},
   "source": [
    "#### 3.- Now, calculate the frequency distribution.\n"
   ]
  },
  {
   "cell_type": "code",
   "execution_count": 29,
   "metadata": {},
   "outputs": [
    {
     "data": {
      "text/plain": [
       "6    23\n",
       "4    22\n",
       "2    17\n",
       "3    14\n",
       "1    12\n",
       "5    12\n",
       "Name: value, dtype: int64"
      ]
     },
     "execution_count": 29,
     "metadata": {},
     "output_type": "execute_result"
    }
   ],
   "source": [
    "# your code here\n",
    "data_dice[\"value\"].value_counts()"
   ]
  },
  {
   "cell_type": "markdown",
   "metadata": {},
   "source": [
    "#### 4.- Plot the histogram. What do you see (shape, values...) ? How can you connect the mean value to the histogram? "
   ]
  },
  {
   "cell_type": "code",
   "execution_count": 30,
   "metadata": {},
   "outputs": [
    {
     "data": {
      "text/plain": [
       "<AxesSubplot:>"
      ]
     },
     "execution_count": 30,
     "metadata": {},
     "output_type": "execute_result"
    },
    {
     "data": {
      "image/png": "[encoded data removed]",
      "text/plain": [
       "<Figure size 432x288 with 1 Axes>"
      ]
     },
     "metadata": {
      "needs_background": "light"
     },
     "output_type": "display_data"
    }
   ],
   "source": [
    "# your code here\n",
    "data_dice[\"value\"].hist()"
   ]
  },
  {
   "cell_type": "code",
   "execution_count": 31,
   "metadata": {},
   "outputs": [
    {
     "data": {
      "text/plain": [
       "'\\nyour comments here\\nnot symettric distributed.\\nso, mean amd median is not same.Mean and median not accurately measure the centre of the distribution.\\n'"
      ]
     },
     "execution_count": 31,
     "metadata": {},
     "output_type": "execute_result"
    }
   ],
   "source": [
    "\"\"\"\n",
    "your comments here\n",
    "not symettric distributed.\n",
    "so, mean amd median is not same.Mean and median not accurately measure the centre of the distribution.\n",
    "\"\"\""
   ]
  },
  {
   "cell_type": "markdown",
   "metadata": {},
   "source": [
    "#### 5.- Read the `roll_the_dice_thousand.csv` from the `data` folder. Plot the frequency distribution as you did before. Has anything changed? Why do you think it changed?"
   ]
  },
  {
   "cell_type": "code",
   "execution_count": 33,
   "metadata": {},
   "outputs": [],
   "source": [
    "# your code here\n",
    "data_dice1=pd.read_csv(\"C:/Users/suparna/Ironhack_6_sep/week3/day3/Descriptive-Stats/data/roll_the_dice_thousand.csv\",index_col=False)"
   ]
  },
  {
   "cell_type": "code",
   "execution_count": 34,
   "metadata": {},
   "outputs": [
    {
     "data": {
      "text/plain": [
       "3.447"
      ]
     },
     "execution_count": 34,
     "metadata": {},
     "output_type": "execute_result"
    }
   ],
   "source": [
    "data_dice1[\"value\"].mean()"
   ]
  },
  {
   "cell_type": "code",
   "execution_count": 37,
   "metadata": {},
   "outputs": [
    {
     "data": {
      "text/plain": [
       "3.0"
      ]
     },
     "execution_count": 37,
     "metadata": {},
     "output_type": "execute_result"
    }
   ],
   "source": [
    "data_dice1[\"value\"].median()"
   ]
  },
  {
   "cell_type": "code",
   "execution_count": 35,
   "metadata": {},
   "outputs": [
    {
     "data": {
      "text/plain": [
       "1    175\n",
       "3    175\n",
       "4    168\n",
       "2    167\n",
       "6    166\n",
       "5    149\n",
       "Name: value, dtype: int64"
      ]
     },
     "execution_count": 35,
     "metadata": {},
     "output_type": "execute_result"
    }
   ],
   "source": [
    "data_dice1[\"value\"].value_counts()"
   ]
  },
  {
   "cell_type": "code",
   "execution_count": 36,
   "metadata": {},
   "outputs": [
    {
     "data": {
      "text/plain": [
       "<AxesSubplot:>"
      ]
     },
     "execution_count": 36,
     "metadata": {},
     "output_type": "execute_result"
    },
    {
     "data": {
      "image/png": "[encoded data removed]",
      "text/plain": [
       "<Figure size 432x288 with 1 Axes>"
      ]
     },
     "metadata": {
      "needs_background": "light"
     },
     "output_type": "display_data"
    }
   ],
   "source": [
    "data_dice1[\"value\"].hist()"
   ]
  },
  {
   "cell_type": "code",
   "execution_count": null,
   "metadata": {},
   "outputs": [],
   "source": []
  },
  {
   "cell_type": "code",
   "execution_count": null,
   "metadata": {},
   "outputs": [],
   "source": [
    "\"\"\"\n",
    "your comments here\n",
    "not symettric distributed.\n",
    "so, mean amd median is not same.Mean and median not accurately measure the centre of the distribution.\n",
    "positively skewed\n",
    "\"\""
   ]
  },
  {
   "cell_type": "markdown",
   "metadata": {},
   "source": [
    "## Challenge 4\n",
    "In the `data` folder of this repository you will find three different files with the prefix `ages_population`. These files contain information about a poll answered by a thousand people regarding their age. Each file corresponds to the poll answers in different neighbourhoods of Barcelona.\n",
    "\n",
    "#### 1.- Read the file `ages_population.csv`. Calculate the frequency distribution and plot it as we did during the lesson. Try to guess the range in which the mean and the standard deviation will be by looking at the plot. "
   ]
  },
  {
   "cell_type": "code",
   "execution_count": 39,
   "metadata": {},
   "outputs": [
    {
     "data": {
      "text/html": [
       "<div>\n",
       "<style scoped>\n",
       "    .dataframe tbody tr th:only-of-type {\n",
       "        vertical-align: middle;\n",
       "    }\n",
       "\n",
       "    .dataframe tbody tr th {\n",
       "        vertical-align: top;\n",
       "    }\n",
       "\n",
       "    .dataframe thead th {\n",
       "        text-align: right;\n",
       "    }\n",
       "</style>\n",
       "<table border=\"1\" class=\"dataframe\">\n",
       "  <thead>\n",
       "    <tr style=\"text-align: right;\">\n",
       "      <th></th>\n",
       "      <th>observation</th>\n",
       "    </tr>\n",
       "  </thead>\n",
       "  <tbody>\n",
       "    <tr>\n",
       "      <th>0</th>\n",
       "      <td>68.0</td>\n",
       "    </tr>\n",
       "    <tr>\n",
       "      <th>1</th>\n",
       "      <td>12.0</td>\n",
       "    </tr>\n",
       "    <tr>\n",
       "      <th>2</th>\n",
       "      <td>45.0</td>\n",
       "    </tr>\n",
       "    <tr>\n",
       "      <th>3</th>\n",
       "      <td>38.0</td>\n",
       "    </tr>\n",
       "    <tr>\n",
       "      <th>4</th>\n",
       "      <td>49.0</td>\n",
       "    </tr>\n",
       "    <tr>\n",
       "      <th>...</th>\n",
       "      <td>...</td>\n",
       "    </tr>\n",
       "    <tr>\n",
       "      <th>995</th>\n",
       "      <td>27.0</td>\n",
       "    </tr>\n",
       "    <tr>\n",
       "      <th>996</th>\n",
       "      <td>47.0</td>\n",
       "    </tr>\n",
       "    <tr>\n",
       "      <th>997</th>\n",
       "      <td>53.0</td>\n",
       "    </tr>\n",
       "    <tr>\n",
       "      <th>998</th>\n",
       "      <td>33.0</td>\n",
       "    </tr>\n",
       "    <tr>\n",
       "      <th>999</th>\n",
       "      <td>31.0</td>\n",
       "    </tr>\n",
       "  </tbody>\n",
       "</table>\n",
       "<p>1000 rows × 1 columns</p>\n",
       "</div>"
      ],
      "text/plain": [
       "     observation\n",
       "0           68.0\n",
       "1           12.0\n",
       "2           45.0\n",
       "3           38.0\n",
       "4           49.0\n",
       "..           ...\n",
       "995         27.0\n",
       "996         47.0\n",
       "997         53.0\n",
       "998         33.0\n",
       "999         31.0\n",
       "\n",
       "[1000 rows x 1 columns]"
      ]
     },
     "execution_count": 39,
     "metadata": {},
     "output_type": "execute_result"
    }
   ],
   "source": [
    "# your code here\n",
    "data_age=pd.read_csv(\"C:/Users/suparna/Ironhack_6_sep/week3/day3/Descriptive-Stats/data/ages_population.csv\")\n",
    "data_age"
   ]
  },
  {
   "cell_type": "code",
   "execution_count": 40,
   "metadata": {},
   "outputs": [
    {
     "data": {
      "text/plain": [
       "39.0    45\n",
       "41.0    36\n",
       "30.0    34\n",
       "35.0    33\n",
       "43.0    32\n",
       "        ..\n",
       "73.0     1\n",
       "82.0     1\n",
       "70.0     1\n",
       "71.0     1\n",
       "69.0     1\n",
       "Name: observation, Length: 72, dtype: int64"
      ]
     },
     "execution_count": 40,
     "metadata": {},
     "output_type": "execute_result"
    }
   ],
   "source": [
    "data_age[\"observation\"].value_counts()"
   ]
  },
  {
   "cell_type": "code",
   "execution_count": 41,
   "metadata": {},
   "outputs": [
    {
     "data": {
      "text/plain": [
       "<AxesSubplot:>"
      ]
     },
     "execution_count": 41,
     "metadata": {},
     "output_type": "execute_result"
    },
    {
     "data": {
      "image/png": "[encoded data removed]",
      "text/plain": [
       "<Figure size 432x288 with 1 Axes>"
      ]
     },
     "metadata": {
      "needs_background": "light"
     },
     "output_type": "display_data"
    }
   ],
   "source": [
    "data_age[\"observation\"].hist()"
   ]
  },
  {
   "cell_type": "markdown",
   "metadata": {},
   "source": [
    "#### 2.- Calculate the exact mean and standard deviation and compare them with your guesses. Do they fall inside the ranges you guessed?"
   ]
  },
  {
   "cell_type": "code",
   "execution_count": 44,
   "metadata": {},
   "outputs": [
    {
     "data": {
      "text/plain": [
       "36.56"
      ]
     },
     "execution_count": 44,
     "metadata": {},
     "output_type": "execute_result"
    }
   ],
   "source": [
    "# your code here\n",
    "data_age[\"observation\"].mean()"
   ]
  },
  {
   "cell_type": "code",
   "execution_count": 45,
   "metadata": {},
   "outputs": [
    {
     "data": {
      "text/plain": [
       "12.816499625976762"
      ]
     },
     "execution_count": 45,
     "metadata": {},
     "output_type": "execute_result"
    }
   ],
   "source": [
    "data_age[\"observation\"].std()"
   ]
  },
  {
   "cell_type": "code",
   "execution_count": null,
   "metadata": {},
   "outputs": [],
   "source": [
    "\"\"\"\n",
    "your comments here\n",
    "Yes,they fall inside the ranges you guessed.Because ,its amormal distribution and its clearly showm in distribution.\n",
    "\"\"\""
   ]
  },
  {
   "cell_type": "markdown",
   "metadata": {},
   "source": [
    "#### 3.- Now read the file `ages_population2.csv` . Calculate the frequency distribution and plot it."
   ]
  },
  {
   "cell_type": "code",
   "execution_count": 46,
   "metadata": {},
   "outputs": [
    {
     "data": {
      "text/html": [
       "<div>\n",
       "<style scoped>\n",
       "    .dataframe tbody tr th:only-of-type {\n",
       "        vertical-align: middle;\n",
       "    }\n",
       "\n",
       "    .dataframe tbody tr th {\n",
       "        vertical-align: top;\n",
       "    }\n",
       "\n",
       "    .dataframe thead th {\n",
       "        text-align: right;\n",
       "    }\n",
       "</style>\n",
       "<table border=\"1\" class=\"dataframe\">\n",
       "  <thead>\n",
       "    <tr style=\"text-align: right;\">\n",
       "      <th></th>\n",
       "      <th>observation</th>\n",
       "    </tr>\n",
       "  </thead>\n",
       "  <tbody>\n",
       "    <tr>\n",
       "      <th>0</th>\n",
       "      <td>25.0</td>\n",
       "    </tr>\n",
       "    <tr>\n",
       "      <th>1</th>\n",
       "      <td>31.0</td>\n",
       "    </tr>\n",
       "    <tr>\n",
       "      <th>2</th>\n",
       "      <td>29.0</td>\n",
       "    </tr>\n",
       "    <tr>\n",
       "      <th>3</th>\n",
       "      <td>31.0</td>\n",
       "    </tr>\n",
       "    <tr>\n",
       "      <th>4</th>\n",
       "      <td>29.0</td>\n",
       "    </tr>\n",
       "    <tr>\n",
       "      <th>...</th>\n",
       "      <td>...</td>\n",
       "    </tr>\n",
       "    <tr>\n",
       "      <th>995</th>\n",
       "      <td>26.0</td>\n",
       "    </tr>\n",
       "    <tr>\n",
       "      <th>996</th>\n",
       "      <td>22.0</td>\n",
       "    </tr>\n",
       "    <tr>\n",
       "      <th>997</th>\n",
       "      <td>21.0</td>\n",
       "    </tr>\n",
       "    <tr>\n",
       "      <th>998</th>\n",
       "      <td>19.0</td>\n",
       "    </tr>\n",
       "    <tr>\n",
       "      <th>999</th>\n",
       "      <td>28.0</td>\n",
       "    </tr>\n",
       "  </tbody>\n",
       "</table>\n",
       "<p>1000 rows × 1 columns</p>\n",
       "</div>"
      ],
      "text/plain": [
       "     observation\n",
       "0           25.0\n",
       "1           31.0\n",
       "2           29.0\n",
       "3           31.0\n",
       "4           29.0\n",
       "..           ...\n",
       "995         26.0\n",
       "996         22.0\n",
       "997         21.0\n",
       "998         19.0\n",
       "999         28.0\n",
       "\n",
       "[1000 rows x 1 columns]"
      ]
     },
     "execution_count": 46,
     "metadata": {},
     "output_type": "execute_result"
    }
   ],
   "source": [
    "# your code here\n",
    "data_age2=pd.read_csv(\"C:/Users/suparna/Ironhack_6_sep/week3/day3/Descriptive-Stats/data/ages_population2.csv\")\n",
    "data_age2"
   ]
  },
  {
   "cell_type": "code",
   "execution_count": 48,
   "metadata": {},
   "outputs": [
    {
     "data": {
      "text/plain": [
       "28.0    139\n",
       "27.0    125\n",
       "26.0    120\n",
       "29.0    115\n",
       "25.0     98\n",
       "30.0     90\n",
       "24.0     78\n",
       "31.0     61\n",
       "23.0     41\n",
       "22.0     35\n",
       "32.0     31\n",
       "33.0     22\n",
       "21.0     17\n",
       "20.0     13\n",
       "34.0      7\n",
       "19.0      3\n",
       "35.0      3\n",
       "36.0      2\n",
       "Name: observation, dtype: int64"
      ]
     },
     "execution_count": 48,
     "metadata": {},
     "output_type": "execute_result"
    }
   ],
   "source": [
    "data_age2[\"observation\"].value_counts()"
   ]
  },
  {
   "cell_type": "code",
   "execution_count": 49,
   "metadata": {},
   "outputs": [
    {
     "data": {
      "text/plain": [
       "<AxesSubplot:>"
      ]
     },
     "execution_count": 49,
     "metadata": {},
     "output_type": "execute_result"
    },
    {
     "data": {
      "image/png": "[encoded data removed]",
      "text/plain": [
       "<Figure size 432x288 with 1 Axes>"
      ]
     },
     "metadata": {
      "needs_background": "light"
     },
     "output_type": "display_data"
    }
   ],
   "source": [
    "data_age2[\"observation\"].hist()"
   ]
  },
  {
   "cell_type": "markdown",
   "metadata": {},
   "source": [
    "####  4.- What do you see? Is there any difference with the frequency distribution in step 1?"
   ]
  },
  {
   "cell_type": "code",
   "execution_count": null,
   "metadata": {},
   "outputs": [],
   "source": [
    "\"\"\"\n",
    "your comments here\n",
    "Yes, they are different than step1.\n",
    "Its not symetrical distribution.\n",
    "\"\"\""
   ]
  },
  {
   "cell_type": "markdown",
   "metadata": {},
   "source": [
    "#### 5.- Calculate the mean and standard deviation. Compare the results with the mean and standard deviation in step 2. What do you think?"
   ]
  },
  {
   "cell_type": "code",
   "execution_count": 51,
   "metadata": {},
   "outputs": [
    {
     "data": {
      "text/plain": [
       "27.155"
      ]
     },
     "execution_count": 51,
     "metadata": {},
     "output_type": "execute_result"
    }
   ],
   "source": [
    "# your code here\n",
    "data_age2[\"observation\"].mean()"
   ]
  },
  {
   "cell_type": "code",
   "execution_count": 50,
   "metadata": {},
   "outputs": [
    {
     "data": {
      "text/plain": [
       "2.969813932689186"
      ]
     },
     "execution_count": 50,
     "metadata": {},
     "output_type": "execute_result"
    }
   ],
   "source": [
    "data_age2[\"observation\"].std()"
   ]
  },
  {
   "cell_type": "code",
   "execution_count": null,
   "metadata": {},
   "outputs": [],
   "source": [
    "\"\"\"\n",
    "your comments here\n",
    "Its diff from step2. Here std is low.data points are less deviate from mean.\n",
    "\"\"\""
   ]
  },
  {
   "cell_type": "markdown",
   "metadata": {},
   "source": [
    "## Challenge 5\n",
    "Now is the turn of `ages_population3.csv`.\n",
    "\n",
    "#### 1.- Read the file `ages_population3.csv`. Calculate the frequency distribution and plot it."
   ]
  },
  {
   "cell_type": "code",
   "execution_count": 60,
   "metadata": {},
   "outputs": [
    {
     "data": {
      "text/html": [
       "<div>\n",
       "<style scoped>\n",
       "    .dataframe tbody tr th:only-of-type {\n",
       "        vertical-align: middle;\n",
       "    }\n",
       "\n",
       "    .dataframe tbody tr th {\n",
       "        vertical-align: top;\n",
       "    }\n",
       "\n",
       "    .dataframe thead th {\n",
       "        text-align: right;\n",
       "    }\n",
       "</style>\n",
       "<table border=\"1\" class=\"dataframe\">\n",
       "  <thead>\n",
       "    <tr style=\"text-align: right;\">\n",
       "      <th></th>\n",
       "      <th>observation</th>\n",
       "    </tr>\n",
       "  </thead>\n",
       "  <tbody>\n",
       "    <tr>\n",
       "      <th>0</th>\n",
       "      <td>21.0</td>\n",
       "    </tr>\n",
       "    <tr>\n",
       "      <th>1</th>\n",
       "      <td>21.0</td>\n",
       "    </tr>\n",
       "    <tr>\n",
       "      <th>2</th>\n",
       "      <td>24.0</td>\n",
       "    </tr>\n",
       "    <tr>\n",
       "      <th>3</th>\n",
       "      <td>31.0</td>\n",
       "    </tr>\n",
       "    <tr>\n",
       "      <th>4</th>\n",
       "      <td>54.0</td>\n",
       "    </tr>\n",
       "    <tr>\n",
       "      <th>...</th>\n",
       "      <td>...</td>\n",
       "    </tr>\n",
       "    <tr>\n",
       "      <th>995</th>\n",
       "      <td>16.0</td>\n",
       "    </tr>\n",
       "    <tr>\n",
       "      <th>996</th>\n",
       "      <td>55.0</td>\n",
       "    </tr>\n",
       "    <tr>\n",
       "      <th>997</th>\n",
       "      <td>30.0</td>\n",
       "    </tr>\n",
       "    <tr>\n",
       "      <th>998</th>\n",
       "      <td>35.0</td>\n",
       "    </tr>\n",
       "    <tr>\n",
       "      <th>999</th>\n",
       "      <td>43.0</td>\n",
       "    </tr>\n",
       "  </tbody>\n",
       "</table>\n",
       "<p>1000 rows × 1 columns</p>\n",
       "</div>"
      ],
      "text/plain": [
       "     observation\n",
       "0           21.0\n",
       "1           21.0\n",
       "2           24.0\n",
       "3           31.0\n",
       "4           54.0\n",
       "..           ...\n",
       "995         16.0\n",
       "996         55.0\n",
       "997         30.0\n",
       "998         35.0\n",
       "999         43.0\n",
       "\n",
       "[1000 rows x 1 columns]"
      ]
     },
     "execution_count": 60,
     "metadata": {},
     "output_type": "execute_result"
    }
   ],
   "source": [
    "# your code here\n",
    "data_age3=pd.read_csv(\"C:/Users/suparna/Ironhack_6_sep/week3/day3/Descriptive-Stats/data/ages_population3.csv\")\n",
    "data_age3"
   ]
  },
  {
   "cell_type": "code",
   "execution_count": 61,
   "metadata": {},
   "outputs": [
    {
     "data": {
      "text/plain": [
       "32.0    37\n",
       "35.0    31\n",
       "37.0    31\n",
       "39.0    29\n",
       "36.0    26\n",
       "        ..\n",
       "76.0     1\n",
       "8.0      1\n",
       "9.0      1\n",
       "1.0      1\n",
       "7.0      1\n",
       "Name: observation, Length: 75, dtype: int64"
      ]
     },
     "execution_count": 61,
     "metadata": {},
     "output_type": "execute_result"
    }
   ],
   "source": [
    "data_age3[\"observation\"].value_counts()"
   ]
  },
  {
   "cell_type": "code",
   "execution_count": 62,
   "metadata": {},
   "outputs": [
    {
     "data": {
      "text/plain": [
       "<AxesSubplot:>"
      ]
     },
     "execution_count": 62,
     "metadata": {},
     "output_type": "execute_result"
    },
    {
     "data": {
      "image/png": "[encoded data removed]",
      "text/plain": [
       "<Figure size 432x288 with 1 Axes>"
      ]
     },
     "metadata": {
      "needs_background": "light"
     },
     "output_type": "display_data"
    }
   ],
   "source": [
    "data_age3[\"observation\"].hist()"
   ]
  },
  {
   "cell_type": "markdown",
   "metadata": {},
   "source": [
    "#### 2.- Calculate the mean and standard deviation. Compare the results with the plot in step 1. What is happening?"
   ]
  },
  {
   "cell_type": "code",
   "execution_count": 58,
   "metadata": {},
   "outputs": [
    {
     "data": {
      "text/plain": [
       "41.989"
      ]
     },
     "execution_count": 58,
     "metadata": {},
     "output_type": "execute_result"
    }
   ],
   "source": [
    "# your code here\n",
    "data_age3[\"observation\"].mean()"
   ]
  },
  {
   "cell_type": "code",
   "execution_count": 59,
   "metadata": {},
   "outputs": [
    {
     "data": {
      "text/plain": [
       "16.144705959865934"
      ]
     },
     "execution_count": 59,
     "metadata": {},
     "output_type": "execute_result"
    }
   ],
   "source": [
    "data_age3[\"observation\"].std()"
   ]
  },
  {
   "cell_type": "code",
   "execution_count": null,
   "metadata": {},
   "outputs": [],
   "source": [
    "\"\"\"\n",
    "your comments here\n",
    "mean is shifting to right(getting bigger)and std also high compare to step1\n",
    "\"\"\""
   ]
  },
  {
   "cell_type": "markdown",
   "metadata": {},
   "source": [
    "#### 3.- Calculate the four quartiles. Use the results to explain your reasoning for question in step 2. How much of a difference is there between the median and the mean?"
   ]
  },
  {
   "cell_type": "code",
   "execution_count": 63,
   "metadata": {},
   "outputs": [
    {
     "name": "stdout",
     "output_type": "stream",
     "text": [
      "the first quartile is 30.0\n",
      "the second quartile is 40.0\n",
      "the third quartile is 53.0\n"
     ]
    }
   ],
   "source": [
    "# your code here\n",
    "q1 = np.quantile(data_age3, 0.25)#, interpolation='midpoint')\n",
    "print(\"the first quartile is\", q1)\n",
    "q2 = np.quantile(data_age3, 0.50)\n",
    "print(\"the second quartile is\",q2)\n",
    "q3 = np.quantile(data_age3, 0.75)\n",
    "print(\"the third quartile is\", q3)\n"
   ]
  },
  {
   "cell_type": "code",
   "execution_count": null,
   "metadata": {},
   "outputs": [],
   "source": [
    "\"\"\"\n",
    "your comments here\n",
    "Its pisitively skewed distribution.\n",
    "q2=median(40)\n",
    "difference between the median and the mean is (41.989-40)\n",
    "\n",
    "\"\"\""
   ]
  },
  {
   "cell_type": "code",
   "execution_count": null,
   "metadata": {},
   "outputs": [],
   "source": []
  },
  {
   "cell_type": "markdown",
   "metadata": {},
   "source": [
    "#### 4.- Calculate other percentiles that might be useful to give more arguments to your reasoning."
   ]
  },
  {
   "cell_type": "code",
   "execution_count": 66,
   "metadata": {},
   "outputs": [],
   "source": [
    "dataset=list(data_age3[\"observation\"])"
   ]
  },
  {
   "cell_type": "code",
   "execution_count": 67,
   "metadata": {},
   "outputs": [
    {
     "name": "stdout",
     "output_type": "stream",
     "text": [
      "0.0 \t 43.0\n",
      "0.1 \t 35.0\n",
      "0.2 \t 30.0\n",
      "0.3 \t 55.0\n",
      "0.4 \t 16.0\n",
      "0.5 \t 37.0\n",
      "0.6 \t 48.0\n",
      "0.7 \t 26.0\n",
      "0.8 \t 70.0\n",
      "0.9 \t 29.0\n",
      "1.0 \t 67.0\n",
      "1.1 \t 32.0\n",
      "1.2 \t 28.0\n",
      "1.3 \t 43.0\n",
      "1.4 \t 25.0\n",
      "1.5 \t 49.0\n",
      "1.6 \t 38.0\n",
      "1.7 \t 39.0\n",
      "1.8 \t 53.0\n",
      "1.9 \t 16.0\n",
      "2.0 \t 69.0\n",
      "2.1 \t 45.0\n",
      "2.2 \t 20.0\n",
      "2.3 \t 72.0\n",
      "2.4 \t 49.0\n",
      "2.5 \t 35.0\n",
      "2.6 \t 55.0\n",
      "2.7 \t 46.0\n",
      "2.8 \t 33.0\n",
      "2.9 \t 28.0\n",
      "3.0 \t 29.0\n",
      "3.1 \t 67.0\n",
      "3.2 \t 37.0\n",
      "3.3 \t 46.0\n",
      "3.4 \t 14.0\n",
      "3.5 \t 15.0\n",
      "3.6 \t 21.0\n",
      "3.7 \t 55.0\n",
      "3.8 \t 36.0\n",
      "3.9 \t 27.0\n",
      "4.0 \t 23.0\n",
      "4.1 \t 70.0\n",
      "4.2 \t 19.0\n",
      "4.3 \t 29.0\n",
      "4.4 \t 29.0\n",
      "4.5 \t 27.0\n",
      "4.6 \t 7.0\n",
      "4.7 \t 26.0\n",
      "4.8 \t 40.0\n",
      "4.9 \t 32.0\n",
      "5.01 \t 41.0\n",
      "5.11 \t 33.0\n",
      "5.21 \t 16.0\n",
      "5.31 \t 70.0\n",
      "5.41 \t 59.0\n",
      "5.51 \t 16.0\n",
      "5.61 \t 24.0\n",
      "5.71 \t 17.0\n",
      "5.81 \t 50.0\n",
      "5.91 \t 50.0\n",
      "6.01 \t 68.0\n",
      "6.11 \t 63.0\n",
      "6.21 \t 77.0\n",
      "6.31 \t 29.0\n",
      "6.41 \t 66.0\n",
      "6.51 \t 55.0\n",
      "6.61 \t 41.0\n",
      "6.71 \t 33.0\n",
      "6.81 \t 36.0\n",
      "6.91 \t 66.0\n",
      "7.01 \t 59.0\n",
      "7.11 \t 47.0\n",
      "7.21 \t 34.0\n",
      "7.31 \t 70.0\n",
      "7.41 \t 39.0\n",
      "7.51 \t 2.0\n",
      "7.61 \t 56.0\n",
      "7.71 \t 39.0\n",
      "7.81 \t 74.0\n",
      "7.91 \t 39.0\n",
      "8.01 \t 36.0\n",
      "8.11 \t 64.0\n",
      "8.21 \t 38.0\n",
      "8.31 \t 43.0\n",
      "8.41 \t 47.0\n",
      "8.51 \t 27.0\n",
      "8.61 \t 30.0\n",
      "8.71 \t 26.0\n",
      "8.81 \t 43.0\n",
      "8.91 \t 50.0\n",
      "9.01 \t 41.0\n",
      "9.11 \t 71.0\n",
      "9.21 \t 48.0\n",
      "9.31 \t 18.0\n",
      "9.41 \t 58.0\n",
      "9.51 \t 46.0\n",
      "9.61 \t 57.0\n",
      "9.71 \t 42.0\n",
      "9.81 \t 46.0\n",
      "9.91 \t 52.0\n",
      "10.01 \t 29.0\n",
      "10.11 \t 21.0\n",
      "10.21 \t 37.0\n",
      "10.31 \t 38.0\n",
      "10.41 \t 32.0\n",
      "10.51 \t 49.0\n",
      "10.61 \t 14.0\n",
      "10.71 \t 45.0\n",
      "10.81 \t 36.0\n",
      "10.91 \t 29.0\n",
      "11.01 \t 55.0\n",
      "11.11 \t 32.0\n",
      "11.21 \t 25.0\n",
      "11.31 \t 33.0\n",
      "11.41 \t 37.0\n",
      "11.51 \t 35.0\n",
      "11.61 \t 41.0\n",
      "11.71 \t 53.0\n",
      "11.81 \t 25.0\n",
      "11.91 \t 51.0\n",
      "12.01 \t 63.0\n",
      "12.11 \t 16.0\n",
      "12.21 \t 66.0\n",
      "12.31 \t 62.0\n",
      "12.41 \t 30.0\n",
      "12.51 \t 29.0\n",
      "12.61 \t 32.0\n",
      "12.71 \t 34.0\n",
      "12.81 \t 66.0\n",
      "12.91 \t 42.0\n",
      "13.01 \t 50.0\n",
      "13.11 \t 22.0\n",
      "13.21 \t 46.0\n",
      "13.31 \t 38.0\n",
      "13.41 \t 20.0\n",
      "13.51 \t 32.0\n",
      "13.61 \t 40.0\n",
      "13.71 \t 45.0\n",
      "13.81 \t 50.0\n",
      "13.91 \t 37.0\n",
      "14.01 \t 45.0\n",
      "14.11 \t 27.0\n",
      "14.21 \t 46.0\n",
      "14.31 \t 58.0\n",
      "14.41 \t 30.0\n",
      "14.51 \t 50.0\n",
      "14.61 \t 35.0\n",
      "14.71 \t 15.0\n",
      "14.81 \t 14.0\n",
      "14.91 \t 5.0\n",
      "15.02 \t 46.0\n",
      "15.12 \t 25.0\n",
      "15.22 \t 65.0\n",
      "15.32 \t 41.0\n",
      "15.42 \t 53.0\n",
      "15.52 \t 71.0\n",
      "15.62 \t 35.0\n",
      "15.72 \t 45.0\n",
      "15.82 \t 38.0\n",
      "15.92 \t 19.0\n",
      "16.02 \t 28.0\n",
      "16.12 \t 27.0\n",
      "16.22 \t 56.0\n",
      "16.32 \t 70.0\n",
      "16.42 \t 24.0\n",
      "16.52 \t 46.0\n",
      "16.62 \t 47.0\n",
      "16.72 \t 34.0\n",
      "16.82 \t 44.0\n",
      "16.92 \t 32.0\n",
      "17.02 \t 57.0\n",
      "17.12 \t 66.0\n",
      "17.22 \t 37.0\n",
      "17.32 \t 53.0\n",
      "17.42 \t 37.0\n",
      "17.52 \t 25.0\n",
      "17.62 \t 47.0\n",
      "17.72 \t 26.0\n",
      "17.82 \t 32.0\n",
      "17.92 \t 39.0\n",
      "18.02 \t 43.0\n",
      "18.12 \t 68.0\n",
      "18.22 \t 34.0\n",
      "18.32 \t 49.0\n",
      "18.42 \t 65.0\n",
      "18.52 \t 48.0\n",
      "18.62 \t 29.0\n",
      "18.72 \t 45.0\n",
      "18.82 \t 39.0\n",
      "18.92 \t 35.0\n",
      "19.02 \t 39.0\n",
      "19.12 \t 25.0\n",
      "19.22 \t 68.0\n",
      "19.32 \t 41.0\n",
      "19.42 \t 24.0\n",
      "19.52 \t 70.0\n",
      "19.62 \t 55.0\n",
      "19.72 \t 24.0\n",
      "19.82 \t 39.0\n",
      "19.92 \t 31.0\n",
      "20.02 \t 48.0\n",
      "20.12 \t 31.0\n",
      "20.22 \t 55.0\n",
      "20.32 \t 66.0\n",
      "20.42 \t 44.0\n",
      "20.52 \t 29.0\n",
      "20.62 \t 46.0\n",
      "20.72 \t 74.0\n",
      "20.82 \t 45.0\n",
      "20.92 \t 21.0\n",
      "21.02 \t 60.0\n",
      "21.12 \t 27.0\n",
      "21.22 \t 51.0\n",
      "21.32 \t 71.0\n",
      "21.42 \t 53.0\n",
      "21.52 \t 40.0\n",
      "21.62 \t 35.0\n",
      "21.72 \t 51.0\n",
      "21.82 \t 48.0\n",
      "21.92 \t 19.0\n",
      "22.02 \t 37.0\n",
      "22.12 \t 68.0\n",
      "22.22 \t 21.0\n",
      "22.32 \t 45.0\n",
      "22.42 \t 33.0\n",
      "22.52 \t 53.0\n",
      "22.62 \t 28.0\n",
      "22.72 \t 64.0\n",
      "22.82 \t 31.0\n",
      "22.92 \t 66.0\n",
      "23.02 \t 33.0\n",
      "23.12 \t 71.0\n",
      "23.22 \t 58.0\n",
      "23.32 \t 19.0\n",
      "23.42 \t 22.0\n",
      "23.52 \t 29.0\n",
      "23.62 \t 22.0\n",
      "23.72 \t 23.0\n",
      "23.82 \t 10.0\n",
      "23.92 \t 44.0\n",
      "24.02 \t 33.0\n",
      "24.12 \t 25.0\n",
      "24.22 \t 49.0\n",
      "24.32 \t 60.0\n",
      "24.42 \t 25.0\n",
      "24.52 \t 11.0\n",
      "24.62 \t 52.0\n",
      "24.72 \t 44.0\n",
      "24.82 \t 65.0\n",
      "24.92 \t 30.0\n",
      "25.03 \t 32.0\n",
      "25.13 \t 32.0\n",
      "25.23 \t 67.0\n",
      "25.33 \t 43.0\n",
      "25.43 \t 25.0\n",
      "25.53 \t 24.0\n",
      "25.63 \t 67.0\n",
      "25.73 \t 69.0\n",
      "25.83 \t 63.0\n",
      "25.93 \t 41.0\n",
      "26.03 \t 26.0\n",
      "26.13 \t 56.0\n",
      "26.23 \t 68.0\n",
      "26.33 \t 41.0\n",
      "26.43 \t 28.0\n",
      "26.53 \t 53.0\n",
      "26.63 \t 47.0\n",
      "26.73 \t 50.0\n",
      "26.83 \t 46.0\n",
      "26.93 \t 48.0\n",
      "27.03 \t 31.0\n",
      "27.13 \t 40.0\n",
      "27.23 \t 36.0\n",
      "27.33 \t 37.0\n",
      "27.43 \t 65.0\n",
      "27.53 \t 68.0\n",
      "27.63 \t 46.0\n",
      "27.73 \t 38.0\n",
      "27.83 \t 67.0\n",
      "27.93 \t 31.0\n",
      "28.03 \t 64.0\n",
      "28.13 \t 42.0\n",
      "28.23 \t 41.0\n",
      "28.33 \t 66.0\n",
      "28.43 \t 61.0\n",
      "28.53 \t 21.0\n",
      "28.63 \t 35.0\n",
      "28.73 \t 58.0\n",
      "28.83 \t 70.0\n",
      "28.93 \t 66.0\n",
      "29.03 \t 30.0\n",
      "29.13 \t 65.0\n",
      "29.23 \t 73.0\n",
      "29.33 \t 39.0\n",
      "29.43 \t 35.0\n",
      "29.53 \t 74.0\n",
      "29.63 \t 22.0\n",
      "29.73 \t 37.0\n",
      "29.83 \t 38.0\n",
      "29.93 \t 30.0\n",
      "30.03 \t 28.0\n",
      "30.13 \t 4.0\n",
      "30.23 \t 36.0\n",
      "30.33 \t 51.0\n",
      "30.43 \t 29.0\n",
      "30.53 \t 35.0\n",
      "30.63 \t 52.0\n",
      "30.73 \t 47.0\n",
      "30.83 \t 38.0\n",
      "30.93 \t 37.0\n",
      "31.03 \t 34.0\n",
      "31.13 \t 26.0\n",
      "31.23 \t 49.0\n",
      "31.33 \t 73.0\n",
      "31.43 \t 44.0\n",
      "31.53 \t 53.0\n",
      "31.63 \t 52.0\n",
      "31.73 \t 58.0\n",
      "31.83 \t 28.0\n",
      "31.93 \t 43.0\n",
      "32.03 \t 68.0\n",
      "32.13 \t 38.0\n",
      "32.23 \t 45.0\n",
      "32.33 \t 67.0\n",
      "32.43 \t 36.0\n",
      "32.53 \t 70.0\n",
      "32.63 \t 39.0\n",
      "32.73 \t 26.0\n",
      "32.83 \t 15.0\n",
      "32.93 \t 12.0\n",
      "33.03 \t 40.0\n",
      "33.13 \t 46.0\n",
      "33.23 \t 30.0\n",
      "33.33 \t 63.0\n",
      "33.43 \t 68.0\n",
      "33.53 \t 73.0\n",
      "33.63 \t 41.0\n",
      "33.73 \t 22.0\n",
      "33.83 \t 31.0\n",
      "33.93 \t 61.0\n",
      "34.03 \t 40.0\n",
      "34.13 \t 21.0\n",
      "34.23 \t 51.0\n",
      "34.33 \t 40.0\n",
      "34.43 \t 43.0\n",
      "34.53 \t 54.0\n",
      "34.63 \t 51.0\n",
      "34.73 \t 35.0\n",
      "34.83 \t 52.0\n",
      "34.93 \t 67.0\n",
      "35.04 \t 38.0\n",
      "35.14 \t 31.0\n",
      "35.24 \t 31.0\n",
      "35.34 \t 35.0\n",
      "35.44 \t 44.0\n",
      "35.54 \t 66.0\n",
      "35.64 \t 38.0\n",
      "35.74 \t 18.0\n",
      "35.84 \t 36.0\n",
      "35.94 \t 37.0\n",
      "36.04 \t 4.0\n",
      "36.14 \t 61.0\n",
      "36.24 \t 29.0\n",
      "36.34 \t 70.0\n",
      "36.44 \t 66.0\n",
      "36.54 \t 49.0\n",
      "36.64 \t 37.0\n",
      "36.74 \t 49.0\n",
      "36.84 \t 39.0\n",
      "36.94 \t 54.0\n",
      "37.04 \t 48.0\n",
      "37.14 \t 49.0\n",
      "37.24 \t 40.0\n",
      "37.34 \t 36.0\n",
      "37.44 \t 33.0\n",
      "37.54 \t 57.0\n",
      "37.64 \t 39.0\n",
      "37.74 \t 38.0\n",
      "37.84 \t 29.0\n",
      "37.94 \t 57.0\n",
      "38.04 \t 34.0\n",
      "38.14 \t 27.0\n",
      "38.24 \t 38.0\n",
      "38.34 \t 47.0\n",
      "38.44 \t 49.0\n",
      "38.54 \t 18.0\n",
      "38.64 \t 35.0\n",
      "38.74 \t 46.0\n",
      "38.84 \t 35.0\n",
      "38.94 \t 69.0\n",
      "39.04 \t 18.0\n",
      "39.14 \t 37.0\n",
      "39.24 \t 42.0\n",
      "39.34 \t 63.0\n",
      "39.44 \t 47.0\n",
      "39.54 \t 36.0\n",
      "39.64 \t 42.0\n",
      "39.74 \t 53.0\n",
      "39.84 \t 28.0\n",
      "39.94 \t 39.0\n",
      "40.04 \t 69.0\n",
      "40.14 \t 13.0\n",
      "40.24 \t 39.0\n",
      "40.34 \t 41.0\n",
      "40.44 \t 68.0\n",
      "40.54 \t 18.0\n",
      "40.64 \t 17.0\n",
      "40.74 \t 57.0\n",
      "40.84 \t 30.0\n",
      "40.94 \t 20.0\n",
      "41.04 \t 37.0\n",
      "41.14 \t 31.0\n",
      "41.24 \t 42.0\n",
      "41.34 \t 35.0\n",
      "41.44 \t 30.0\n",
      "41.54 \t 30.0\n",
      "41.64 \t 29.0\n",
      "41.74 \t 30.0\n",
      "41.84 \t 36.0\n",
      "41.94 \t 40.0\n",
      "42.04 \t 27.0\n",
      "42.14 \t 23.0\n",
      "42.24 \t 17.0\n",
      "42.34 \t 37.0\n",
      "42.44 \t 63.0\n",
      "42.54 \t 43.0\n",
      "42.64 \t 40.0\n",
      "42.74 \t 22.0\n",
      "42.84 \t 32.0\n",
      "42.94 \t 32.0\n",
      "43.04 \t 28.0\n",
      "43.14 \t 46.0\n",
      "43.24 \t 27.0\n",
      "43.34 \t 66.0\n",
      "43.44 \t 43.0\n",
      "43.54 \t 66.0\n",
      "43.64 \t 32.0\n",
      "43.74 \t 34.0\n",
      "43.84 \t 54.0\n",
      "43.94 \t 45.0\n",
      "44.04 \t 68.0\n",
      "44.14 \t 38.0\n",
      "44.24 \t 26.0\n",
      "44.34 \t 30.0\n",
      "44.44 \t 29.0\n",
      "44.54 \t 67.0\n",
      "44.64 \t 23.0\n",
      "44.74 \t 26.0\n",
      "44.84 \t 37.0\n",
      "44.94 \t 31.0\n",
      "45.05 \t 38.0\n",
      "45.15 \t 68.0\n",
      "45.25 \t 34.0\n",
      "45.35 \t 69.0\n",
      "45.45 \t 50.0\n",
      "45.55 \t 65.0\n",
      "45.65 \t 67.0\n",
      "45.75 \t 74.0\n",
      "45.85 \t 63.0\n",
      "45.95 \t 39.0\n",
      "46.05 \t 49.0\n",
      "46.15 \t 64.0\n",
      "46.25 \t 32.0\n",
      "46.35 \t 61.0\n",
      "46.45 \t 67.0\n",
      "46.55 \t 23.0\n",
      "46.65 \t 34.0\n",
      "46.75 \t 49.0\n",
      "46.85 \t 20.0\n",
      "46.95 \t 48.0\n",
      "47.05 \t 21.0\n",
      "47.15 \t 34.0\n",
      "47.25 \t 72.0\n",
      "47.35 \t 58.0\n",
      "47.45 \t 69.0\n",
      "47.55 \t 65.0\n",
      "47.65 \t 56.0\n",
      "47.75 \t 44.0\n",
      "47.85 \t 70.0\n",
      "47.95 \t 34.0\n",
      "48.05 \t 45.0\n",
      "48.15 \t 20.0\n",
      "48.25 \t 68.0\n",
      "48.35 \t 35.0\n",
      "48.45 \t 34.0\n",
      "48.55 \t 36.0\n",
      "48.65 \t 38.0\n",
      "48.75 \t 30.0\n",
      "48.85 \t 46.0\n",
      "48.95 \t 52.0\n",
      "49.05 \t 24.0\n",
      "49.15 \t 34.0\n",
      "49.25 \t 69.0\n",
      "49.35 \t 73.0\n",
      "49.45 \t 43.0\n",
      "49.55 \t 44.0\n",
      "49.65 \t 49.0\n",
      "49.75 \t 48.0\n",
      "49.85 \t 38.0\n",
      "49.95 \t 32.0\n",
      "50.05 \t 45.0\n",
      "50.15 \t 48.0\n",
      "50.25 \t 34.0\n",
      "50.35 \t 70.0\n",
      "50.45 \t 35.0\n",
      "50.55 \t 40.0\n",
      "50.65 \t 65.0\n",
      "50.75 \t 73.0\n",
      "50.85 \t 60.0\n",
      "50.95 \t 24.0\n",
      "51.05 \t 15.0\n",
      "51.15 \t 17.0\n",
      "51.25 \t 14.0\n",
      "51.35 \t 45.0\n",
      "51.45 \t 48.0\n",
      "51.55 \t 42.0\n",
      "51.65 \t 56.0\n",
      "51.75 \t 67.0\n",
      "51.85 \t 56.0\n",
      "51.95 \t 36.0\n",
      "52.05 \t 25.0\n",
      "52.15 \t 51.0\n",
      "52.25 \t 64.0\n",
      "52.35 \t 51.0\n",
      "52.45 \t 39.0\n",
      "52.55 \t 59.0\n",
      "52.65 \t 68.0\n",
      "52.75 \t 32.0\n",
      "52.85 \t 23.0\n",
      "52.95 \t 17.0\n",
      "53.05 \t 60.0\n",
      "53.15 \t 8.0\n",
      "53.25 \t 43.0\n",
      "53.35 \t 24.0\n",
      "53.45 \t 25.0\n",
      "53.55 \t 38.0\n",
      "53.65 \t 66.0\n",
      "53.75 \t 69.0\n",
      "53.85 \t 32.0\n",
      "53.95 \t 48.0\n",
      "54.05 \t 41.0\n",
      "54.15 \t 36.0\n",
      "54.25 \t 68.0\n",
      "54.35 \t 48.0\n",
      "54.45 \t 64.0\n",
      "54.55 \t 33.0\n",
      "54.65 \t 44.0\n",
      "54.75 \t 41.0\n",
      "54.85 \t 46.0\n",
      "54.95 \t 15.0\n",
      "55.06 \t 41.0\n",
      "55.16 \t 24.0\n",
      "55.26 \t 40.0\n",
      "55.36 \t 24.0\n",
      "55.46 \t 17.0\n",
      "55.56 \t 48.0\n",
      "55.66 \t 25.0\n",
      "55.76 \t 52.0\n",
      "55.86 \t 31.0\n",
      "55.96 \t 12.0\n",
      "56.06 \t 46.0\n",
      "56.16 \t 70.0\n",
      "56.26 \t 69.0\n",
      "56.36 \t 31.0\n",
      "56.46 \t 36.0\n",
      "56.56 \t 44.0\n",
      "56.66 \t 59.0\n",
      "56.76 \t 19.0\n",
      "56.86 \t 22.0\n",
      "56.96 \t 32.0\n",
      "57.06 \t 39.0\n",
      "57.16 \t 32.0\n",
      "57.26 \t 24.0\n",
      "57.36 \t 72.0\n",
      "57.46 \t 38.0\n",
      "57.56 \t 48.0\n",
      "57.66 \t 33.0\n",
      "57.76 \t 22.0\n",
      "57.86 \t 66.0\n",
      "57.96 \t 25.0\n",
      "58.06 \t 70.0\n",
      "58.16 \t 43.0\n",
      "58.26 \t 71.0\n",
      "58.36 \t 53.0\n",
      "58.46 \t 2.0\n",
      "58.56 \t 32.0\n",
      "58.66 \t 18.0\n",
      "58.76 \t 67.0\n",
      "58.86 \t 71.0\n",
      "58.96 \t 66.0\n",
      "59.06 \t 19.0\n",
      "59.16 \t 63.0\n",
      "59.26 \t 32.0\n",
      "59.36 \t 67.0\n",
      "59.46 \t 41.0\n",
      "59.56 \t 29.0\n",
      "59.66 \t 71.0\n",
      "59.76 \t 19.0\n",
      "59.86 \t 28.0\n",
      "59.96 \t 31.0\n",
      "60.06 \t 67.0\n",
      "60.16 \t 27.0\n",
      "60.26 \t 70.0\n",
      "60.36 \t 28.0\n",
      "60.46 \t 52.0\n",
      "60.56 \t 45.0\n",
      "60.66 \t 35.0\n",
      "60.76 \t 50.0\n",
      "60.86 \t 33.0\n",
      "60.96 \t 49.0\n",
      "61.06 \t 69.0\n",
      "61.16 \t 72.0\n",
      "61.26 \t 46.0\n",
      "61.36 \t 32.0\n",
      "61.46 \t 24.0\n",
      "61.56 \t 47.0\n",
      "61.66 \t 60.0\n",
      "61.76 \t 59.0\n",
      "61.86 \t 35.0\n",
      "61.96 \t 39.0\n",
      "62.06 \t 20.0\n",
      "62.16 \t 35.0\n",
      "62.26 \t 51.0\n",
      "62.36 \t 30.0\n",
      "62.46 \t 39.0\n",
      "62.56 \t 27.0\n",
      "62.66 \t 57.0\n",
      "62.76 \t 43.0\n",
      "62.86 \t 27.0\n",
      "62.96 \t 67.0\n",
      "63.06 \t 69.0\n",
      "63.16 \t 21.0\n",
      "63.26 \t 50.0\n",
      "63.36 \t 41.0\n",
      "63.46 \t 24.0\n",
      "63.56 \t 21.0\n",
      "63.66 \t 21.0\n",
      "63.76 \t 38.0\n",
      "63.86 \t 19.0\n",
      "63.96 \t 56.0\n",
      "64.06 \t 65.0\n",
      "64.16 \t 39.0\n",
      "64.26 \t 54.0\n",
      "64.36 \t 66.0\n",
      "64.46 \t 69.0\n",
      "64.56 \t 39.0\n",
      "64.66 \t 48.0\n",
      "64.76 \t 10.0\n",
      "64.86 \t 40.0\n",
      "64.96 \t 28.0\n",
      "65.07 \t 28.0\n",
      "65.17 \t 37.0\n",
      "65.27 \t 31.0\n",
      "65.37 \t 65.0\n",
      "65.47 \t 28.0\n",
      "65.57 \t 9.0\n",
      "65.67 \t 28.0\n",
      "65.77 \t 55.0\n",
      "65.87 \t 44.0\n",
      "65.97 \t 40.0\n",
      "66.07 \t 35.0\n",
      "66.17 \t 30.0\n",
      "66.27 \t 45.0\n",
      "66.37 \t 40.0\n",
      "66.47 \t 59.0\n",
      "66.57 \t 37.0\n",
      "66.67 \t 36.0\n",
      "66.77 \t 28.0\n",
      "66.87 \t 35.0\n",
      "66.97 \t 45.0\n",
      "67.07 \t 46.0\n",
      "67.17 \t 16.0\n",
      "67.27 \t 47.0\n",
      "67.37 \t 19.0\n",
      "67.47 \t 42.0\n",
      "67.57 \t 67.0\n",
      "67.67 \t 75.0\n",
      "67.77 \t 29.0\n",
      "67.87 \t 33.0\n",
      "67.97 \t 27.0\n",
      "68.07 \t 42.0\n",
      "68.17 \t 40.0\n",
      "68.27 \t 36.0\n",
      "68.37 \t 32.0\n",
      "68.47 \t 43.0\n",
      "68.57 \t 50.0\n",
      "68.67 \t 45.0\n",
      "68.77 \t 40.0\n",
      "68.87 \t 50.0\n",
      "68.97 \t 59.0\n",
      "69.07 \t 13.0\n",
      "69.17 \t 36.0\n",
      "69.27 \t 25.0\n",
      "69.37 \t 16.0\n",
      "69.47 \t 19.0\n",
      "69.57 \t 74.0\n",
      "69.67 \t 51.0\n",
      "69.77 \t 34.0\n",
      "69.87 \t 27.0\n",
      "69.97 \t 31.0\n",
      "70.07 \t 52.0\n",
      "70.17 \t 71.0\n",
      "70.27 \t 23.0\n",
      "70.37 \t 11.0\n",
      "70.47 \t 52.0\n",
      "70.57 \t 53.0\n",
      "70.67 \t 71.0\n",
      "70.77 \t 52.0\n",
      "70.87 \t 31.0\n",
      "70.97 \t 45.0\n",
      "71.07 \t 46.0\n",
      "71.17 \t 65.0\n",
      "71.27 \t 45.0\n",
      "71.37 \t 16.0\n",
      "71.47 \t 50.0\n",
      "71.57 \t 17.0\n",
      "71.67 \t 65.0\n",
      "71.77 \t 34.0\n",
      "71.87 \t 41.0\n",
      "71.97 \t 18.0\n",
      "72.07 \t 22.0\n",
      "72.17 \t 67.0\n",
      "72.27 \t 55.0\n",
      "72.37 \t 52.0\n",
      "72.47 \t 29.0\n",
      "72.57 \t 67.0\n",
      "72.67 \t 38.0\n",
      "72.77 \t 32.0\n",
      "72.87 \t 24.0\n",
      "72.97 \t 33.0\n",
      "73.07 \t 35.0\n",
      "73.17 \t 72.0\n",
      "73.27 \t 40.0\n",
      "73.37 \t 32.0\n",
      "73.47 \t 26.0\n",
      "73.57 \t 43.0\n",
      "73.67 \t 1.0\n",
      "73.77 \t 32.0\n",
      "73.87 \t 36.0\n",
      "73.97 \t 64.0\n",
      "74.07 \t 29.0\n",
      "74.17 \t 16.0\n",
      "74.27 \t 36.0\n",
      "74.37 \t 53.0\n",
      "74.47 \t 17.0\n",
      "74.57 \t 50.0\n",
      "74.67 \t 19.0\n",
      "74.77 \t 24.0\n",
      "74.87 \t 32.0\n",
      "74.97 \t 39.0\n",
      "75.08 \t 37.0\n",
      "75.18 \t 37.0\n",
      "75.28 \t 43.0\n",
      "75.38 \t 53.0\n",
      "75.48 \t 69.0\n",
      "75.58 \t 39.0\n",
      "75.68 \t 30.0\n",
      "75.78 \t 48.0\n",
      "75.88 \t 14.0\n",
      "75.98 \t 50.0\n",
      "76.08 \t 25.0\n",
      "76.18 \t 69.0\n",
      "76.28 \t 35.0\n",
      "76.38 \t 41.0\n",
      "76.48 \t 52.0\n",
      "76.58 \t 39.0\n",
      "76.68 \t 41.0\n",
      "76.78 \t 33.0\n",
      "76.88 \t 20.0\n",
      "76.98 \t 39.0\n",
      "77.08 \t 49.0\n",
      "77.18 \t 32.0\n",
      "77.28 \t 72.0\n",
      "77.38 \t 46.0\n",
      "77.48 \t 39.0\n",
      "77.58 \t 48.0\n",
      "77.68 \t 37.0\n",
      "77.78 \t 29.0\n",
      "77.88 \t 48.0\n",
      "77.98 \t 35.0\n",
      "78.08 \t 64.0\n",
      "78.18 \t 77.0\n",
      "78.28 \t 37.0\n",
      "78.38 \t 27.0\n",
      "78.48 \t 36.0\n",
      "78.58 \t 36.0\n",
      "78.68 \t 32.0\n",
      "78.78 \t 47.0\n",
      "78.88 \t 18.0\n",
      "78.98 \t 68.0\n",
      "79.08 \t 45.0\n",
      "79.18 \t 19.0\n",
      "79.28 \t 50.0\n",
      "79.38 \t 35.0\n",
      "79.48 \t 31.0\n",
      "79.58 \t 29.0\n",
      "79.68 \t 31.0\n",
      "79.78 \t 30.0\n",
      "79.88 \t 48.0\n",
      "79.98 \t 44.0\n",
      "80.08 \t 38.0\n",
      "80.18 \t 61.0\n",
      "80.28 \t 36.0\n",
      "80.38 \t 70.0\n",
      "80.48 \t 63.0\n",
      "80.58 \t 35.0\n",
      "80.68 \t 43.0\n",
      "80.78 \t 32.0\n",
      "80.88 \t 59.0\n",
      "80.98 \t 41.0\n",
      "81.08 \t 25.0\n",
      "81.18 \t 39.0\n",
      "81.28 \t 70.0\n",
      "81.38 \t 62.0\n",
      "81.48 \t 48.0\n",
      "81.58 \t 62.0\n",
      "81.68 \t 12.0\n",
      "81.78 \t 44.0\n",
      "81.88 \t 63.0\n",
      "81.98 \t 44.0\n",
      "82.08 \t 67.0\n",
      "82.18 \t 47.0\n",
      "82.28 \t 50.0\n",
      "82.38 \t 21.0\n",
      "82.48 \t 70.0\n",
      "82.58 \t 64.0\n",
      "82.68 \t 37.0\n",
      "82.78 \t 24.0\n",
      "82.88 \t 23.0\n",
      "82.98 \t 48.0\n",
      "83.08 \t 54.0\n",
      "83.18 \t 53.0\n",
      "83.28 \t 42.0\n",
      "83.38 \t 26.0\n",
      "83.48 \t 34.0\n",
      "83.58 \t 43.0\n",
      "83.68 \t 52.0\n",
      "83.78 \t 32.0\n",
      "83.88 \t 48.0\n",
      "83.98 \t 72.0\n",
      "84.08 \t 23.0\n",
      "84.18 \t 50.0\n",
      "84.28 \t 65.0\n",
      "84.38 \t 32.0\n",
      "84.48 \t 38.0\n",
      "84.58 \t 71.0\n",
      "84.68 \t 34.0\n",
      "84.78 \t 32.0\n",
      "84.88 \t 27.0\n",
      "84.98 \t 37.0\n",
      "85.09 \t 27.0\n",
      "85.19 \t 29.0\n",
      "85.29 \t 54.0\n",
      "85.39 \t 23.0\n",
      "85.49 \t 35.0\n",
      "85.59 \t 20.0\n",
      "85.69 \t 70.0\n",
      "85.79 \t 15.0\n",
      "85.89 \t 25.0\n",
      "85.99 \t 34.0\n",
      "86.09 \t 37.0\n",
      "86.19 \t 49.0\n",
      "86.29 \t 35.0\n",
      "86.39 \t 40.0\n",
      "86.49 \t 74.0\n",
      "86.59 \t 44.0\n",
      "86.69 \t 39.0\n",
      "86.79 \t 55.0\n",
      "86.89 \t 38.0\n",
      "86.99 \t 63.0\n",
      "87.09 \t 29.0\n",
      "87.19 \t 33.0\n",
      "87.29 \t 41.0\n",
      "87.39 \t 68.0\n",
      "87.49 \t 38.0\n",
      "87.59 \t 47.0\n",
      "87.69 \t 69.0\n",
      "87.79 \t 20.0\n",
      "87.89 \t 12.0\n",
      "87.99 \t 57.0\n",
      "88.09 \t 50.0\n",
      "88.19 \t 66.0\n",
      "88.29 \t 42.0\n",
      "88.39 \t 56.0\n",
      "88.49 \t 30.0\n",
      "88.59 \t 26.0\n",
      "88.69 \t 48.0\n",
      "88.79 \t 47.0\n",
      "88.89 \t 33.0\n",
      "88.99 \t 51.0\n",
      "89.09 \t 61.0\n",
      "89.19 \t 56.0\n",
      "89.29 \t 30.0\n",
      "89.39 \t 34.0\n",
      "89.49 \t 22.0\n",
      "89.59 \t 41.0\n",
      "89.69 \t 60.0\n",
      "89.79 \t 21.0\n",
      "89.89 \t 55.0\n",
      "89.99 \t 40.0\n",
      "90.09 \t 35.0\n",
      "90.19 \t 68.0\n",
      "90.29 \t 55.0\n",
      "90.39 \t 71.0\n",
      "90.49 \t 24.0\n",
      "90.59 \t 26.0\n",
      "90.69 \t 15.0\n",
      "90.79 \t 22.0\n",
      "90.89 \t 26.0\n",
      "90.99 \t 45.0\n",
      "91.09 \t 43.0\n",
      "91.19 \t 32.0\n",
      "91.29 \t 50.0\n",
      "91.39 \t 46.0\n",
      "91.49 \t 39.0\n",
      "91.59 \t 32.0\n",
      "91.69 \t 49.0\n",
      "91.79 \t 42.0\n",
      "91.89 \t 63.0\n",
      "91.99 \t 37.0\n",
      "92.09 \t 55.0\n",
      "92.19 \t 29.0\n",
      "92.29 \t 41.0\n",
      "92.39 \t 75.0\n",
      "92.49 \t 51.0\n",
      "92.59 \t 17.0\n",
      "92.69 \t 54.0\n",
      "92.79 \t 36.0\n",
      "92.89 \t 67.0\n",
      "92.99 \t 28.0\n",
      "93.09 \t 26.0\n",
      "93.19 \t 15.0\n",
      "93.29 \t 20.0\n",
      "93.39 \t 27.0\n",
      "93.49 \t 51.0\n",
      "93.59 \t 33.0\n",
      "93.69 \t 31.0\n",
      "93.79 \t 47.0\n",
      "93.89 \t 36.0\n",
      "93.99 \t 69.0\n",
      "94.09 \t 45.0\n",
      "94.19 \t 23.0\n",
      "94.29 \t 41.0\n",
      "94.39 \t 45.0\n",
      "94.49 \t 37.0\n",
      "94.59 \t 32.0\n",
      "94.69 \t 44.0\n",
      "94.79 \t 17.0\n",
      "94.89 \t 41.0\n",
      "94.99 \t 35.0\n",
      "95.1 \t 30.0\n",
      "95.2 \t 48.0\n",
      "95.3 \t 54.0\n",
      "95.4 \t 43.0\n",
      "95.5 \t 64.0\n",
      "95.6 \t 43.0\n",
      "95.7 \t 72.0\n",
      "95.8 \t 66.0\n",
      "95.9 \t 40.0\n",
      "96.0 \t 45.0\n",
      "96.1 \t 42.0\n",
      "96.2 \t 65.0\n",
      "96.3 \t 18.0\n",
      "96.4 \t 37.0\n",
      "96.5 \t 37.0\n",
      "96.6 \t 32.0\n",
      "96.7 \t 65.0\n",
      "96.8 \t 64.0\n",
      "96.9 \t 31.0\n",
      "97.0 \t 49.0\n",
      "97.1 \t 44.0\n",
      "97.2 \t 52.0\n",
      "97.3 \t 30.0\n",
      "97.4 \t 56.0\n",
      "97.5 \t 67.0\n",
      "97.6 \t 51.0\n",
      "97.7 \t 27.0\n",
      "97.8 \t 20.0\n",
      "97.9 \t 57.0\n",
      "98.0 \t 70.0\n",
      "98.1 \t 50.0\n",
      "98.2 \t 24.0\n",
      "98.3 \t 28.0\n",
      "98.4 \t 67.0\n",
      "98.5 \t 52.0\n",
      "98.6 \t 42.0\n",
      "98.7 \t 73.0\n",
      "98.8 \t 76.0\n",
      "98.9 \t 30.0\n",
      "99.0 \t 64.0\n",
      "99.1 \t 30.0\n",
      "99.2 \t 36.0\n",
      "99.3 \t 69.0\n",
      "99.4 \t 37.0\n",
      "99.5 \t 52.0\n",
      "99.6 \t 54.0\n",
      "99.7 \t 31.0\n"
     ]
    },
    {
     "name": "stdout",
     "output_type": "stream",
     "text": [
      "99.8 \t 24.0\n",
      "99.9 \t 21.0\n",
      "100.0 \t 21.0\n"
     ]
    }
   ],
   "source": [
    "# your code here\n",
    "#capture percentile of data\n",
    "for i in range(len(dataset)):\n",
    "  print(round(i*100/(len(dataset)-1),2),\"\\t\", dataset[len(dataset)-i-1])"
   ]
  },
  {
   "cell_type": "code",
   "execution_count": null,
   "metadata": {},
   "outputs": [],
   "source": [
    "\"\"\"\n",
    "your comments here\n",
    "I did not see any difference\n",
    "\"\"\""
   ]
  },
  {
   "cell_type": "markdown",
   "metadata": {},
   "source": [
    "## Bonus challenge\n",
    "Compare the information about the three neighbourhoods. Prepare a report about the three of them. Remember to find out which are their similarities and their differences backing your arguments in basic statistics."
   ]
  },
  {
   "cell_type": "code",
   "execution_count": null,
   "metadata": {},
   "outputs": [],
   "source": [
    "# your code here"
   ]
  },
  {
   "cell_type": "code",
   "execution_count": null,
   "metadata": {},
   "outputs": [],
   "source": [
    "\"\"\"\n",
    "your comments here\n",
    "\"\"\""
   ]
  }
 ],
 "metadata": {
  "kernelspec": {
   "display_name": "Python 3 (ipykernel)",
   "language": "python",
   "name": "python3"
  },
  "language_info": {
   "codemirror_mode": {
    "name": "ipython",
    "version": 3
   },
   "file_extension": ".py",
   "mimetype": "text/x-python",
   "name": "python",
   "nbconvert_exporter": "python",
   "pygments_lexer": "ipython3",
   "version": "3.9.7"
  }
 },
 "nbformat": 4,
 "nbformat_minor": 2
}
