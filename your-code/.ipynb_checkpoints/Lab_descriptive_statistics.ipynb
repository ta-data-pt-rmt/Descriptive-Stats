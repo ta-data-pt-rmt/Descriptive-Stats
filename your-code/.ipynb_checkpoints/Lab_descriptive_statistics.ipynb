{
 "cells": [
  {
   "cell_type": "markdown",
   "metadata": {},
   "source": [
    "# Understanding Descriptive Statistics\n",
    "\n",
    "Import the necessary libraries here:"
   ]
  },
  {
   "cell_type": "code",
   "execution_count": 1,
   "metadata": {},
   "outputs": [],
   "source": [
    "# Libraries\n",
    "import pandas as pd\n",
    "import numpy as np\n",
    "import matplotlib.pyplot as plt"
   ]
  },
  {
   "cell_type": "markdown",
   "metadata": {},
   "source": [
    "## Challenge 1\n",
    "#### 1.- Define a function that simulates rolling a dice 10 times. Save the information in a dataframe.\n",
    "**Hint**: you can use the *choices* function from module *random* to help you with the simulation."
   ]
  },
  {
   "cell_type": "code",
   "execution_count": 7,
   "metadata": {},
   "outputs": [],
   "source": [
    "# Method saw in lab class with Jesus \n",
    "\n",
    "import random\n",
    "\n",
    "def dice_throw(n):\n",
    "    return pd.DataFrame({'Number':[random.choice(np.arange(1, 7, 1)) for i in range(n)]}) #give a set of value to random choice\n"
   ]
  },
  {
   "cell_type": "code",
   "execution_count": 34,
   "metadata": {},
   "outputs": [
    {
     "data": {
      "text/html": [
       "<div>\n",
       "<style scoped>\n",
       "    .dataframe tbody tr th:only-of-type {\n",
       "        vertical-align: middle;\n",
       "    }\n",
       "\n",
       "    .dataframe tbody tr th {\n",
       "        vertical-align: top;\n",
       "    }\n",
       "\n",
       "    .dataframe thead th {\n",
       "        text-align: right;\n",
       "    }\n",
       "</style>\n",
       "<table border=\"1\" class=\"dataframe\">\n",
       "  <thead>\n",
       "    <tr style=\"text-align: right;\">\n",
       "      <th></th>\n",
       "      <th>Number</th>\n",
       "    </tr>\n",
       "  </thead>\n",
       "  <tbody>\n",
       "    <tr>\n",
       "      <th>1</th>\n",
       "      <td>1</td>\n",
       "    </tr>\n",
       "    <tr>\n",
       "      <th>2</th>\n",
       "      <td>3</td>\n",
       "    </tr>\n",
       "    <tr>\n",
       "      <th>3</th>\n",
       "      <td>1</td>\n",
       "    </tr>\n",
       "    <tr>\n",
       "      <th>4</th>\n",
       "      <td>3</td>\n",
       "    </tr>\n",
       "    <tr>\n",
       "      <th>5</th>\n",
       "      <td>2</td>\n",
       "    </tr>\n",
       "    <tr>\n",
       "      <th>6</th>\n",
       "      <td>4</td>\n",
       "    </tr>\n",
       "    <tr>\n",
       "      <th>7</th>\n",
       "      <td>4</td>\n",
       "    </tr>\n",
       "    <tr>\n",
       "      <th>8</th>\n",
       "      <td>3</td>\n",
       "    </tr>\n",
       "    <tr>\n",
       "      <th>9</th>\n",
       "      <td>6</td>\n",
       "    </tr>\n",
       "    <tr>\n",
       "      <th>10</th>\n",
       "      <td>6</td>\n",
       "    </tr>\n",
       "  </tbody>\n",
       "</table>\n",
       "</div>"
      ],
      "text/plain": [
       "    Number\n",
       "1        1\n",
       "2        3\n",
       "3        1\n",
       "4        3\n",
       "5        2\n",
       "6        4\n",
       "7        4\n",
       "8        3\n",
       "9        6\n",
       "10       6"
      ]
     },
     "execution_count": 34,
     "metadata": {},
     "output_type": "execute_result"
    }
   ],
   "source": [
    "dice_values = dice_throw(10)\n",
    "\n",
    "# Reset the index to start from 1\n",
    "dice_values = dice_values.reset_index(drop=True)\n",
    "\n",
    "# Increment the index by 1 to start from 1\n",
    "dice_values.index += 1\n",
    "\n",
    "dice_values"
   ]
  },
  {
   "cell_type": "code",
   "execution_count": 18,
   "metadata": {},
   "outputs": [
    {
     "data": {
      "text/html": [
       "<div>\n",
       "<style scoped>\n",
       "    .dataframe tbody tr th:only-of-type {\n",
       "        vertical-align: middle;\n",
       "    }\n",
       "\n",
       "    .dataframe tbody tr th {\n",
       "        vertical-align: top;\n",
       "    }\n",
       "\n",
       "    .dataframe thead th {\n",
       "        text-align: right;\n",
       "    }\n",
       "</style>\n",
       "<table border=\"1\" class=\"dataframe\">\n",
       "  <thead>\n",
       "    <tr style=\"text-align: right;\">\n",
       "      <th></th>\n",
       "      <th>Number</th>\n",
       "    </tr>\n",
       "  </thead>\n",
       "  <tbody>\n",
       "    <tr>\n",
       "      <th>0</th>\n",
       "      <td>4</td>\n",
       "    </tr>\n",
       "    <tr>\n",
       "      <th>1</th>\n",
       "      <td>5</td>\n",
       "    </tr>\n",
       "    <tr>\n",
       "      <th>2</th>\n",
       "      <td>5</td>\n",
       "    </tr>\n",
       "    <tr>\n",
       "      <th>3</th>\n",
       "      <td>5</td>\n",
       "    </tr>\n",
       "    <tr>\n",
       "      <th>4</th>\n",
       "      <td>6</td>\n",
       "    </tr>\n",
       "    <tr>\n",
       "      <th>5</th>\n",
       "      <td>4</td>\n",
       "    </tr>\n",
       "    <tr>\n",
       "      <th>6</th>\n",
       "      <td>3</td>\n",
       "    </tr>\n",
       "    <tr>\n",
       "      <th>7</th>\n",
       "      <td>3</td>\n",
       "    </tr>\n",
       "    <tr>\n",
       "      <th>8</th>\n",
       "      <td>4</td>\n",
       "    </tr>\n",
       "    <tr>\n",
       "      <th>9</th>\n",
       "      <td>4</td>\n",
       "    </tr>\n",
       "  </tbody>\n",
       "</table>\n",
       "</div>"
      ],
      "text/plain": [
       "   Number\n",
       "0       4\n",
       "1       5\n",
       "2       5\n",
       "3       5\n",
       "4       6\n",
       "5       4\n",
       "6       3\n",
       "7       3\n",
       "8       4\n",
       "9       4"
      ]
     },
     "execution_count": 18,
     "metadata": {},
     "output_type": "execute_result"
    }
   ],
   "source": [
    "# your code here\n",
    "\n",
    "import random\n",
    "\n",
    "\n",
    "def rolling_dice():\n",
    "    return pd.DataFrame({'Number': random.choices(range(1, 7), k=10)}) #6 angles of the dice, rolling 10 times\n",
    "\n",
    "dice_rolls = rolling_dice()\n",
    "\n",
    "dice_rolls.head(10)\n",
    "\n",
    "#pd.DataFrame important :\n",
    "\n",
    "#DataFrame = tableau Excel, possible de faire des modifications\n",
    "#(diff tableau algorythmique qui est non modifiable)\n",
    "#Dataframe peut contenir str, float, int."
   ]
  },
  {
   "cell_type": "markdown",
   "metadata": {},
   "source": [
    "#### 2.- Plot the results sorted by value."
   ]
  },
  {
   "cell_type": "code",
   "execution_count": 63,
   "metadata": {},
   "outputs": [
    {
     "data": {
      "image/png": "[encoded data removed]",
      "text/plain": [
       "<Figure size 640x480 with 1 Axes>"
      ]
     },
     "metadata": {},
     "output_type": "display_data"
    }
   ],
   "source": [
    "#Jesus' method\n",
    "\n",
    "#Here sort it by value, not frequency distribution\n",
    "dice = dice_values.sort_values(by='Number').reset_index()['Number'] \n",
    "#by = name of the column\n",
    "#reset index so we have value count plot (otherwise we have plot as we would not done value count as \n",
    "#we reset the number)\n",
    "\n",
    "#After resetting the index, we select the 'Number' column using square brackets, \n",
    "#which returns a Series containing only the 'Number' column. \n",
    "#This is useful to work with the sorted and reset 'Number' values as a 1-D data structure (Series) \n",
    "#rather than a 2-D DataFrame.\n",
    "\n",
    "\n",
    "#Step 2 - Set parameters \n",
    "plt.plot(range(1, len(dice) + 1), dice)\n",
    "\n",
    "# Set x-axis ticks starting from 1 with a step of 1\n",
    "plt.xticks(range(1, len(dice) + 1))\n",
    "\n",
    "# Set y-axis ticks starting from 1 with a step of 1\n",
    "plt.yticks(range(1, int(dice.max()) + 1))\n",
    "\n",
    "\n",
    "plt.xlabel(\"Index\")\n",
    "plt.ylabel(\"Number\")\n",
    "plt.title(\"Plot of Sorted 'Number' Values\")\n",
    "\n",
    "plt.show()\n",
    "\n",
    "#Here we create a new dataframe, we sort it by column, we reset the index (we wanna get rid of the first column indexed)\n",
    "#we give the column name in which we wanna put this value \n",
    "#after the reset we add [name of the column] because we put the column values in it."
   ]
  },
  {
   "cell_type": "markdown",
   "metadata": {},
   "source": [
    "Plot explanation :\n",
    "\n",
    "1. The x-axis (horizontal) represents the index values of the DataFrame after resetting the index. These values start from 0 and go up to 9, which correspond to the sorted positions of the 'Number' values in the DataFrame.\n",
    "\n",
    "2. The y-axis (vertical) represents the actual 'Number' values in your DataFrame, which have been sorted in ascending order.\n",
    "\n",
    "The plot itself consists of points connected by lines. Each point on the plot represents a 'Number' value from your DataFrame, and the lines connect these points in ascending order."
   ]
  },
  {
   "cell_type": "code",
   "execution_count": 36,
   "metadata": {
    "scrolled": true
   },
   "outputs": [
    {
     "data": {
      "text/plain": [
       "0    1\n",
       "1    1\n",
       "2    2\n",
       "3    3\n",
       "4    3\n",
       "5    3\n",
       "6    4\n",
       "7    4\n",
       "8    6\n",
       "9    6\n",
       "Name: Number, dtype: int64"
      ]
     },
     "execution_count": 36,
     "metadata": {},
     "output_type": "execute_result"
    }
   ],
   "source": [
    "dice #Check we now we have the column sorted by ascending order"
   ]
  },
  {
   "cell_type": "code",
   "execution_count": 19,
   "metadata": {},
   "outputs": [
    {
     "data": {
      "text/plain": [
       "{'whiskers': [<matplotlib.lines.Line2D at 0x7fb82ee41ab0>,\n",
       "  <matplotlib.lines.Line2D at 0x7fb82ee42290>],\n",
       " 'caps': [<matplotlib.lines.Line2D at 0x7fb82ee40cd0>,\n",
       "  <matplotlib.lines.Line2D at 0x7fb82ee40eb0>],\n",
       " 'boxes': [<matplotlib.lines.Line2D at 0x7fb82ee42d10>],\n",
       " 'medians': [<matplotlib.lines.Line2D at 0x7fb82ee91cf0>],\n",
       " 'fliers': [<matplotlib.lines.Line2D at 0x7fb82ee42680>],\n",
       " 'means': []}"
      ]
     },
     "execution_count": 19,
     "metadata": {},
     "output_type": "execute_result"
    },
    {
     "data": {
      "image/png": "[encoded data removed]",
      "text/plain": [
       "<Figure size 640x480 with 1 Axes>"
      ]
     },
     "metadata": {},
     "output_type": "display_data"
    }
   ],
   "source": [
    "#Boxplot\n",
    "\n",
    "# your code here\n",
    "sorted_rolls = dice_rolls['Number'].sort_values()\n",
    "\n",
    "plt.yticks([1,2,3,4,5,6]) #add all values for the plot\n",
    "\n",
    "plt.boxplot(sorted_rolls)"
   ]
  },
  {
   "cell_type": "markdown",
   "metadata": {},
   "source": [
    "Line plot:\n",
    "It is often used to visualize the trend or pattern in data over a continuous or ordered variable, such as time.\n",
    "\n",
    "Boxplot (more useful for data summary and comparisons):\n",
    "used to visualize the distribution and summary statistics of a dataset.\n",
    "useful for comparing the distribution of data between different categories or groups and for identifying the presence of outliers.\n",
    "\n"
   ]
  },
  {
   "cell_type": "markdown",
   "metadata": {},
   "source": [
    "#### 3.- Calculate the frequency distribution and plot it. What is the relation between this plot and the plot above? Describe it with words."
   ]
  },
  {
   "cell_type": "code",
   "execution_count": 64,
   "metadata": {},
   "outputs": [
    {
     "data": {
      "image/png": "[encoded data removed]",
      "text/plain": [
       "<Figure size 640x480 with 1 Axes>"
      ]
     },
     "metadata": {},
     "output_type": "display_data"
    }
   ],
   "source": [
    "# Define the bin edges to center the bars between integers\n",
    "bin_edges = [i - 0.5 for i in range(1, 8)]  # Centered between 1 and 6\n",
    "\n",
    "# Create the histogram with centered columns\n",
    "hist_values, bin_edges, _ = plt.hist(dice, bins=bin_edges, rwidth=0.8)\n",
    "\n",
    "# Calculate the median\n",
    "median = np.median(dice)\n",
    "\n",
    "# Set the y-axis ticks with a step of 1, considering the maximum count in the histogram\n",
    "plt.yticks(range(1, int(max(hist_values)) + 1))\n",
    "\n",
    "plt.xlabel(\"Number\")\n",
    "plt.ylabel(\"Frequency\")\n",
    "plt.title(\"Histogram of 'Number' Values\")\n",
    "\n",
    "# Display the median as text on the plot\n",
    "plt.text(median, 1, f\"Median: {median}\", ha='center', va='bottom', fontsize=12)\n",
    "\n",
    "plt.show()\n",
    "\n",
    "#The [0] is used to access the first element of the return value from plt.hist. \n",
    "#The plt.hist function returns a tuple of values, and we're interested in the first element of that tuple, \n",
    "#which contains the frequency counts of the histogram.\n",
    "\n",
    "#plt.hist returns tuples containing 3 elements :\n",
    "\n",
    "#The histogram values (frequency counts in each bin).\n",
    "#The bin edges.\n",
    "#The patches (the individual bars in the histogram).\n"
   ]
  },
  {
   "cell_type": "code",
   "execution_count": 65,
   "metadata": {},
   "outputs": [
    {
     "data": {
      "image/png": "[encoded data removed]",
      "text/plain": [
       "<Figure size 640x480 with 1 Axes>"
      ]
     },
     "metadata": {},
     "output_type": "display_data"
    }
   ],
   "source": [
    "#Class' method\n",
    "\n",
    "plt.hist(dice, bins = 6, range=(1,6))\n",
    "\n",
    "plt.xlabel(\"Number\")\n",
    "plt.ylabel(\"Frequency\")\n",
    "plt.title(\"Histogram of 'Number' Values\")\n",
    "\n",
    "plt.show()#here plots the frequency distribution directly"
   ]
  },
  {
   "cell_type": "markdown",
   "metadata": {},
   "source": [
    "Create frequency distribution "
   ]
  },
  {
   "cell_type": "code",
   "execution_count": 66,
   "metadata": {},
   "outputs": [
    {
     "name": "stdout",
     "output_type": "stream",
     "text": [
      "   Dice number  Frequency\n",
      "0            1          2\n",
      "1            2          1\n",
      "2            3          3\n",
      "3            4          2\n",
      "4            6          2\n"
     ]
    }
   ],
   "source": [
    "#https://stackoverflow.com/questions/41551658/how-to-create-a-frequency-distribution-table-on-given-data-with-python-in-jupyte\n",
    "\n",
    "#Calculate the freq dist and sort by dice number (index)\n",
    "frequency_distribution = pd.Series(dice).value_counts().sort_index().reset_index()\n",
    "\n",
    "#Frequency dist = combien de fois le nombre a été mentionné dans la DF\n",
    "#Dans la 1er DF : les index etaient les dice numbers\n",
    "#Dans la frequency dist on rajoute une colonne pour les dice numbers\n",
    "#sort_index = on trie les valeurs\n",
    "#reset_index = pour avoir le dice number comme colonne et pas comme index\n",
    "\n",
    "frequency_distribution.columns = ['Dice number', 'Frequency']\n",
    "\n",
    "print(frequency_distribution)"
   ]
  },
  {
   "cell_type": "code",
   "execution_count": 67,
   "metadata": {},
   "outputs": [
    {
     "data": {
      "image/png": "[encoded data removed]",
      "text/plain": [
       "<Figure size 640x480 with 1 Axes>"
      ]
     },
     "metadata": {},
     "output_type": "display_data"
    }
   ],
   "source": [
    "# Set custom bar colors\n",
    "bar_colors = ['b', 'g', 'r', 'c', 'm', 'y']\n",
    "\n",
    "# Create the bar plot with step size 1 for the y-axis and custom bar colors\n",
    "plt.bar(frequency_distribution['Dice number'], frequency_distribution['Frequency'], color=bar_colors)\n",
    "\n",
    "# Calculate the median\n",
    "median = np.median(dice)\n",
    "\n",
    "plt.xlabel('Dice number (x)')\n",
    "plt.ylabel('Frequency (y)')\n",
    "plt.title('Frequency Distribution of Dice Rolls')\n",
    "\n",
    "# Set x-axis ticks with a step size of 1\n",
    "plt.xticks(frequency_distribution['Dice number'])\n",
    "\n",
    "# Set y-axis ticks with a step size of 1\n",
    "plt.yticks(range(0, int(max(frequency_distribution['Frequency'])) + 1))\n",
    "\n",
    "#other way to set scale\n",
    "#plt.yticks(range(min(sorted_rolls), max(sorted_rolls) + 1))\n",
    "#plt.xticks(range(min(sorted_rolls), max(sorted_rolls) + 1))\n",
    "\n",
    "# Display the median as text on the plot\n",
    "plt.text(median, 1, f\"Median: {median}\", ha='center', va='bottom', fontsize=12)\n",
    "\n",
    "plt.show()"
   ]
  },
  {
   "cell_type": "markdown",
   "metadata": {},
   "source": [
    "Note :\n",
    "Frequency distribution is useful to reduce the load time when working with big data set.\n",
    "Goal data science = diminuer l'espace des données."
   ]
  },
  {
   "cell_type": "markdown",
   "metadata": {},
   "source": [
    "What is the relation between the frequency distribution plot and the linear plot ? \n",
    "\n",
    "Both represent the dice distribution\n",
    "Both provide info on the shape and tendency of the distribution (We can see that the median is the same on both graphs)\n",
    "Show the same percentiles\n",
    "Possible to see the interval of the data (example here : no frequency for number 1 and 2)\n",
    "\n",
    "In plot above : normal distribution, data points pretty equally spreaded. Median is 3, Mode is 3\n",
    "The shape of the histogram can be described as right-skewed or positively skewed.\n",
    "\n",
    "Note : Frequency distribution graph is \"easier to read\" and should be used for data presentation to the stakeholders."
   ]
  },
  {
   "cell_type": "markdown",
   "metadata": {},
   "source": [
    "Create superposition to see normal distribution"
   ]
  },
  {
   "cell_type": "code",
   "execution_count": 68,
   "metadata": {},
   "outputs": [
    {
     "data": {
      "image/png": "[encoded data removed]",
      "text/plain": [
       "<Figure size 640x480 with 1 Axes>"
      ]
     },
     "metadata": {},
     "output_type": "display_data"
    }
   ],
   "source": [
    "import scipy.stats as stats\n",
    "\n",
    "# Set custom bar colors for the histogram\n",
    "bar_colors = ['b', 'g', 'r', 'c', 'm', 'y']\n",
    "\n",
    "# Create the bar plot with step size 1 for the y-axis and custom bar colors\n",
    "plt.bar(frequency_distribution['Dice number'], frequency_distribution['Frequency'], color=bar_colors, alpha=0.7)\n",
    "\n",
    "# Calculate the median\n",
    "median = np.median(dice)\n",
    "\n",
    "plt.xlabel('Dice number (x)')\n",
    "plt.ylabel('Frequency (y)')\n",
    "plt.title('Frequency Distribution of Dice Rolls')\n",
    "\n",
    "# Set x-axis ticks with a step size of 1\n",
    "plt.xticks(frequency_distribution['Dice number'])\n",
    "\n",
    "# Set y-axis ticks with a step size of 1\n",
    "plt.yticks(range(0, int(max(frequency_distribution['Frequency'])) + 1))\n",
    "\n",
    "# Display the median as text on the plot\n",
    "plt.text(median, 1, f\"Median: {median}\", ha='center', va='bottom', fontsize=12)\n",
    "\n",
    "# Create a normal distribution curve using mean and standard deviation of the data\n",
    "mean = np.mean(dice)\n",
    "std_dev = np.std(dice)\n",
    "x = np.linspace(min(dice), max(dice), 1000)\n",
    "y = stats.norm.pdf(x, mean, std_dev) * len(dice)  # Scale the curve to match the data count\n",
    "\n",
    "# Plot the normal distribution curve\n",
    "plt.plot(x, y, 'r-', linewidth=2, label='Normal Distribution')\n",
    "\n",
    "# Add a legend\n",
    "plt.legend()\n",
    "\n",
    "plt.show()"
   ]
  },
  {
   "cell_type": "markdown",
   "metadata": {},
   "source": [
    "Jesus' observation : \n",
    "\n",
    "For the LINEAR PLOT, we have dice values of the dice in the y axis. \n",
    "For the histogramm (frequency distribution), we have the dice values in the x axis.\n",
    "\n",
    "--\n",
    "\n",
    "The difference in the orientation of the axes between a linear plot (line plot) and a histogram (frequency distribution) arises from their distinct purposes and the nature of the data they are visualizing.\n",
    "\n",
    "Linear Plot (Line Plot):\n",
    "\n",
    "In a linear plot, you typically have data points or values on both the x-axis and y-axis.\n",
    "The x-axis usually represents an independent variable or a continuous range of values.\n",
    "The y-axis represents the dependent variable, which is typically a response or outcome based on the values of the independent variable.\n",
    "Linear plots are used to show how the dependent variable changes as a function of the independent variable. They are suitable for visualizing relationships, trends, or patterns in data.\n",
    "\n",
    "Histogram (Frequency Distribution):\n",
    "\n",
    "In a histogram, the x-axis typically represents different categories or bins into which data is grouped. \n",
    "These bins are used to categorize the data or to define intervals.\n",
    "The y-axis of a histogram represents the frequency or count of data points that fall into each bin.\n",
    "Histograms are used to show the distribution of data, specifically how data points are distributed across different categories or intervals. They help visualize the frequency of occurrence for different values or value ranges."
   ]
  },
  {
   "cell_type": "markdown",
   "metadata": {},
   "source": [
    "## Challenge 2\n",
    "Now, using the dice results obtained in *challenge 1*, your are going to define some functions that will help you calculate the mean of your data in two different ways, the median and the four quartiles. \n",
    "\n",
    "#### 1.- Define a function that computes the mean by summing all the observations and dividing by the total number of observations. You are not allowed to use any methods or functions that directly calculate the mean value. "
   ]
  },
  {
   "cell_type": "code",
   "execution_count": 69,
   "metadata": {},
   "outputs": [
    {
     "name": "stdout",
     "output_type": "stream",
     "text": [
      "3.3\n"
     ]
    }
   ],
   "source": [
    "# your code here\n",
    "def calculate_mean(data):\n",
    "    mean = sum(data)/len(data)\n",
    "    return mean\n",
    "\n",
    "print(calculate_mean(dice))"
   ]
  },
  {
   "cell_type": "code",
   "execution_count": 70,
   "metadata": {},
   "outputs": [
    {
     "name": "stdout",
     "output_type": "stream",
     "text": [
      "3.3\n"
     ]
    }
   ],
   "source": [
    "#Other method - More manual\n",
    "\n",
    "def mean(data):\n",
    "    \n",
    "    total_sum = 0\n",
    "    len_data = 0\n",
    "    \n",
    "    for value in data:\n",
    "        total_sum += value\n",
    "        len_data += 1\n",
    "\n",
    "    mean = total_sum / len_data\n",
    "\n",
    "    return mean\n",
    "\n",
    "print(mean(dice))"
   ]
  },
  {
   "cell_type": "markdown",
   "metadata": {},
   "source": [
    "#### 2.- First, calculate the frequency distribution. Then, calculate the mean using the values of the frequency distribution you've just computed. You are not allowed to use any methods or functions that directly calculate the mean value. "
   ]
  },
  {
   "cell_type": "code",
   "execution_count": 72,
   "metadata": {},
   "outputs": [
    {
     "name": "stdout",
     "output_type": "stream",
     "text": [
      "   Dice number  Frequency\n",
      "0            1          2\n",
      "1            2          1\n",
      "2            3          3\n",
      "3            4          2\n",
      "4            6          2\n",
      "Mean is 3.3\n"
     ]
    }
   ],
   "source": [
    "# your code here\n",
    "frequency_distribution = dice.value_counts().sort_index().reset_index() #chaining method\n",
    "frequency_distribution.columns = ['Dice number', 'Frequency']\n",
    "print(frequency_distribution)\n",
    "\n",
    "#Here we need to adapt the former mean function. \n",
    "#We wanna find the mean of the total numbers for the frequency tab (10)\n",
    "#we do not wanna calculate the frequency values (5)\n",
    "#sum_values = frequency_distribution['Frequency']*frequency_distribution['Dice number']\n",
    "\n",
    "#Calculate mean by calling function\n",
    "\n",
    "def mean_freq_dist(tableau):\n",
    "    \n",
    "    total_sum = 0\n",
    "    len_data = 0 # equals to total count\n",
    "    \n",
    "    for index, row in tableau.iterrows():\n",
    "        value = row['Dice number']\n",
    "        frequency = row['Frequency']\n",
    "        total_sum += value * frequency #total sum = valeur * tableau['Frequency']\n",
    "        len_data += frequency\n",
    "\n",
    "    mean = total_sum / len_data\n",
    "\n",
    "    return mean\n",
    "\n",
    "#mean_frequency_distribution = mean(sum_values) \n",
    "print(f'Mean is {mean_freq_dist(frequency_distribution)}')\n",
    "\n",
    "# Why the result is not the same as when we calculate the mean ?\n",
    "\n",
    "#Ici on veut trouver la moyenne du tableau de la fréquence (on ne veut pas les valeurs de la fréquence)\n",
    "\n",
    "#Not possible to use mean otherwise here"
   ]
  },
  {
   "cell_type": "code",
   "execution_count": 77,
   "metadata": {},
   "outputs": [
    {
     "name": "stdout",
     "output_type": "stream",
     "text": [
      "({1: 2, 2: 1, 3: 3, 4: 2, 6: 2}, 'Mean is: 3.3')\n"
     ]
    }
   ],
   "source": [
    "#Jesus' method\n",
    "\n",
    "def freq(data):\n",
    "    freq_dist = {}\n",
    "    for x in data:\n",
    "        if x in freq_dist:\n",
    "            freq_dist[x] = freq_dist[x] + 1 #+=1\n",
    "        else:\n",
    "            freq_dist[x] = 1\n",
    "#here we go in all value inside data\n",
    "#and say if this value is already in the dictionnary, we put it in +1\n",
    "#if we did not have the value before, we say it's just 1\n",
    "\n",
    "    return freq_dist, f'Mean is: {sum([k*v for k,v in freq_dist.items()])/sum([v for k,v in freq_dist.items()])}'\n",
    "\n",
    "#k = first column, which is unique value\n",
    "#v = frequency column\n",
    "\n",
    "#in the for loop we define the column\n",
    "#in the dictionary.item (we wanna access the items)\n",
    "\n",
    "print(freq(dice)) #we create key value"
   ]
  },
  {
   "cell_type": "markdown",
   "metadata": {},
   "source": [
    "#### 3.- Define a function to calculate the median. You are not allowed to use any methods or functions that directly calculate the median value. \n",
    "**Hint**: you might need to define two computation cases depending on the number of observations used to calculate the median."
   ]
  },
  {
   "cell_type": "code",
   "execution_count": 78,
   "metadata": {},
   "outputs": [
    {
     "name": "stdout",
     "output_type": "stream",
     "text": [
      "[1, 1, 2, 3, 3, 3, 4, 4, 6, 6]\n",
      "10\n",
      "Median is 3.0\n"
     ]
    }
   ],
   "source": [
    "# Method without function\n",
    "\n",
    "# your code here\n",
    "\n",
    "#Convert values into list to calculate the median\n",
    "values_dice = dice.to_list()\n",
    "print(values_dice)\n",
    "\n",
    "print(len(values_dice)) #Median = value in the middle \n",
    "\n",
    "#If even number, we take the two elements in the list divided by 2\n",
    "median = (values_dice[4] + values_dice[5])/2\n",
    "print(f'Median is {median}')"
   ]
  },
  {
   "cell_type": "code",
   "execution_count": 80,
   "metadata": {},
   "outputs": [
    {
     "name": "stdout",
     "output_type": "stream",
     "text": [
      "Median is 3.0\n"
     ]
    }
   ],
   "source": [
    "#With function\n",
    "\n",
    "def median(lst):\n",
    "    sortedlst = sorted(lst)\n",
    "    lstlen = len(lst)\n",
    "    index = (lstlen - 1) // 2\n",
    "   \n",
    "    if (lstlen % 2 !=0):\n",
    "        return sortedlst[index] #if total list values is odd\n",
    "    else:\n",
    "        return (sortedlst[index] + sortedlst[index + 1])/2.0 #if total list values is even\n",
    "\n",
    "\n",
    "print(f'Median is {median(values_dice)}')"
   ]
  },
  {
   "cell_type": "code",
   "execution_count": 140,
   "metadata": {},
   "outputs": [],
   "source": [
    "#Jesus' method\n",
    "\n",
    "def median_2(data):\n",
    "    if len(data)%2 == 0: #means values in DF are even (so no value is gonna be in the middle)\n",
    "        return sum(data[int(len(data)/2)-1:int(len(data)/2)+1])/2\n",
    "    else:\n",
    "        return data[int(len(data)/2)] #if odd, return number in the middle   "
   ]
  },
  {
   "cell_type": "code",
   "execution_count": 141,
   "metadata": {},
   "outputs": [
    {
     "name": "stdout",
     "output_type": "stream",
     "text": [
      "3.0\n"
     ]
    }
   ],
   "source": [
    "print(median_2(dice))"
   ]
  },
  {
   "cell_type": "markdown",
   "metadata": {},
   "source": [
    "#### 4.- Define a function to calculate the four quartiles. You can use the function you defined above to compute the median but you are not allowed to use any methods or functions that directly calculate the quartiles. "
   ]
  },
  {
   "cell_type": "code",
   "execution_count": 83,
   "metadata": {},
   "outputs": [
    {
     "name": "stdout",
     "output_type": "stream",
     "text": [
      "the first quartile is 2.25\n",
      "the second quartile is 3.0\n",
      "the third quartile is 4.0\n",
      "the fourth quartile is 6\n"
     ]
    }
   ],
   "source": [
    "#Comparing with results given by quantile formula\n",
    "\n",
    "q1 = np.quantile(dice, 0.25) \n",
    "print(\"the first quartile is\", q1)\n",
    "q2 = np.quantile(dice, 0.50)\n",
    "print(\"the second quartile is\",q2)\n",
    "q3 = np.quantile(dice, 0.75)\n",
    "print(\"the third quartile is\", q3)\n",
    "q4 = np.quantile(dice, 1)\n",
    "print(\"the fourth quartile is\", q4)"
   ]
  },
  {
   "cell_type": "code",
   "execution_count": 88,
   "metadata": {},
   "outputs": [
    {
     "name": "stdout",
     "output_type": "stream",
     "text": [
      "Q1: 2, Q2: 3.0, Q3: 4, Q4: 6\n"
     ]
    }
   ],
   "source": [
    "def quartiles(lst):\n",
    "    lst.sort()\n",
    "    total_count = len(lst)\n",
    "    \n",
    "    # lower quartile (Q1)\n",
    "    q1_index = total_count // 4\n",
    "    q1_lower_quartile = lst[q1_index] #here we divid by 4 to get the first 25%\n",
    "    \n",
    "    # median (Q2)\n",
    "    q2_index = median(lst)\n",
    "\n",
    "    # upper quartile (Q3)\n",
    "    q3_index = (3 * total_count) // 4 #so we have the 3 quarters out of four (=75%)\n",
    "    q3_upper_quartile = lst[q3_index] \n",
    "    \n",
    "    # max (Q4)\n",
    "    q4 = max(lst)\n",
    "    \n",
    "    return q1_lower_quartile, q2_index, q3_upper_quartile, q4\n",
    "\n",
    "q1_lower_quartile, q2_index, q3_upper_quartile, q4 = quartiles(values_dice)\n",
    "print(f'Q1: { q1_lower_quartile}, Q2: {q2_index}, Q3: {q3_upper_quartile}, Q4: {q4}')\n"
   ]
  },
  {
   "cell_type": "code",
   "execution_count": 93,
   "metadata": {},
   "outputs": [
    {
     "name": "stdout",
     "output_type": "stream",
     "text": [
      "Q1: 2.00, Q2: 3.0, Q3: 4.00, Q4: 6.00\n"
     ]
    }
   ],
   "source": [
    "# Find quartiles \n",
    "\n",
    "def quartiles(lst):\n",
    "    sortedlst = sorted(lst)\n",
    "    lstlen = len(lst)\n",
    "    \n",
    "    middle = len(lst)//2\n",
    "\n",
    "# lower quartile\n",
    "    q1_lower_quartile = median(lst[:middle]) \n",
    "\n",
    "# median\n",
    "    q2 = median(lst)\n",
    "\n",
    "# upper quartile\n",
    "    q3_upper_quartile = median(lst[middle:])    \n",
    "\n",
    "#fourth quartile =max value\n",
    "    q4 = max(lst)\n",
    "\n",
    "    return q1_lower_quartile, q2, q3_upper_quartile, q4\n",
    "    \n",
    "\n",
    "q1_lower_quartile, q2, q3_upper_quartile, q4 = quartiles(values_dice)\n",
    "print(f'Q1: {q1_lower_quartile:.2f}, Q2: {q2}, Q3: {q3_upper_quartile:.2f}, Q4: {q4:.2f}')"
   ]
  },
  {
   "cell_type": "code",
   "execution_count": 145,
   "metadata": {},
   "outputs": [],
   "source": [
    "def quartiles_2(vals):\n",
    "    second_quartile = np.median(vals)\n",
    "    middle = len(vals) // 2\n",
    "    \n",
    "    if len(vals) % 2 == 0:\n",
    "        first_quartile = np.median(vals[:middle])\n",
    "        third_quartile = np.median(vals[middle:])\n",
    "    else:\n",
    "        first_quartile = np.median(vals[:middle])\n",
    "        third_quartile = np.median(vals[middle:])\n",
    "    \n",
    "    return first_quartile, second_quartile, third_quartile"
   ]
  },
  {
   "cell_type": "code",
   "execution_count": 146,
   "metadata": {},
   "outputs": [
    {
     "name": "stdout",
     "output_type": "stream",
     "text": [
      "(2.0, 3.0, 4.0)\n"
     ]
    }
   ],
   "source": [
    "print(quartiles_2(values_dice)) #here won't work with a DF, we need to put it as an array."
   ]
  },
  {
   "cell_type": "markdown",
   "metadata": {},
   "source": [
    "## Challenge 3\n",
    "Read the csv `roll_the_dice_hundred.csv` from the `data` folder.\n",
    "#### 1.- Sort the values and plot them. What do you see?"
   ]
  },
  {
   "cell_type": "code",
   "execution_count": 110,
   "metadata": {},
   "outputs": [
    {
     "data": {
      "text/html": [
       "<div>\n",
       "<style scoped>\n",
       "    .dataframe tbody tr th:only-of-type {\n",
       "        vertical-align: middle;\n",
       "    }\n",
       "\n",
       "    .dataframe tbody tr th {\n",
       "        vertical-align: top;\n",
       "    }\n",
       "\n",
       "    .dataframe thead th {\n",
       "        text-align: right;\n",
       "    }\n",
       "</style>\n",
       "<table border=\"1\" class=\"dataframe\">\n",
       "  <thead>\n",
       "    <tr style=\"text-align: right;\">\n",
       "      <th></th>\n",
       "      <th>Unnamed: 0</th>\n",
       "      <th>roll</th>\n",
       "      <th>value</th>\n",
       "    </tr>\n",
       "  </thead>\n",
       "  <tbody>\n",
       "    <tr>\n",
       "      <th>0</th>\n",
       "      <td>0</td>\n",
       "      <td>0</td>\n",
       "      <td>1</td>\n",
       "    </tr>\n",
       "    <tr>\n",
       "      <th>1</th>\n",
       "      <td>1</td>\n",
       "      <td>1</td>\n",
       "      <td>2</td>\n",
       "    </tr>\n",
       "    <tr>\n",
       "      <th>2</th>\n",
       "      <td>2</td>\n",
       "      <td>2</td>\n",
       "      <td>6</td>\n",
       "    </tr>\n",
       "    <tr>\n",
       "      <th>3</th>\n",
       "      <td>3</td>\n",
       "      <td>3</td>\n",
       "      <td>1</td>\n",
       "    </tr>\n",
       "    <tr>\n",
       "      <th>4</th>\n",
       "      <td>4</td>\n",
       "      <td>4</td>\n",
       "      <td>6</td>\n",
       "    </tr>\n",
       "    <tr>\n",
       "      <th>5</th>\n",
       "      <td>5</td>\n",
       "      <td>5</td>\n",
       "      <td>5</td>\n",
       "    </tr>\n",
       "    <tr>\n",
       "      <th>6</th>\n",
       "      <td>6</td>\n",
       "      <td>6</td>\n",
       "      <td>2</td>\n",
       "    </tr>\n",
       "    <tr>\n",
       "      <th>7</th>\n",
       "      <td>7</td>\n",
       "      <td>7</td>\n",
       "      <td>2</td>\n",
       "    </tr>\n",
       "    <tr>\n",
       "      <th>8</th>\n",
       "      <td>8</td>\n",
       "      <td>8</td>\n",
       "      <td>4</td>\n",
       "    </tr>\n",
       "    <tr>\n",
       "      <th>9</th>\n",
       "      <td>9</td>\n",
       "      <td>9</td>\n",
       "      <td>1</td>\n",
       "    </tr>\n",
       "  </tbody>\n",
       "</table>\n",
       "</div>"
      ],
      "text/plain": [
       "   Unnamed: 0  roll  value\n",
       "0           0     0      1\n",
       "1           1     1      2\n",
       "2           2     2      6\n",
       "3           3     3      1\n",
       "4           4     4      6\n",
       "5           5     5      5\n",
       "6           6     6      2\n",
       "7           7     7      2\n",
       "8           8     8      4\n",
       "9           9     9      1"
      ]
     },
     "execution_count": 110,
     "metadata": {},
     "output_type": "execute_result"
    }
   ],
   "source": [
    "# your code here\n",
    "dice_hundred = pd.read_csv('/Users/amandine/Desktop/Ironhack/03_Week/Descriptive-Stats/data/roll_the_dice_hundred.csv')\n",
    "dice_hundred.head(10)"
   ]
  },
  {
   "cell_type": "code",
   "execution_count": 106,
   "metadata": {},
   "outputs": [
    {
     "data": {
      "image/png": "[encoded data removed]",
      "text/plain": [
       "<Figure size 640x480 with 1 Axes>"
      ]
     },
     "metadata": {},
     "output_type": "display_data"
    }
   ],
   "source": [
    "plt.boxplot(dice_hundred['value'])\n",
    "plt.xlabel('Rolls')\n",
    "plt.ylabel('Value')\n",
    "plt.title('Boxplot of Rolls')\n",
    "\n",
    "plt.show()"
   ]
  },
  {
   "cell_type": "code",
   "execution_count": 128,
   "metadata": {
    "scrolled": true
   },
   "outputs": [
    {
     "data": {
      "image/png": "[encoded data removed]",
      "text/plain": [
       "<Figure size 640x480 with 1 Axes>"
      ]
     },
     "metadata": {},
     "output_type": "display_data"
    }
   ],
   "source": [
    "bin_edges = [i - 0.5 for i in range(1, 8)]\n",
    "\n",
    "color = '#FFBB66'  # Change to the desired color name\n",
    "\n",
    "plt.hist(dice_hundred['value'], bins=bin_edges, rwidth=0.8, color=color) \n",
    "\n",
    "plt.xlabel('Rolls')\n",
    "plt.ylabel('Value')\n",
    "plt.title('Histogram of Rolls')\n",
    "\n",
    "plt.show()"
   ]
  },
  {
   "cell_type": "markdown",
   "metadata": {},
   "source": [
    "It appears that the most common value is 6 with a frequency of 23. Mode = 6\n",
    "\n",
    "Almost Multimodal (having multiple modes) since both 6 and 4 have high frequencies. \n",
    "\n",
    "Almost perfect normal distribution.\n",
    "\n",
    "Histogram is pretty symmetric, the mean is often near the peak or center of the distribution. Mean around 3/4."
   ]
  },
  {
   "cell_type": "markdown",
   "metadata": {},
   "source": [
    "#### 2.- Using the functions you defined in *challenge 2*, calculate the mean value of the hundred dice rolls."
   ]
  },
  {
   "cell_type": "code",
   "execution_count": 139,
   "metadata": {},
   "outputs": [
    {
     "name": "stdout",
     "output_type": "stream",
     "text": [
      "Mean is 3.74\n"
     ]
    }
   ],
   "source": [
    "# your code here\n",
    "\n",
    "#dice_hundred['value'] = pd.to_numeric(dice_hundred['value']) #convert str into numerical values\n",
    "\n",
    "print(\"Mean is\", calculate_mean(dice_hundred['value']))"
   ]
  },
  {
   "cell_type": "code",
   "execution_count": 138,
   "metadata": {},
   "outputs": [
    {
     "name": "stdout",
     "output_type": "stream",
     "text": [
      "3.74\n"
     ]
    }
   ],
   "source": [
    "#Check if value with np.mean is the same :\n",
    "\n",
    "print(np.mean(dice_hundred['value']))"
   ]
  },
  {
   "cell_type": "code",
   "execution_count": 143,
   "metadata": {},
   "outputs": [
    {
     "name": "stdout",
     "output_type": "stream",
     "text": [
      "Median is 2.5\n"
     ]
    }
   ],
   "source": [
    "print('Median is', median_2(dice_hundred['value']))"
   ]
  },
  {
   "cell_type": "code",
   "execution_count": 69,
   "metadata": {},
   "outputs": [
    {
     "data": {
      "text/html": [
       "<div>\n",
       "<style scoped>\n",
       "    .dataframe tbody tr th:only-of-type {\n",
       "        vertical-align: middle;\n",
       "    }\n",
       "\n",
       "    .dataframe tbody tr th {\n",
       "        vertical-align: top;\n",
       "    }\n",
       "\n",
       "    .dataframe thead th {\n",
       "        text-align: right;\n",
       "    }\n",
       "</style>\n",
       "<table border=\"1\" class=\"dataframe\">\n",
       "  <thead>\n",
       "    <tr style=\"text-align: right;\">\n",
       "      <th></th>\n",
       "      <th>Unnamed: 0</th>\n",
       "      <th>roll</th>\n",
       "      <th>value</th>\n",
       "    </tr>\n",
       "  </thead>\n",
       "  <tbody>\n",
       "    <tr>\n",
       "      <th>count</th>\n",
       "      <td>100.000000</td>\n",
       "      <td>100.000000</td>\n",
       "      <td>100.000000</td>\n",
       "    </tr>\n",
       "    <tr>\n",
       "      <th>mean</th>\n",
       "      <td>49.500000</td>\n",
       "      <td>49.500000</td>\n",
       "      <td>3.740000</td>\n",
       "    </tr>\n",
       "    <tr>\n",
       "      <th>std</th>\n",
       "      <td>29.011492</td>\n",
       "      <td>29.011492</td>\n",
       "      <td>1.703354</td>\n",
       "    </tr>\n",
       "    <tr>\n",
       "      <th>min</th>\n",
       "      <td>0.000000</td>\n",
       "      <td>0.000000</td>\n",
       "      <td>1.000000</td>\n",
       "    </tr>\n",
       "    <tr>\n",
       "      <th>25%</th>\n",
       "      <td>24.750000</td>\n",
       "      <td>24.750000</td>\n",
       "      <td>2.000000</td>\n",
       "    </tr>\n",
       "    <tr>\n",
       "      <th>50%</th>\n",
       "      <td>49.500000</td>\n",
       "      <td>49.500000</td>\n",
       "      <td>4.000000</td>\n",
       "    </tr>\n",
       "    <tr>\n",
       "      <th>75%</th>\n",
       "      <td>74.250000</td>\n",
       "      <td>74.250000</td>\n",
       "      <td>5.000000</td>\n",
       "    </tr>\n",
       "    <tr>\n",
       "      <th>max</th>\n",
       "      <td>99.000000</td>\n",
       "      <td>99.000000</td>\n",
       "      <td>6.000000</td>\n",
       "    </tr>\n",
       "  </tbody>\n",
       "</table>\n",
       "</div>"
      ],
      "text/plain": [
       "       Unnamed: 0        roll       value\n",
       "count  100.000000  100.000000  100.000000\n",
       "mean    49.500000   49.500000    3.740000\n",
       "std     29.011492   29.011492    1.703354\n",
       "min      0.000000    0.000000    1.000000\n",
       "25%     24.750000   24.750000    2.000000\n",
       "50%     49.500000   49.500000    4.000000\n",
       "75%     74.250000   74.250000    5.000000\n",
       "max     99.000000   99.000000    6.000000"
      ]
     },
     "execution_count": 69,
     "metadata": {},
     "output_type": "execute_result"
    }
   ],
   "source": [
    "roll_dice_df.describe()"
   ]
  },
  {
   "cell_type": "markdown",
   "metadata": {},
   "source": [
    "#### 3.- Now, calculate the frequency distribution.\n"
   ]
  },
  {
   "cell_type": "code",
   "execution_count": 151,
   "metadata": {},
   "outputs": [
    {
     "data": {
      "text/html": [
       "<div>\n",
       "<style scoped>\n",
       "    .dataframe tbody tr th:only-of-type {\n",
       "        vertical-align: middle;\n",
       "    }\n",
       "\n",
       "    .dataframe tbody tr th {\n",
       "        vertical-align: top;\n",
       "    }\n",
       "\n",
       "    .dataframe thead th {\n",
       "        text-align: right;\n",
       "    }\n",
       "</style>\n",
       "<table border=\"1\" class=\"dataframe\">\n",
       "  <thead>\n",
       "    <tr style=\"text-align: right;\">\n",
       "      <th></th>\n",
       "      <th>Value</th>\n",
       "      <th>Frequency</th>\n",
       "    </tr>\n",
       "  </thead>\n",
       "  <tbody>\n",
       "    <tr>\n",
       "      <th>4</th>\n",
       "      <td>1</td>\n",
       "      <td>12</td>\n",
       "    </tr>\n",
       "    <tr>\n",
       "      <th>5</th>\n",
       "      <td>5</td>\n",
       "      <td>12</td>\n",
       "    </tr>\n",
       "    <tr>\n",
       "      <th>3</th>\n",
       "      <td>3</td>\n",
       "      <td>14</td>\n",
       "    </tr>\n",
       "    <tr>\n",
       "      <th>2</th>\n",
       "      <td>2</td>\n",
       "      <td>17</td>\n",
       "    </tr>\n",
       "    <tr>\n",
       "      <th>1</th>\n",
       "      <td>4</td>\n",
       "      <td>22</td>\n",
       "    </tr>\n",
       "    <tr>\n",
       "      <th>0</th>\n",
       "      <td>6</td>\n",
       "      <td>23</td>\n",
       "    </tr>\n",
       "  </tbody>\n",
       "</table>\n",
       "</div>"
      ],
      "text/plain": [
       "   Value  Frequency\n",
       "4      1         12\n",
       "5      5         12\n",
       "3      3         14\n",
       "2      2         17\n",
       "1      4         22\n",
       "0      6         23"
      ]
     },
     "execution_count": 151,
     "metadata": {},
     "output_type": "execute_result"
    }
   ],
   "source": [
    "#Calculate the freq dist and sort by dice number (index)\n",
    "\n",
    "frequency_distribution = dice_hundred['value'].value_counts().reset_index().sort_values(by='value')\n",
    "frequency_distribution.columns = ['Value', 'Frequency']\n",
    "\n",
    "frequency_distribution"
   ]
  },
  {
   "cell_type": "code",
   "execution_count": 158,
   "metadata": {},
   "outputs": [
    {
     "data": {
      "image/png": "[encoded data removed]",
      "text/plain": [
       "<Figure size 640x480 with 1 Axes>"
      ]
     },
     "metadata": {},
     "output_type": "display_data"
    }
   ],
   "source": [
    "# Set custom bar colors\n",
    "bar_color = 'plum'\n",
    "\n",
    "# Create the bar plot with step size 1 for the y-axis and custom bar colors\n",
    "plt.bar(frequency_distribution['Value'], frequency_distribution['Frequency'], color=bar_color)\n",
    "\n",
    "# Calculate the median\n",
    "median = np.median(dice)\n",
    "\n",
    "plt.xlabel('Value - Dice number (x)')\n",
    "plt.ylabel('Frequency (y)')\n",
    "plt.title('Frequency Distribution of Dice Rolls')\n",
    "\n",
    "# Set x-axis ticks with a step size of 1\n",
    "plt.xticks(frequency_distribution['Value'])\n",
    "\n",
    "# Set y-axis ticks with a step size of 1\n",
    "plt.yticks(range(0, int(max(frequency_distribution['Frequency'])) + 1))\n",
    "\n",
    "#other way to set scale\n",
    "#plt.yticks(range(min(sorted_rolls), max(sorted_rolls) + 1))\n",
    "#plt.xticks(range(min(sorted_rolls), max(sorted_rolls) + 1))\n",
    "\n",
    "# Display the median as text on the plot\n",
    "plt.text(median, 1, f\"Median: {median}\", ha='center', va='bottom', fontsize=12)\n",
    "\n",
    "plt.show()"
   ]
  },
  {
   "cell_type": "code",
   "execution_count": 173,
   "metadata": {},
   "outputs": [
    {
     "data": {
      "image/png": "[encoded data removed]",
      "text/plain": [
       "<Figure size 640x480 with 1 Axes>"
      ]
     },
     "metadata": {},
     "output_type": "display_data"
    }
   ],
   "source": [
    "#Jesus' method\n",
    "\n",
    "bin_edges = [i - 0.5 for i in range(1, 8)]\n",
    "\n",
    "plt.hist(dice_hundred['value'], bins=bin_edges, rwidth=0.8, color='powderblue')\n",
    "\n",
    "# Calculate the mean\n",
    "mean_value = dice_hundred['value'].mean()\n",
    "\n",
    "# Display the mean as a vertical line on the histogram\n",
    "plt.axvline(mean_value, color='cadetblue', linestyle='dashed', linewidth=2, label=f'Mean: {mean_value}')\n",
    "\n",
    "# Set labels and title\n",
    "plt.xlabel('Value')\n",
    "plt.ylabel('Frequency')\n",
    "plt.title('Histogram of Value')\n",
    "\n",
    "# Add a legend\n",
    "plt.legend()\n",
    "\n",
    "# Show the plot\n",
    "plt.show()"
   ]
  },
  {
   "cell_type": "code",
   "execution_count": null,
   "metadata": {},
   "outputs": [],
   "source": [
    "\"\"\"\n",
    "your comments here\n",
    "\"\"\""
   ]
  },
  {
   "cell_type": "markdown",
   "metadata": {},
   "source": [
    "#### 5.- Read the `roll_the_dice_thousand.csv` from the `data` folder. Plot the frequency distribution as you did before. Has anything changed? Why do you think it changed?"
   ]
  },
  {
   "cell_type": "code",
   "execution_count": 174,
   "metadata": {},
   "outputs": [
    {
     "data": {
      "text/html": [
       "<div>\n",
       "<style scoped>\n",
       "    .dataframe tbody tr th:only-of-type {\n",
       "        vertical-align: middle;\n",
       "    }\n",
       "\n",
       "    .dataframe tbody tr th {\n",
       "        vertical-align: top;\n",
       "    }\n",
       "\n",
       "    .dataframe thead th {\n",
       "        text-align: right;\n",
       "    }\n",
       "</style>\n",
       "<table border=\"1\" class=\"dataframe\">\n",
       "  <thead>\n",
       "    <tr style=\"text-align: right;\">\n",
       "      <th></th>\n",
       "      <th>Unnamed: 0</th>\n",
       "      <th>roll</th>\n",
       "      <th>value</th>\n",
       "    </tr>\n",
       "  </thead>\n",
       "  <tbody>\n",
       "    <tr>\n",
       "      <th>0</th>\n",
       "      <td>0</td>\n",
       "      <td>0</td>\n",
       "      <td>5</td>\n",
       "    </tr>\n",
       "    <tr>\n",
       "      <th>1</th>\n",
       "      <td>1</td>\n",
       "      <td>1</td>\n",
       "      <td>6</td>\n",
       "    </tr>\n",
       "    <tr>\n",
       "      <th>2</th>\n",
       "      <td>2</td>\n",
       "      <td>2</td>\n",
       "      <td>1</td>\n",
       "    </tr>\n",
       "  </tbody>\n",
       "</table>\n",
       "</div>"
      ],
      "text/plain": [
       "   Unnamed: 0  roll  value\n",
       "0           0     0      5\n",
       "1           1     1      6\n",
       "2           2     2      1"
      ]
     },
     "execution_count": 174,
     "metadata": {},
     "output_type": "execute_result"
    }
   ],
   "source": [
    "# your code here\n",
    "dice_thousand = pd.read_csv('/Users/amandine/Desktop/Ironhack/03_Week/Descriptive-Stats/data/roll_the_dice_thousand.csv')\n",
    "dice_thousand.head(3)"
   ]
  },
  {
   "cell_type": "code",
   "execution_count": 175,
   "metadata": {},
   "outputs": [
    {
     "data": {
      "text/html": [
       "<div>\n",
       "<style scoped>\n",
       "    .dataframe tbody tr th:only-of-type {\n",
       "        vertical-align: middle;\n",
       "    }\n",
       "\n",
       "    .dataframe tbody tr th {\n",
       "        vertical-align: top;\n",
       "    }\n",
       "\n",
       "    .dataframe thead th {\n",
       "        text-align: right;\n",
       "    }\n",
       "</style>\n",
       "<table border=\"1\" class=\"dataframe\">\n",
       "  <thead>\n",
       "    <tr style=\"text-align: right;\">\n",
       "      <th></th>\n",
       "      <th>Dice Number</th>\n",
       "      <th>Frequency</th>\n",
       "    </tr>\n",
       "  </thead>\n",
       "  <tbody>\n",
       "    <tr>\n",
       "      <th>0</th>\n",
       "      <td>1</td>\n",
       "      <td>175</td>\n",
       "    </tr>\n",
       "    <tr>\n",
       "      <th>1</th>\n",
       "      <td>2</td>\n",
       "      <td>167</td>\n",
       "    </tr>\n",
       "    <tr>\n",
       "      <th>2</th>\n",
       "      <td>3</td>\n",
       "      <td>175</td>\n",
       "    </tr>\n",
       "    <tr>\n",
       "      <th>3</th>\n",
       "      <td>4</td>\n",
       "      <td>168</td>\n",
       "    </tr>\n",
       "    <tr>\n",
       "      <th>4</th>\n",
       "      <td>5</td>\n",
       "      <td>149</td>\n",
       "    </tr>\n",
       "    <tr>\n",
       "      <th>5</th>\n",
       "      <td>6</td>\n",
       "      <td>166</td>\n",
       "    </tr>\n",
       "  </tbody>\n",
       "</table>\n",
       "</div>"
      ],
      "text/plain": [
       "   Dice Number  Frequency\n",
       "0            1        175\n",
       "1            2        167\n",
       "2            3        175\n",
       "3            4        168\n",
       "4            5        149\n",
       "5            6        166"
      ]
     },
     "execution_count": 175,
     "metadata": {},
     "output_type": "execute_result"
    }
   ],
   "source": [
    "frequency_distribution = dice_thousand['value'].value_counts().sort_index().reset_index()\n",
    "\n",
    "frequency_distribution.columns = ['Dice Number', 'Frequency']\n",
    "\n",
    "frequency_distribution"
   ]
  },
  {
   "cell_type": "code",
   "execution_count": 176,
   "metadata": {},
   "outputs": [
    {
     "data": {
      "image/png": "[encoded data removed]",
      "text/plain": [
       "<Figure size 640x480 with 1 Axes>"
      ]
     },
     "metadata": {},
     "output_type": "display_data"
    }
   ],
   "source": [
    "#Jesus' method\n",
    "\n",
    "bin_edges = [i - 0.5 for i in range(1, 8)]\n",
    "\n",
    "plt.hist(dice_thousand['value'], bins=bin_edges, rwidth=0.8, color='powderblue')\n",
    "\n",
    "# Calculate the mean\n",
    "mean_value = dice_thousand['value'].mean()\n",
    "\n",
    "# Display the mean as a vertical line on the histogram\n",
    "plt.axvline(mean_value, color='cadetblue', linestyle='dashed', linewidth=2, label=f'Mean: {mean_value}')\n",
    "\n",
    "# Set labels and title\n",
    "plt.xlabel('Value')\n",
    "plt.ylabel('Frequency')\n",
    "plt.title('Histogram of Value')\n",
    "\n",
    "# Add a legend\n",
    "plt.legend()\n",
    "\n",
    "# Show the plot\n",
    "plt.show()"
   ]
  },
  {
   "cell_type": "markdown",
   "metadata": {},
   "source": [
    "Here we see more uniform chart and mean line closer to the 3.\n",
    "Almost all the values will have the same count (more flat/uniform distribution).\n",
    "The more values we have, the closer we gonna be to the mean."
   ]
  },
  {
   "cell_type": "markdown",
   "metadata": {},
   "source": [
    "## Challenge 4\n",
    "In the `data` folder of this repository you will find three different files with the prefix `ages_population`. These files contain information about a poll answered by a thousand people regarding their age. Each file corresponds to the poll answers in different neighbourhoods of Barcelona.\n",
    "\n",
    "#### 1.- Read the file `ages_population.csv`. Calculate the frequency distribution and plot it as we did during the lesson. Try to guess the range in which the mean and the standard deviation will be by looking at the plot. "
   ]
  },
  {
   "cell_type": "code",
   "execution_count": 235,
   "metadata": {},
   "outputs": [
    {
     "data": {
      "text/html": [
       "<div>\n",
       "<style scoped>\n",
       "    .dataframe tbody tr th:only-of-type {\n",
       "        vertical-align: middle;\n",
       "    }\n",
       "\n",
       "    .dataframe tbody tr th {\n",
       "        vertical-align: top;\n",
       "    }\n",
       "\n",
       "    .dataframe thead th {\n",
       "        text-align: right;\n",
       "    }\n",
       "</style>\n",
       "<table border=\"1\" class=\"dataframe\">\n",
       "  <thead>\n",
       "    <tr style=\"text-align: right;\">\n",
       "      <th></th>\n",
       "      <th>observation</th>\n",
       "    </tr>\n",
       "  </thead>\n",
       "  <tbody>\n",
       "    <tr>\n",
       "      <th>0</th>\n",
       "      <td>68.0</td>\n",
       "    </tr>\n",
       "    <tr>\n",
       "      <th>1</th>\n",
       "      <td>12.0</td>\n",
       "    </tr>\n",
       "    <tr>\n",
       "      <th>2</th>\n",
       "      <td>45.0</td>\n",
       "    </tr>\n",
       "    <tr>\n",
       "      <th>3</th>\n",
       "      <td>38.0</td>\n",
       "    </tr>\n",
       "    <tr>\n",
       "      <th>4</th>\n",
       "      <td>49.0</td>\n",
       "    </tr>\n",
       "    <tr>\n",
       "      <th>5</th>\n",
       "      <td>27.0</td>\n",
       "    </tr>\n",
       "    <tr>\n",
       "      <th>6</th>\n",
       "      <td>39.0</td>\n",
       "    </tr>\n",
       "    <tr>\n",
       "      <th>7</th>\n",
       "      <td>12.0</td>\n",
       "    </tr>\n",
       "    <tr>\n",
       "      <th>8</th>\n",
       "      <td>42.0</td>\n",
       "    </tr>\n",
       "    <tr>\n",
       "      <th>9</th>\n",
       "      <td>33.0</td>\n",
       "    </tr>\n",
       "  </tbody>\n",
       "</table>\n",
       "</div>"
      ],
      "text/plain": [
       "   observation\n",
       "0         68.0\n",
       "1         12.0\n",
       "2         45.0\n",
       "3         38.0\n",
       "4         49.0\n",
       "5         27.0\n",
       "6         39.0\n",
       "7         12.0\n",
       "8         42.0\n",
       "9         33.0"
      ]
     },
     "execution_count": 235,
     "metadata": {},
     "output_type": "execute_result"
    }
   ],
   "source": [
    "# your code here\n",
    "ages_population_df = pd.read_csv('/Users/amandine/Desktop/Ironhack/03_Week/Descriptive-Stats/data/ages_population.csv')\n",
    "ages_population_df.head(10)"
   ]
  },
  {
   "cell_type": "code",
   "execution_count": 178,
   "metadata": {},
   "outputs": [
    {
     "data": {
      "text/plain": [
       "array([68., 12., 45., 38., 49., 27., 39., 42., 33., 30., 25., 44., 53.,\n",
       "       46., 50., 22.,  6., 29., 35., 28., 26., 60., 41., 52., 32., 23.,\n",
       "       15., 40., 63., 31., 34., 61., 64., 37., 56., 14., 13., 51., 36.,\n",
       "       18., 48., 58., 20., 54., 19., 62., 55., 21., 43., 17.,  7., 47.,\n",
       "        1., 16., 24., 59., 57.,  8., 67.,  2., 66.,  4., 73., 82., 70.,\n",
       "        5., 71.,  9., 69., 11., 10., 65.])"
      ]
     },
     "execution_count": 178,
     "metadata": {},
     "output_type": "execute_result"
    }
   ],
   "source": [
    "ages_population_df['observation'].unique()"
   ]
  },
  {
   "cell_type": "code",
   "execution_count": 180,
   "metadata": {},
   "outputs": [
    {
     "data": {
      "text/html": [
       "<div>\n",
       "<style scoped>\n",
       "    .dataframe tbody tr th:only-of-type {\n",
       "        vertical-align: middle;\n",
       "    }\n",
       "\n",
       "    .dataframe tbody tr th {\n",
       "        vertical-align: top;\n",
       "    }\n",
       "\n",
       "    .dataframe thead th {\n",
       "        text-align: right;\n",
       "    }\n",
       "</style>\n",
       "<table border=\"1\" class=\"dataframe\">\n",
       "  <thead>\n",
       "    <tr style=\"text-align: right;\">\n",
       "      <th></th>\n",
       "      <th>observation</th>\n",
       "    </tr>\n",
       "  </thead>\n",
       "  <tbody>\n",
       "    <tr>\n",
       "      <th>count</th>\n",
       "      <td>1000.0000</td>\n",
       "    </tr>\n",
       "    <tr>\n",
       "      <th>mean</th>\n",
       "      <td>36.5600</td>\n",
       "    </tr>\n",
       "    <tr>\n",
       "      <th>std</th>\n",
       "      <td>12.8165</td>\n",
       "    </tr>\n",
       "    <tr>\n",
       "      <th>min</th>\n",
       "      <td>1.0000</td>\n",
       "    </tr>\n",
       "    <tr>\n",
       "      <th>25%</th>\n",
       "      <td>28.0000</td>\n",
       "    </tr>\n",
       "    <tr>\n",
       "      <th>50%</th>\n",
       "      <td>37.0000</td>\n",
       "    </tr>\n",
       "    <tr>\n",
       "      <th>75%</th>\n",
       "      <td>45.0000</td>\n",
       "    </tr>\n",
       "    <tr>\n",
       "      <th>max</th>\n",
       "      <td>82.0000</td>\n",
       "    </tr>\n",
       "  </tbody>\n",
       "</table>\n",
       "</div>"
      ],
      "text/plain": [
       "       observation\n",
       "count    1000.0000\n",
       "mean       36.5600\n",
       "std        12.8165\n",
       "min         1.0000\n",
       "25%        28.0000\n",
       "50%        37.0000\n",
       "75%        45.0000\n",
       "max        82.0000"
      ]
     },
     "execution_count": 180,
     "metadata": {},
     "output_type": "execute_result"
    }
   ],
   "source": [
    "ages_population_df.describe()"
   ]
  },
  {
   "cell_type": "code",
   "execution_count": 179,
   "metadata": {},
   "outputs": [
    {
     "data": {
      "text/html": [
       "<div>\n",
       "<style scoped>\n",
       "    .dataframe tbody tr th:only-of-type {\n",
       "        vertical-align: middle;\n",
       "    }\n",
       "\n",
       "    .dataframe tbody tr th {\n",
       "        vertical-align: top;\n",
       "    }\n",
       "\n",
       "    .dataframe thead th {\n",
       "        text-align: right;\n",
       "    }\n",
       "</style>\n",
       "<table border=\"1\" class=\"dataframe\">\n",
       "  <thead>\n",
       "    <tr style=\"text-align: right;\">\n",
       "      <th></th>\n",
       "      <th>Age</th>\n",
       "      <th>Frequency</th>\n",
       "    </tr>\n",
       "  </thead>\n",
       "  <tbody>\n",
       "    <tr>\n",
       "      <th>0</th>\n",
       "      <td>1.0</td>\n",
       "      <td>2</td>\n",
       "    </tr>\n",
       "    <tr>\n",
       "      <th>1</th>\n",
       "      <td>2.0</td>\n",
       "      <td>2</td>\n",
       "    </tr>\n",
       "    <tr>\n",
       "      <th>2</th>\n",
       "      <td>4.0</td>\n",
       "      <td>1</td>\n",
       "    </tr>\n",
       "    <tr>\n",
       "      <th>3</th>\n",
       "      <td>5.0</td>\n",
       "      <td>2</td>\n",
       "    </tr>\n",
       "    <tr>\n",
       "      <th>4</th>\n",
       "      <td>6.0</td>\n",
       "      <td>2</td>\n",
       "    </tr>\n",
       "    <tr>\n",
       "      <th>...</th>\n",
       "      <td>...</td>\n",
       "      <td>...</td>\n",
       "    </tr>\n",
       "    <tr>\n",
       "      <th>67</th>\n",
       "      <td>69.0</td>\n",
       "      <td>1</td>\n",
       "    </tr>\n",
       "    <tr>\n",
       "      <th>68</th>\n",
       "      <td>70.0</td>\n",
       "      <td>1</td>\n",
       "    </tr>\n",
       "    <tr>\n",
       "      <th>69</th>\n",
       "      <td>71.0</td>\n",
       "      <td>1</td>\n",
       "    </tr>\n",
       "    <tr>\n",
       "      <th>70</th>\n",
       "      <td>73.0</td>\n",
       "      <td>1</td>\n",
       "    </tr>\n",
       "    <tr>\n",
       "      <th>71</th>\n",
       "      <td>82.0</td>\n",
       "      <td>1</td>\n",
       "    </tr>\n",
       "  </tbody>\n",
       "</table>\n",
       "<p>72 rows × 2 columns</p>\n",
       "</div>"
      ],
      "text/plain": [
       "     Age  Frequency\n",
       "0    1.0          2\n",
       "1    2.0          2\n",
       "2    4.0          1\n",
       "3    5.0          2\n",
       "4    6.0          2\n",
       "..   ...        ...\n",
       "67  69.0          1\n",
       "68  70.0          1\n",
       "69  71.0          1\n",
       "70  73.0          1\n",
       "71  82.0          1\n",
       "\n",
       "[72 rows x 2 columns]"
      ]
     },
     "execution_count": 179,
     "metadata": {},
     "output_type": "execute_result"
    }
   ],
   "source": [
    "frequency_distribution = ages_population_df['observation'].value_counts().sort_index().reset_index()\n",
    "\n",
    "frequency_distribution.columns = ['Age', 'Frequency']\n",
    "\n",
    "frequency_distribution"
   ]
  },
  {
   "cell_type": "code",
   "execution_count": 192,
   "metadata": {},
   "outputs": [
    {
     "data": {
      "image/png": "[encoded data removed]",
      "text/plain": [
       "<Figure size 640x480 with 1 Axes>"
      ]
     },
     "metadata": {},
     "output_type": "display_data"
    }
   ],
   "source": [
    "bin_edges = [i - 0.5 for i in range(1, 90)]\n",
    "\n",
    "plt.hist(ages_population_df, bins=bin_edges, rwidth=0.8, color='powderblue')\n",
    "\n",
    "# Calculate the mean\n",
    "mean_value = ages_population_df['observation'].mean()\n",
    "\n",
    "# Display the mean as a vertical line on the histogram\n",
    "plt.axvline(mean_value, color='cadetblue', linestyle='dashed', linewidth=2, label=f'Mean: {mean_value}')\n",
    "\n",
    "plt.xlabel('Age')\n",
    "plt.ylabel('Frequency')\n",
    "plt.title('Histogram of age')\n",
    "\n",
    "plt.legend()\n",
    "\n",
    "plt.show()"
   ]
  },
  {
   "cell_type": "code",
   "execution_count": 193,
   "metadata": {},
   "outputs": [
    {
     "name": "stdout",
     "output_type": "stream",
     "text": [
      "Maximum Frequency: 45\n",
      "Age Associated with Maximum Frequency: 39.0\n"
     ]
    }
   ],
   "source": [
    "max_frequency = frequency_distribution['Frequency'].max()\n",
    "index_of_max_frequency = frequency_distribution['Frequency'].idxmax()\n",
    "age_associated_with_max_frequency = frequency_distribution.loc[index_of_max_frequency, 'Age']\n",
    "\n",
    "print(\"Maximum Frequency:\", max_frequency)\n",
    "print(\"Age Associated with Maximum Frequency:\", age_associated_with_max_frequency)\n"
   ]
  },
  {
   "cell_type": "markdown",
   "metadata": {},
   "source": [
    "Mean is generally around the most frequent values, so ages around 40/45.\n",
    "\n",
    "Data are pretty sparse, so we can expect the standard deviation to be pretty high, around 10/15."
   ]
  },
  {
   "cell_type": "markdown",
   "metadata": {},
   "source": [
    "#### 2.- Calculate the exact mean and standard deviation and compare them with your guesses. Do they fall inside the ranges you guessed?"
   ]
  },
  {
   "cell_type": "code",
   "execution_count": 198,
   "metadata": {},
   "outputs": [
    {
     "name": "stdout",
     "output_type": "stream",
     "text": [
      "The mean age is 36.56\n",
      "The standard deviation for age is 12.82\n"
     ]
    }
   ],
   "source": [
    "mean_age = ages_population_df['observation'].mean()\n",
    "print(f\"The mean age is {mean_age:.2f}\")\n",
    "\n",
    "\n",
    "std_age = ages_population_df['observation'].std()\n",
    "print(f\"The standard deviation for age is {std_age:.2f}\")"
   ]
  },
  {
   "cell_type": "markdown",
   "metadata": {},
   "source": [
    "#### 3.- Now read the file `ages_population2.csv` . Calculate the frequency distribution and plot it."
   ]
  },
  {
   "cell_type": "code",
   "execution_count": 199,
   "metadata": {},
   "outputs": [
    {
     "data": {
      "text/html": [
       "<div>\n",
       "<style scoped>\n",
       "    .dataframe tbody tr th:only-of-type {\n",
       "        vertical-align: middle;\n",
       "    }\n",
       "\n",
       "    .dataframe tbody tr th {\n",
       "        vertical-align: top;\n",
       "    }\n",
       "\n",
       "    .dataframe thead th {\n",
       "        text-align: right;\n",
       "    }\n",
       "</style>\n",
       "<table border=\"1\" class=\"dataframe\">\n",
       "  <thead>\n",
       "    <tr style=\"text-align: right;\">\n",
       "      <th></th>\n",
       "      <th>observation</th>\n",
       "    </tr>\n",
       "  </thead>\n",
       "  <tbody>\n",
       "    <tr>\n",
       "      <th>0</th>\n",
       "      <td>25.0</td>\n",
       "    </tr>\n",
       "    <tr>\n",
       "      <th>1</th>\n",
       "      <td>31.0</td>\n",
       "    </tr>\n",
       "    <tr>\n",
       "      <th>2</th>\n",
       "      <td>29.0</td>\n",
       "    </tr>\n",
       "    <tr>\n",
       "      <th>3</th>\n",
       "      <td>31.0</td>\n",
       "    </tr>\n",
       "    <tr>\n",
       "      <th>4</th>\n",
       "      <td>29.0</td>\n",
       "    </tr>\n",
       "    <tr>\n",
       "      <th>5</th>\n",
       "      <td>29.0</td>\n",
       "    </tr>\n",
       "    <tr>\n",
       "      <th>6</th>\n",
       "      <td>28.0</td>\n",
       "    </tr>\n",
       "    <tr>\n",
       "      <th>7</th>\n",
       "      <td>30.0</td>\n",
       "    </tr>\n",
       "    <tr>\n",
       "      <th>8</th>\n",
       "      <td>24.0</td>\n",
       "    </tr>\n",
       "    <tr>\n",
       "      <th>9</th>\n",
       "      <td>26.0</td>\n",
       "    </tr>\n",
       "  </tbody>\n",
       "</table>\n",
       "</div>"
      ],
      "text/plain": [
       "   observation\n",
       "0         25.0\n",
       "1         31.0\n",
       "2         29.0\n",
       "3         31.0\n",
       "4         29.0\n",
       "5         29.0\n",
       "6         28.0\n",
       "7         30.0\n",
       "8         24.0\n",
       "9         26.0"
      ]
     },
     "execution_count": 199,
     "metadata": {},
     "output_type": "execute_result"
    }
   ],
   "source": [
    "# your code here\n",
    "ages_population2_df = pd.read_csv('/Users/amandine/Desktop/Ironhack/03_Week/Descriptive-Stats/data/ages_population2.csv')\n",
    "ages_population2_df.head(10)"
   ]
  },
  {
   "cell_type": "code",
   "execution_count": 201,
   "metadata": {},
   "outputs": [
    {
     "data": {
      "text/html": [
       "<div>\n",
       "<style scoped>\n",
       "    .dataframe tbody tr th:only-of-type {\n",
       "        vertical-align: middle;\n",
       "    }\n",
       "\n",
       "    .dataframe tbody tr th {\n",
       "        vertical-align: top;\n",
       "    }\n",
       "\n",
       "    .dataframe thead th {\n",
       "        text-align: right;\n",
       "    }\n",
       "</style>\n",
       "<table border=\"1\" class=\"dataframe\">\n",
       "  <thead>\n",
       "    <tr style=\"text-align: right;\">\n",
       "      <th></th>\n",
       "      <th>observation</th>\n",
       "    </tr>\n",
       "  </thead>\n",
       "  <tbody>\n",
       "    <tr>\n",
       "      <th>count</th>\n",
       "      <td>1000.000000</td>\n",
       "    </tr>\n",
       "    <tr>\n",
       "      <th>mean</th>\n",
       "      <td>27.155000</td>\n",
       "    </tr>\n",
       "    <tr>\n",
       "      <th>std</th>\n",
       "      <td>2.969814</td>\n",
       "    </tr>\n",
       "    <tr>\n",
       "      <th>min</th>\n",
       "      <td>19.000000</td>\n",
       "    </tr>\n",
       "    <tr>\n",
       "      <th>25%</th>\n",
       "      <td>25.000000</td>\n",
       "    </tr>\n",
       "    <tr>\n",
       "      <th>50%</th>\n",
       "      <td>27.000000</td>\n",
       "    </tr>\n",
       "    <tr>\n",
       "      <th>75%</th>\n",
       "      <td>29.000000</td>\n",
       "    </tr>\n",
       "    <tr>\n",
       "      <th>max</th>\n",
       "      <td>36.000000</td>\n",
       "    </tr>\n",
       "  </tbody>\n",
       "</table>\n",
       "</div>"
      ],
      "text/plain": [
       "       observation\n",
       "count  1000.000000\n",
       "mean     27.155000\n",
       "std       2.969814\n",
       "min      19.000000\n",
       "25%      25.000000\n",
       "50%      27.000000\n",
       "75%      29.000000\n",
       "max      36.000000"
      ]
     },
     "execution_count": 201,
     "metadata": {},
     "output_type": "execute_result"
    }
   ],
   "source": [
    "ages_population2_df.describe()"
   ]
  },
  {
   "cell_type": "code",
   "execution_count": 200,
   "metadata": {},
   "outputs": [
    {
     "data": {
      "text/html": [
       "<div>\n",
       "<style scoped>\n",
       "    .dataframe tbody tr th:only-of-type {\n",
       "        vertical-align: middle;\n",
       "    }\n",
       "\n",
       "    .dataframe tbody tr th {\n",
       "        vertical-align: top;\n",
       "    }\n",
       "\n",
       "    .dataframe thead th {\n",
       "        text-align: right;\n",
       "    }\n",
       "</style>\n",
       "<table border=\"1\" class=\"dataframe\">\n",
       "  <thead>\n",
       "    <tr style=\"text-align: right;\">\n",
       "      <th></th>\n",
       "      <th>Age</th>\n",
       "      <th>Frequency</th>\n",
       "    </tr>\n",
       "  </thead>\n",
       "  <tbody>\n",
       "    <tr>\n",
       "      <th>0</th>\n",
       "      <td>19.0</td>\n",
       "      <td>3</td>\n",
       "    </tr>\n",
       "    <tr>\n",
       "      <th>1</th>\n",
       "      <td>20.0</td>\n",
       "      <td>13</td>\n",
       "    </tr>\n",
       "    <tr>\n",
       "      <th>2</th>\n",
       "      <td>21.0</td>\n",
       "      <td>17</td>\n",
       "    </tr>\n",
       "    <tr>\n",
       "      <th>3</th>\n",
       "      <td>22.0</td>\n",
       "      <td>35</td>\n",
       "    </tr>\n",
       "    <tr>\n",
       "      <th>4</th>\n",
       "      <td>23.0</td>\n",
       "      <td>41</td>\n",
       "    </tr>\n",
       "    <tr>\n",
       "      <th>5</th>\n",
       "      <td>24.0</td>\n",
       "      <td>78</td>\n",
       "    </tr>\n",
       "    <tr>\n",
       "      <th>6</th>\n",
       "      <td>25.0</td>\n",
       "      <td>98</td>\n",
       "    </tr>\n",
       "    <tr>\n",
       "      <th>7</th>\n",
       "      <td>26.0</td>\n",
       "      <td>120</td>\n",
       "    </tr>\n",
       "    <tr>\n",
       "      <th>8</th>\n",
       "      <td>27.0</td>\n",
       "      <td>125</td>\n",
       "    </tr>\n",
       "    <tr>\n",
       "      <th>9</th>\n",
       "      <td>28.0</td>\n",
       "      <td>139</td>\n",
       "    </tr>\n",
       "    <tr>\n",
       "      <th>10</th>\n",
       "      <td>29.0</td>\n",
       "      <td>115</td>\n",
       "    </tr>\n",
       "    <tr>\n",
       "      <th>11</th>\n",
       "      <td>30.0</td>\n",
       "      <td>90</td>\n",
       "    </tr>\n",
       "    <tr>\n",
       "      <th>12</th>\n",
       "      <td>31.0</td>\n",
       "      <td>61</td>\n",
       "    </tr>\n",
       "    <tr>\n",
       "      <th>13</th>\n",
       "      <td>32.0</td>\n",
       "      <td>31</td>\n",
       "    </tr>\n",
       "    <tr>\n",
       "      <th>14</th>\n",
       "      <td>33.0</td>\n",
       "      <td>22</td>\n",
       "    </tr>\n",
       "    <tr>\n",
       "      <th>15</th>\n",
       "      <td>34.0</td>\n",
       "      <td>7</td>\n",
       "    </tr>\n",
       "    <tr>\n",
       "      <th>16</th>\n",
       "      <td>35.0</td>\n",
       "      <td>3</td>\n",
       "    </tr>\n",
       "    <tr>\n",
       "      <th>17</th>\n",
       "      <td>36.0</td>\n",
       "      <td>2</td>\n",
       "    </tr>\n",
       "  </tbody>\n",
       "</table>\n",
       "</div>"
      ],
      "text/plain": [
       "     Age  Frequency\n",
       "0   19.0          3\n",
       "1   20.0         13\n",
       "2   21.0         17\n",
       "3   22.0         35\n",
       "4   23.0         41\n",
       "5   24.0         78\n",
       "6   25.0         98\n",
       "7   26.0        120\n",
       "8   27.0        125\n",
       "9   28.0        139\n",
       "10  29.0        115\n",
       "11  30.0         90\n",
       "12  31.0         61\n",
       "13  32.0         31\n",
       "14  33.0         22\n",
       "15  34.0          7\n",
       "16  35.0          3\n",
       "17  36.0          2"
      ]
     },
     "execution_count": 200,
     "metadata": {},
     "output_type": "execute_result"
    }
   ],
   "source": [
    "frequency_distribution = ages_population2_df['observation'].value_counts().sort_index().reset_index()\n",
    "\n",
    "frequency_distribution.columns = ['Age', 'Frequency']\n",
    "\n",
    "frequency_distribution"
   ]
  },
  {
   "cell_type": "code",
   "execution_count": 204,
   "metadata": {},
   "outputs": [
    {
     "data": {
      "image/png": "[encoded data removed]",
      "text/plain": [
       "<Figure size 640x480 with 1 Axes>"
      ]
     },
     "metadata": {},
     "output_type": "display_data"
    }
   ],
   "source": [
    "bin_edges = [i - 0.5 for i in range(1, 36)]\n",
    "\n",
    "plt.hist(ages_population2_df, bins=bin_edges, rwidth=0.8, color='powderblue')\n",
    "\n",
    "# Calculate the mean\n",
    "mean_value = ages_population2_df['observation'].mean()\n",
    "\n",
    "# Display the mean as a vertical line on the histogram\n",
    "plt.axvline(mean_value, color='cadetblue', linestyle='dashed', linewidth=2, label=f'Mean: {mean_value}')\n",
    "\n",
    "plt.xlabel('Age')\n",
    "plt.ylabel('Frequency')\n",
    "plt.title('Histogram of age')\n",
    "\n",
    "plt.legend()\n",
    "\n",
    "plt.show()"
   ]
  },
  {
   "cell_type": "markdown",
   "metadata": {},
   "source": [
    "####  4.- What do you see? Is there any difference with the frequency distribution in step 1?"
   ]
  },
  {
   "cell_type": "markdown",
   "metadata": {},
   "source": [
    "The distribution appears to be unimodal (having one mode) and skewed to the right. Vs almost perfect normal distribution in the previous graph.\n",
    "\n",
    "This means that the majority of individuals in the dataset are concentrated in the younger age groups, with fewer individuals in the older age groups. Vs previous graph where age distribution is more sparsed.\n",
    "\n",
    "The mode appears to be in the age group around 26.0.\n",
    "\n",
    "There are very few individuals in the age groups 19.0, 34.0, 35.0, and 36.0, which can be considered outliers or less common age groups in the dataset. There is less outliers value in the previous data set (one above 80)\n",
    "\n",
    "Standard deviation is very narrowed, compared to previous distribution where the spread was large."
   ]
  },
  {
   "cell_type": "markdown",
   "metadata": {},
   "source": [
    "#### 5.- Calculate the mean and standard deviation. Compare the results with the mean and standard deviation in step 2. What do you think?"
   ]
  },
  {
   "cell_type": "code",
   "execution_count": 205,
   "metadata": {},
   "outputs": [
    {
     "name": "stdout",
     "output_type": "stream",
     "text": [
      "The mean age is 27.16\n",
      "The standard deviation for age is 2.969813932689186\n"
     ]
    }
   ],
   "source": [
    "# your code here\n",
    "mean_age = ages_population2_df['observation'].mean()\n",
    "print(f\"The mean age is {mean_age:.2f}\")\n",
    "\n",
    "\n",
    "std_age = ages_population2_df['observation'].std()\n",
    "print(f\"The standard deviation for age is {std_age}\")"
   ]
  },
  {
   "cell_type": "markdown",
   "metadata": {},
   "source": [
    "Age mean is younger and the spread is very narrowed, indicated high concentration of individuals around the mean."
   ]
  },
  {
   "cell_type": "markdown",
   "metadata": {},
   "source": [
    "## Challenge 5\n",
    "Now is the turn of `ages_population3.csv`.\n",
    "\n",
    "#### 1.- Read the file `ages_population3.csv`. Calculate the frequency distribution and plot it."
   ]
  },
  {
   "cell_type": "code",
   "execution_count": 207,
   "metadata": {},
   "outputs": [
    {
     "data": {
      "text/html": [
       "<div>\n",
       "<style scoped>\n",
       "    .dataframe tbody tr th:only-of-type {\n",
       "        vertical-align: middle;\n",
       "    }\n",
       "\n",
       "    .dataframe tbody tr th {\n",
       "        vertical-align: top;\n",
       "    }\n",
       "\n",
       "    .dataframe thead th {\n",
       "        text-align: right;\n",
       "    }\n",
       "</style>\n",
       "<table border=\"1\" class=\"dataframe\">\n",
       "  <thead>\n",
       "    <tr style=\"text-align: right;\">\n",
       "      <th></th>\n",
       "      <th>observation</th>\n",
       "    </tr>\n",
       "  </thead>\n",
       "  <tbody>\n",
       "    <tr>\n",
       "      <th>0</th>\n",
       "      <td>21.0</td>\n",
       "    </tr>\n",
       "    <tr>\n",
       "      <th>1</th>\n",
       "      <td>21.0</td>\n",
       "    </tr>\n",
       "    <tr>\n",
       "      <th>2</th>\n",
       "      <td>24.0</td>\n",
       "    </tr>\n",
       "    <tr>\n",
       "      <th>3</th>\n",
       "      <td>31.0</td>\n",
       "    </tr>\n",
       "    <tr>\n",
       "      <th>4</th>\n",
       "      <td>54.0</td>\n",
       "    </tr>\n",
       "    <tr>\n",
       "      <th>5</th>\n",
       "      <td>52.0</td>\n",
       "    </tr>\n",
       "    <tr>\n",
       "      <th>6</th>\n",
       "      <td>37.0</td>\n",
       "    </tr>\n",
       "    <tr>\n",
       "      <th>7</th>\n",
       "      <td>69.0</td>\n",
       "    </tr>\n",
       "    <tr>\n",
       "      <th>8</th>\n",
       "      <td>36.0</td>\n",
       "    </tr>\n",
       "    <tr>\n",
       "      <th>9</th>\n",
       "      <td>30.0</td>\n",
       "    </tr>\n",
       "  </tbody>\n",
       "</table>\n",
       "</div>"
      ],
      "text/plain": [
       "   observation\n",
       "0         21.0\n",
       "1         21.0\n",
       "2         24.0\n",
       "3         31.0\n",
       "4         54.0\n",
       "5         52.0\n",
       "6         37.0\n",
       "7         69.0\n",
       "8         36.0\n",
       "9         30.0"
      ]
     },
     "execution_count": 207,
     "metadata": {},
     "output_type": "execute_result"
    }
   ],
   "source": [
    "# your code here\n",
    "ages_population3 = pd.read_csv('/Users/amandine/Desktop/Ironhack/03_Week/Descriptive-Stats/data/ages_population3.csv')\n",
    "ages_population3.head(10)"
   ]
  },
  {
   "cell_type": "code",
   "execution_count": 209,
   "metadata": {},
   "outputs": [
    {
     "data": {
      "text/html": [
       "<div>\n",
       "<style scoped>\n",
       "    .dataframe tbody tr th:only-of-type {\n",
       "        vertical-align: middle;\n",
       "    }\n",
       "\n",
       "    .dataframe tbody tr th {\n",
       "        vertical-align: top;\n",
       "    }\n",
       "\n",
       "    .dataframe thead th {\n",
       "        text-align: right;\n",
       "    }\n",
       "</style>\n",
       "<table border=\"1\" class=\"dataframe\">\n",
       "  <thead>\n",
       "    <tr style=\"text-align: right;\">\n",
       "      <th></th>\n",
       "      <th>observation</th>\n",
       "    </tr>\n",
       "  </thead>\n",
       "  <tbody>\n",
       "    <tr>\n",
       "      <th>count</th>\n",
       "      <td>1000.000000</td>\n",
       "    </tr>\n",
       "    <tr>\n",
       "      <th>mean</th>\n",
       "      <td>41.989000</td>\n",
       "    </tr>\n",
       "    <tr>\n",
       "      <th>std</th>\n",
       "      <td>16.144706</td>\n",
       "    </tr>\n",
       "    <tr>\n",
       "      <th>min</th>\n",
       "      <td>1.000000</td>\n",
       "    </tr>\n",
       "    <tr>\n",
       "      <th>25%</th>\n",
       "      <td>30.000000</td>\n",
       "    </tr>\n",
       "    <tr>\n",
       "      <th>50%</th>\n",
       "      <td>40.000000</td>\n",
       "    </tr>\n",
       "    <tr>\n",
       "      <th>75%</th>\n",
       "      <td>53.000000</td>\n",
       "    </tr>\n",
       "    <tr>\n",
       "      <th>max</th>\n",
       "      <td>77.000000</td>\n",
       "    </tr>\n",
       "  </tbody>\n",
       "</table>\n",
       "</div>"
      ],
      "text/plain": [
       "       observation\n",
       "count  1000.000000\n",
       "mean     41.989000\n",
       "std      16.144706\n",
       "min       1.000000\n",
       "25%      30.000000\n",
       "50%      40.000000\n",
       "75%      53.000000\n",
       "max      77.000000"
      ]
     },
     "execution_count": 209,
     "metadata": {},
     "output_type": "execute_result"
    }
   ],
   "source": [
    "ages_population3.describe()"
   ]
  },
  {
   "cell_type": "code",
   "execution_count": 208,
   "metadata": {},
   "outputs": [
    {
     "data": {
      "text/html": [
       "<div>\n",
       "<style scoped>\n",
       "    .dataframe tbody tr th:only-of-type {\n",
       "        vertical-align: middle;\n",
       "    }\n",
       "\n",
       "    .dataframe tbody tr th {\n",
       "        vertical-align: top;\n",
       "    }\n",
       "\n",
       "    .dataframe thead th {\n",
       "        text-align: right;\n",
       "    }\n",
       "</style>\n",
       "<table border=\"1\" class=\"dataframe\">\n",
       "  <thead>\n",
       "    <tr style=\"text-align: right;\">\n",
       "      <th></th>\n",
       "      <th>Age</th>\n",
       "      <th>Frequency</th>\n",
       "    </tr>\n",
       "  </thead>\n",
       "  <tbody>\n",
       "    <tr>\n",
       "      <th>0</th>\n",
       "      <td>1.0</td>\n",
       "      <td>1</td>\n",
       "    </tr>\n",
       "    <tr>\n",
       "      <th>1</th>\n",
       "      <td>2.0</td>\n",
       "      <td>2</td>\n",
       "    </tr>\n",
       "    <tr>\n",
       "      <th>2</th>\n",
       "      <td>4.0</td>\n",
       "      <td>2</td>\n",
       "    </tr>\n",
       "    <tr>\n",
       "      <th>3</th>\n",
       "      <td>5.0</td>\n",
       "      <td>1</td>\n",
       "    </tr>\n",
       "    <tr>\n",
       "      <th>4</th>\n",
       "      <td>7.0</td>\n",
       "      <td>1</td>\n",
       "    </tr>\n",
       "    <tr>\n",
       "      <th>...</th>\n",
       "      <td>...</td>\n",
       "      <td>...</td>\n",
       "    </tr>\n",
       "    <tr>\n",
       "      <th>70</th>\n",
       "      <td>73.0</td>\n",
       "      <td>6</td>\n",
       "    </tr>\n",
       "    <tr>\n",
       "      <th>71</th>\n",
       "      <td>74.0</td>\n",
       "      <td>6</td>\n",
       "    </tr>\n",
       "    <tr>\n",
       "      <th>72</th>\n",
       "      <td>75.0</td>\n",
       "      <td>2</td>\n",
       "    </tr>\n",
       "    <tr>\n",
       "      <th>73</th>\n",
       "      <td>76.0</td>\n",
       "      <td>1</td>\n",
       "    </tr>\n",
       "    <tr>\n",
       "      <th>74</th>\n",
       "      <td>77.0</td>\n",
       "      <td>2</td>\n",
       "    </tr>\n",
       "  </tbody>\n",
       "</table>\n",
       "<p>75 rows × 2 columns</p>\n",
       "</div>"
      ],
      "text/plain": [
       "     Age  Frequency\n",
       "0    1.0          1\n",
       "1    2.0          2\n",
       "2    4.0          2\n",
       "3    5.0          1\n",
       "4    7.0          1\n",
       "..   ...        ...\n",
       "70  73.0          6\n",
       "71  74.0          6\n",
       "72  75.0          2\n",
       "73  76.0          1\n",
       "74  77.0          2\n",
       "\n",
       "[75 rows x 2 columns]"
      ]
     },
     "execution_count": 208,
     "metadata": {},
     "output_type": "execute_result"
    }
   ],
   "source": [
    "frequency_distribution = ages_population3['observation'].value_counts().sort_index().reset_index()\n",
    "\n",
    "frequency_distribution.columns = ['Age', 'Frequency']\n",
    "\n",
    "frequency_distribution"
   ]
  },
  {
   "cell_type": "code",
   "execution_count": 210,
   "metadata": {},
   "outputs": [
    {
     "data": {
      "image/png": "[encoded data removed]",
      "text/plain": [
       "<Figure size 640x480 with 1 Axes>"
      ]
     },
     "metadata": {},
     "output_type": "display_data"
    }
   ],
   "source": [
    "bin_edges = [i - 0.5 for i in range(1, 90)]\n",
    "\n",
    "plt.hist(ages_population3, bins=bin_edges, rwidth=0.8, color='powderblue')\n",
    "\n",
    "# Calculate the mean\n",
    "mean_value = ages_population3['observation'].mean()\n",
    "\n",
    "# Display the mean as a vertical line on the histogram\n",
    "plt.axvline(mean_value, color='cadetblue', linestyle='dashed', linewidth=2, label=f'Mean: {mean_value}')\n",
    "\n",
    "plt.xlabel('Age')\n",
    "plt.ylabel('Frequency')\n",
    "plt.title('Histogram of age')\n",
    "\n",
    "plt.legend()\n",
    "\n",
    "plt.show()"
   ]
  },
  {
   "cell_type": "markdown",
   "metadata": {},
   "source": [
    "Here we have two maximum.\n",
    "\n",
    "Normal distribution skewed to the right.\n",
    "\n",
    "Mean around 40/50 but withhigher standard deviation.\n",
    "\n",
    "Because if we look at the right, we have lots of values away from the mean, on the left we have values close to the mean."
   ]
  },
  {
   "cell_type": "markdown",
   "metadata": {},
   "source": [
    "#### 2.- Calculate the mean and standard deviation. Compare the results with the plot in step 1. What is happening?"
   ]
  },
  {
   "cell_type": "code",
   "execution_count": 212,
   "metadata": {},
   "outputs": [
    {
     "name": "stdout",
     "output_type": "stream",
     "text": [
      "The mean age is 41.99\n",
      "The standard deviation for age is  16.14\n"
     ]
    }
   ],
   "source": [
    "# your code here\n",
    "mean_age = ages_population3['observation'].mean()\n",
    "print(f\"The mean age is {mean_age:.2f}\")\n",
    "\n",
    "\n",
    "std_age = ages_population3['observation'].std()\n",
    "print(f\"The standard deviation for age is {std_age: .2f}\")"
   ]
  },
  {
   "cell_type": "markdown",
   "metadata": {},
   "source": [
    "Value more sparsed and far away from the mean.\n",
    "\n",
    "Spread is larger."
   ]
  },
  {
   "cell_type": "markdown",
   "metadata": {},
   "source": [
    "#### 3.- Calculate the four quartiles. Use the results to explain your reasoning for question in step 2. How much of a difference is there between the median and the mean?"
   ]
  },
  {
   "cell_type": "code",
   "execution_count": 213,
   "metadata": {},
   "outputs": [
    {
     "name": "stdout",
     "output_type": "stream",
     "text": [
      "the first quartile is 30.0\n",
      "the second quartile is 40.0\n",
      "the third quartile is 53.0\n",
      "the fourth quartile is 77.0\n"
     ]
    }
   ],
   "source": [
    "# your code here\n",
    "\n",
    "sorted_ages = ages_population3['observation'].sort_values()\n",
    "\n",
    "q1 = np.quantile(sorted_ages, 0.25) \n",
    "print(\"the first quartile is\", q1)\n",
    "q2 = np.quantile(sorted_ages, 0.50)\n",
    "print(\"the second quartile is\",q2)\n",
    "q3 = np.quantile(sorted_ages, 0.75)\n",
    "print(\"the third quartile is\", q3)\n",
    "q4 = np.quantile(sorted_ages, 1)\n",
    "print(\"the fourth quartile is\", q4)"
   ]
  },
  {
   "cell_type": "markdown",
   "metadata": {},
   "source": [
    "Difference = |Mean - Median| = |41.99 - 40.0| = 1.99\n",
    "\n",
    "The result show that the data set is positively skewed. \n",
    "\n",
    "The small difference suggest a cluster around the median (40 yo).\n",
    "\n",
    "Very reduced spread, values highly concentrated around the median."
   ]
  },
  {
   "cell_type": "markdown",
   "metadata": {},
   "source": [
    "#### 4.- Calculate other percentiles that might be useful to give more arguments to your reasoning."
   ]
  },
  {
   "cell_type": "code",
   "execution_count": 222,
   "metadata": {},
   "outputs": [
    {
     "name": "stdout",
     "output_type": "stream",
     "text": [
      "10th Percentile: 22.000\n",
      "90th Percentile: 67.000\n"
     ]
    }
   ],
   "source": [
    "# Jesus' method\n",
    "\n",
    "#print(np.percentile(name of dataframe, % we want))\n",
    "\n",
    "percentiles = np.percentile(sorted_ages, [10, 90])\n",
    "\n",
    "print(f\"10th Percentile: {percentiles[0]:.3f}\")\n",
    "print(f\"90th Percentile: {percentiles[1]:.3f}\")\n",
    "\n",
    "#Very skewed, difference between 2nd and 3rd quartile is lower than diff between 3rd and 4th quartile.\n",
    "\n",
    "#10th and 90th percentile are useful to identify outliers. Those are very far away from the mean and the IQR."
   ]
  },
  {
   "cell_type": "code",
   "execution_count": 243,
   "metadata": {},
   "outputs": [
    {
     "data": {
      "image/png": "[encoded data removed]",
      "text/plain": [
       "<Figure size 640x480 with 1 Axes>"
      ]
     },
     "metadata": {},
     "output_type": "display_data"
    }
   ],
   "source": [
    "#Here we can try to do normal distribution to see if it's gonna be skewed to the left\n",
    "\n",
    "from scipy.stats import norm\n",
    "\n",
    "#ages_population3_bis = np.array(ages_population3, dtype=float)\n",
    "\n",
    "mean = np.mean(ages_population3)\n",
    "std_dev = np.std(ages_population3)\n",
    "\n",
    "# Create a range of x-values (ages)\n",
    "x = np.linspace(min(ages_population3), max(ages_population3), 1000)\n",
    "\n",
    "# Calculate the corresponding y-values using the normal distribution\n",
    "y = norm.pdf(x, mean, std_dev)\n",
    "\n",
    "# Plot the normal distribution curve\n",
    "plt.plot(x, y, 'b-', label='Normal Distribution')\n",
    "\n",
    "# Set the x-axis and y-axis labels\n",
    "plt.xlabel('Age')\n",
    "plt.ylabel('Probability Density')\n",
    "plt.title('Normal Distribution of Age Data')\n",
    "\n",
    "# Add a legend\n",
    "plt.legend()\n",
    "\n",
    "# Show the plot\n",
    "plt.show()"
   ]
  },
  {
   "cell_type": "code",
   "execution_count": null,
   "metadata": {},
   "outputs": [],
   "source": [
    "\"\"\"\n",
    "your comments here\n",
    "\"\"\"\n",
    "#Steps to analyse\n",
    "\n",
    "#1 do some cleaning\n",
    "#2 do EDA -> Try to do something general for everything\n",
    "#3 analysis\n",
    "\n",
    "#with enumerate function = make sure all the values are numerical\n",
    "#but better to use enumerate(num) -> better to have random value so it is template \n",
    "#then put num = name of the dataframe =ages3.np.select_dtypes(np.number) ???\n",
    "#num = ages3.select_dtypes(np.number)"
   ]
  },
  {
   "cell_type": "markdown",
   "metadata": {},
   "source": [
    "## Bonus challenge\n",
    "Compare the information about the three neighbourhoods. Prepare a report about the three of them. Remember to find out which are their similarities and their differences backing your arguments in basic statistics."
   ]
  },
  {
   "cell_type": "code",
   "execution_count": 283,
   "metadata": {},
   "outputs": [],
   "source": [
    "#we can put a function with \"warning ignore\" to ignore the warning function in Python"
   ]
  },
  {
   "cell_type": "code",
   "execution_count": 289,
   "metadata": {},
   "outputs": [
    {
     "name": "stdout",
     "output_type": "stream",
     "text": [
      "Statistics for Neighborhood 1:\n",
      "       observation\n",
      "count    1000.0000\n",
      "mean       36.5600\n",
      "std        12.8165\n",
      "min         1.0000\n",
      "25%        28.0000\n",
      "50%        37.0000\n",
      "75%        45.0000\n",
      "max        82.0000\n",
      "Statistics for Neighborhood 2:\n",
      "       observation\n",
      "count  1000.000000\n",
      "mean     27.155000\n",
      "std       2.969814\n",
      "min      19.000000\n",
      "25%      25.000000\n",
      "50%      27.000000\n",
      "75%      29.000000\n",
      "max      36.000000\n",
      "Statistics for Neighborhood 3:\n",
      "       observations\n",
      "count   1000.000000\n",
      "mean      41.989000\n",
      "std       16.144706\n",
      "min        1.000000\n",
      "25%       30.000000\n",
      "50%       40.000000\n",
      "75%       53.000000\n",
      "max       77.000000\n"
     ]
    }
   ],
   "source": [
    "# Create a list of DataFrame objects for the three neighborhoods\n",
    "neighborhoods = [ages_population_df, ages_population2_df, ages_population3]  \n",
    "\n",
    "# Define the attributes you want to analyze\n",
    "attributes = ['mean', 'std', 'min', 'max']  # Replace with actual attribute names from your dataset\n",
    "\n",
    "# Create a dictionary to store statistics for each neighborhood\n",
    "neighborhood_stats = {}\n",
    "\n",
    "# Create string identifiers for neighborhoods\n",
    "neighborhood_names = ['Neighborhood 1', 'Neighborhood 2', 'Neighborhood 3']\n",
    "\n",
    "# Calculate and store basic statistics for each attribute in each neighborhood\n",
    "for i, neighborhood in enumerate(neighborhoods):\n",
    "    stats = neighborhood.describe()\n",
    "    neighborhood_stats[neighborhood_names[i]] = stats\n",
    "\n",
    "# Print and display statistics for each neighborhood and attribute\n",
    "for neighborhood, stats in neighborhood_stats.items():\n",
    "    print(f\"Statistics for {neighborhood}:\")\n",
    "    print(stats)"
   ]
  },
  {
   "cell_type": "code",
   "execution_count": 292,
   "metadata": {},
   "outputs": [
    {
     "data": {
      "text/html": [
       "<div>\n",
       "<style scoped>\n",
       "    .dataframe tbody tr th:only-of-type {\n",
       "        vertical-align: middle;\n",
       "    }\n",
       "\n",
       "    .dataframe tbody tr th {\n",
       "        vertical-align: top;\n",
       "    }\n",
       "\n",
       "    .dataframe thead th {\n",
       "        text-align: right;\n",
       "    }\n",
       "</style>\n",
       "<table border=\"1\" class=\"dataframe\">\n",
       "  <thead>\n",
       "    <tr style=\"text-align: right;\">\n",
       "      <th></th>\n",
       "      <th>Neighborhood 1</th>\n",
       "      <th>Neighborhood 2</th>\n",
       "      <th>Neighborhood 3</th>\n",
       "    </tr>\n",
       "  </thead>\n",
       "  <tbody>\n",
       "    <tr>\n",
       "      <th>mean</th>\n",
       "      <td>36.5600</td>\n",
       "      <td>27.155000</td>\n",
       "      <td>41.989000</td>\n",
       "    </tr>\n",
       "    <tr>\n",
       "      <th>std</th>\n",
       "      <td>12.8165</td>\n",
       "      <td>2.969814</td>\n",
       "      <td>16.144706</td>\n",
       "    </tr>\n",
       "    <tr>\n",
       "      <th>min</th>\n",
       "      <td>1.0000</td>\n",
       "      <td>19.000000</td>\n",
       "      <td>1.000000</td>\n",
       "    </tr>\n",
       "    <tr>\n",
       "      <th>25%</th>\n",
       "      <td>28.0000</td>\n",
       "      <td>25.000000</td>\n",
       "      <td>30.000000</td>\n",
       "    </tr>\n",
       "    <tr>\n",
       "      <th>50%</th>\n",
       "      <td>37.0000</td>\n",
       "      <td>27.000000</td>\n",
       "      <td>40.000000</td>\n",
       "    </tr>\n",
       "    <tr>\n",
       "      <th>75%</th>\n",
       "      <td>45.0000</td>\n",
       "      <td>29.000000</td>\n",
       "      <td>53.000000</td>\n",
       "    </tr>\n",
       "    <tr>\n",
       "      <th>max</th>\n",
       "      <td>82.0000</td>\n",
       "      <td>36.000000</td>\n",
       "      <td>77.000000</td>\n",
       "    </tr>\n",
       "  </tbody>\n",
       "</table>\n",
       "</div>"
      ],
      "text/plain": [
       "      Neighborhood 1  Neighborhood 2  Neighborhood 3\n",
       "mean         36.5600       27.155000       41.989000\n",
       "std          12.8165        2.969814       16.144706\n",
       "min           1.0000       19.000000        1.000000\n",
       "25%          28.0000       25.000000       30.000000\n",
       "50%          37.0000       27.000000       40.000000\n",
       "75%          45.0000       29.000000       53.000000\n",
       "max          82.0000       36.000000       77.000000"
      ]
     },
     "execution_count": 292,
     "metadata": {},
     "output_type": "execute_result"
    }
   ],
   "source": [
    "data = {\n",
    "    'Neighborhood 1': [36.5600, 12.8165, 1.0000, 28.0000, 37.0000, 45.0000, 82.0000],\n",
    "    'Neighborhood 2': [27.1550, 2.969814, 19.0000, 25.0000, 27.0000, 29.0000, 36.0000],\n",
    "    'Neighborhood 3': [41.9890, 16.144706, 1.0000, 30.0000, 40.0000, 53.0000, 77.0000]\n",
    "}\n",
    "\n",
    "# Define attributes and create a DataFrame with neighborhoods as columns\n",
    "attributes = ['mean', 'std', 'min', '25%', '50%', '75%', 'max']\n",
    "neighborhood_stats_df = pd.DataFrame(data, index=attributes)\n",
    "\n",
    "# Display the DataFrame\n",
    "neighborhood_stats_df"
   ]
  },
  {
   "cell_type": "code",
   "execution_count": 295,
   "metadata": {},
   "outputs": [
    {
     "data": {
      "text/plain": [
       "<Figure size 1000x600 with 0 Axes>"
      ]
     },
     "metadata": {},
     "output_type": "display_data"
    },
    {
     "data": {
      "image/png": "[encoded data removed]",
      "text/plain": [
       "<Figure size 640x480 with 1 Axes>"
      ]
     },
     "metadata": {},
     "output_type": "display_data"
    }
   ],
   "source": [
    "# Transpose the DataFrame for plotting\n",
    "neighborhood_stats_df = neighborhood_stats_df.T\n",
    "\n",
    "# Create a bar plot\n",
    "plt.figure(figsize=(10, 6))\n",
    "neighborhood_stats_df.plot(kind='bar', rot=0)\n",
    "plt.title('Comparison of Ages between different Neighborhoods')\n",
    "plt.xlabel('Neighborhood')\n",
    "plt.ylabel('Value')\n",
    "plt.legend(title='Attributes', loc='upper left', bbox_to_anchor=(1, 1))\n",
    "\n",
    "# Show the plot\n",
    "plt.show()"
   ]
  },
  {
   "cell_type": "code",
   "execution_count": 301,
   "metadata": {},
   "outputs": [
    {
     "data": {
      "text/plain": [
       "<Figure size 1000x600 with 0 Axes>"
      ]
     },
     "metadata": {},
     "output_type": "display_data"
    },
    {
     "data": {
      "image/png": "[encoded data removed]",
      "text/plain": [
       "<Figure size 640x480 with 1 Axes>"
      ]
     },
     "metadata": {},
     "output_type": "display_data"
    }
   ],
   "source": [
    "# Transpose the DataFrame for plotting\n",
    "neighborhood_stats_df = neighborhood_stats_df.T\n",
    "\n",
    "colors = ['lemonchiffon', 'palegreen', 'lightpink']\n",
    "\n",
    "# Create a bar plot\n",
    "plt.figure(figsize=(10, 6))\n",
    "neighborhood_stats_df.plot(kind='bar', rot=0, color=colors)\n",
    "plt.title('Comparison of Ages between different Neighborhoods')\n",
    "plt.xlabel('Neighborhood')\n",
    "plt.ylabel('Value')\n",
    "plt.legend(title='Neighborhoods', loc='upper left', bbox_to_anchor=(1, 1))\n",
    "\n",
    "plt.show()"
   ]
  }
 ],
 "metadata": {
  "kernelspec": {
   "display_name": "Python 3 (ipykernel)",
   "language": "python",
   "name": "python3"
  },
  "language_info": {
   "codemirror_mode": {
    "name": "ipython",
    "version": 3
   },
   "file_extension": ".py",
   "mimetype": "text/x-python",
   "name": "python",
   "nbconvert_exporter": "python",
   "pygments_lexer": "ipython3",
   "version": "3.10.9"
  }
 },
 "nbformat": 4,
 "nbformat_minor": 2
}
